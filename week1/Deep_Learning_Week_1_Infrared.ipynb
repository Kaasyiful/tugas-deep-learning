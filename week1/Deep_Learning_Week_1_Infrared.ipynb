{
  "cells": [
    {
      "cell_type": "markdown",
      "metadata": {
        "colab_type": "text",
        "id": "view-in-github"
      },
      "source": [
        "<a href=\"https://colab.research.google.com/github/khalishekahmad/teachingMLDL/blob/deep-learning/Deep_Learning_Week_1.ipynb\" target=\"_parent\"><img src=\"https://colab.research.google.com/assets/colab-badge.svg\" alt=\"Open In Colab\"/></a>"
      ]
    },
    {
      "cell_type": "markdown",
      "metadata": {
        "id": "yIDeUs_Qv5Wh"
      },
      "source": [
        "# Penyelesaian Tugas Deep Learning menggunakan PyTorch and TensorFlow (Week 1, Dataset Infrared)"
      ]
    },
    {
      "cell_type": "markdown",
      "metadata": {},
      "source": [
        "# Persiapan: Pemuatan dan Preprocessing Data"
      ]
    },
    {
      "cell_type": "markdown",
      "metadata": {
        "id": "X_vW29SiwBCG"
      },
      "source": [
        "## 1. Menginstal atau Memastikan Instalasi PyTorch, Tensorflow dan Modul Pendukung Seperti NumPy dan Pandas"
      ]
    },
    {
      "cell_type": "code",
      "execution_count": 15,
      "metadata": {
        "colab": {
          "base_uri": "https://localhost:8080/"
        },
        "id": "UI-RHib4pRBV",
        "outputId": "9ce6321f-e445-4572-f8aa-32ba16c862be"
      },
      "outputs": [
        {
          "name": "stdout",
          "output_type": "stream",
          "text": [
            "Requirement already satisfied: pandas in c:\\users\\husai\\appdata\\local\\packages\\pythonsoftwarefoundation.python.3.11_qbz5n2kfra8p0\\localcache\\local-packages\\python311\\site-packages (2.2.3)\n",
            "Requirement already satisfied: numpy in c:\\users\\husai\\appdata\\local\\packages\\pythonsoftwarefoundation.python.3.11_qbz5n2kfra8p0\\localcache\\local-packages\\python311\\site-packages (2.0.2)\n",
            "Requirement already satisfied: matplotlib in c:\\users\\husai\\appdata\\local\\packages\\pythonsoftwarefoundation.python.3.11_qbz5n2kfra8p0\\localcache\\local-packages\\python311\\site-packages (3.10.1)\n",
            "Requirement already satisfied: scikit-learn in c:\\users\\husai\\appdata\\local\\packages\\pythonsoftwarefoundation.python.3.11_qbz5n2kfra8p0\\localcache\\local-packages\\python311\\site-packages (1.6.1)\n",
            "Requirement already satisfied: torch in c:\\users\\husai\\appdata\\local\\packages\\pythonsoftwarefoundation.python.3.11_qbz5n2kfra8p0\\localcache\\local-packages\\python311\\site-packages (2.6.0)\n",
            "Requirement already satisfied: tensorflow in c:\\users\\husai\\appdata\\local\\packages\\pythonsoftwarefoundation.python.3.11_qbz5n2kfra8p0\\localcache\\local-packages\\python311\\site-packages (2.18.0)\n",
            "Requirement already satisfied: python-dateutil>=2.8.2 in c:\\users\\husai\\appdata\\local\\packages\\pythonsoftwarefoundation.python.3.11_qbz5n2kfra8p0\\localcache\\local-packages\\python311\\site-packages (from pandas) (2.9.0.post0)\n",
            "Requirement already satisfied: pytz>=2020.1 in c:\\users\\husai\\appdata\\local\\packages\\pythonsoftwarefoundation.python.3.11_qbz5n2kfra8p0\\localcache\\local-packages\\python311\\site-packages (from pandas) (2025.1)\n",
            "Requirement already satisfied: tzdata>=2022.7 in c:\\users\\husai\\appdata\\local\\packages\\pythonsoftwarefoundation.python.3.11_qbz5n2kfra8p0\\localcache\\local-packages\\python311\\site-packages (from pandas) (2025.1)\n",
            "Requirement already satisfied: contourpy>=1.0.1 in c:\\users\\husai\\appdata\\local\\packages\\pythonsoftwarefoundation.python.3.11_qbz5n2kfra8p0\\localcache\\local-packages\\python311\\site-packages (from matplotlib) (1.3.1)\n",
            "Requirement already satisfied: cycler>=0.10 in c:\\users\\husai\\appdata\\local\\packages\\pythonsoftwarefoundation.python.3.11_qbz5n2kfra8p0\\localcache\\local-packages\\python311\\site-packages (from matplotlib) (0.12.1)\n",
            "Requirement already satisfied: fonttools>=4.22.0 in c:\\users\\husai\\appdata\\local\\packages\\pythonsoftwarefoundation.python.3.11_qbz5n2kfra8p0\\localcache\\local-packages\\python311\\site-packages (from matplotlib) (4.56.0)\n",
            "Requirement already satisfied: kiwisolver>=1.3.1 in c:\\users\\husai\\appdata\\local\\packages\\pythonsoftwarefoundation.python.3.11_qbz5n2kfra8p0\\localcache\\local-packages\\python311\\site-packages (from matplotlib) (1.4.8)\n",
            "Requirement already satisfied: packaging>=20.0 in c:\\users\\husai\\appdata\\local\\packages\\pythonsoftwarefoundation.python.3.11_qbz5n2kfra8p0\\localcache\\local-packages\\python311\\site-packages (from matplotlib) (24.2)\n",
            "Requirement already satisfied: pillow>=8 in c:\\users\\husai\\appdata\\local\\packages\\pythonsoftwarefoundation.python.3.11_qbz5n2kfra8p0\\localcache\\local-packages\\python311\\site-packages (from matplotlib) (11.1.0)\n",
            "Requirement already satisfied: pyparsing>=2.3.1 in c:\\users\\husai\\appdata\\local\\packages\\pythonsoftwarefoundation.python.3.11_qbz5n2kfra8p0\\localcache\\local-packages\\python311\\site-packages (from matplotlib) (3.2.1)\n",
            "Requirement already satisfied: scipy>=1.6.0 in c:\\users\\husai\\appdata\\local\\packages\\pythonsoftwarefoundation.python.3.11_qbz5n2kfra8p0\\localcache\\local-packages\\python311\\site-packages (from scikit-learn) (1.15.2)\n",
            "Requirement already satisfied: joblib>=1.2.0 in c:\\users\\husai\\appdata\\local\\packages\\pythonsoftwarefoundation.python.3.11_qbz5n2kfra8p0\\localcache\\local-packages\\python311\\site-packages (from scikit-learn) (1.4.2)\n",
            "Requirement already satisfied: threadpoolctl>=3.1.0 in c:\\users\\husai\\appdata\\local\\packages\\pythonsoftwarefoundation.python.3.11_qbz5n2kfra8p0\\localcache\\local-packages\\python311\\site-packages (from scikit-learn) (3.5.0)\n",
            "Requirement already satisfied: filelock in c:\\users\\husai\\appdata\\local\\packages\\pythonsoftwarefoundation.python.3.11_qbz5n2kfra8p0\\localcache\\local-packages\\python311\\site-packages (from torch) (3.17.0)\n",
            "Requirement already satisfied: typing-extensions>=4.10.0 in c:\\users\\husai\\appdata\\local\\packages\\pythonsoftwarefoundation.python.3.11_qbz5n2kfra8p0\\localcache\\local-packages\\python311\\site-packages (from torch) (4.12.2)\n",
            "Requirement already satisfied: networkx in c:\\users\\husai\\appdata\\local\\packages\\pythonsoftwarefoundation.python.3.11_qbz5n2kfra8p0\\localcache\\local-packages\\python311\\site-packages (from torch) (3.4.2)\n",
            "Requirement already satisfied: jinja2 in c:\\users\\husai\\appdata\\local\\packages\\pythonsoftwarefoundation.python.3.11_qbz5n2kfra8p0\\localcache\\local-packages\\python311\\site-packages (from torch) (3.1.6)\n",
            "Requirement already satisfied: fsspec in c:\\users\\husai\\appdata\\local\\packages\\pythonsoftwarefoundation.python.3.11_qbz5n2kfra8p0\\localcache\\local-packages\\python311\\site-packages (from torch) (2025.3.0)\n",
            "Requirement already satisfied: sympy==1.13.1 in c:\\users\\husai\\appdata\\local\\packages\\pythonsoftwarefoundation.python.3.11_qbz5n2kfra8p0\\localcache\\local-packages\\python311\\site-packages (from torch) (1.13.1)\n",
            "Requirement already satisfied: mpmath<1.4,>=1.1.0 in c:\\users\\husai\\appdata\\local\\packages\\pythonsoftwarefoundation.python.3.11_qbz5n2kfra8p0\\localcache\\local-packages\\python311\\site-packages (from sympy==1.13.1->torch) (1.3.0)\n",
            "Requirement already satisfied: tensorflow-intel==2.18.0 in c:\\users\\husai\\appdata\\local\\packages\\pythonsoftwarefoundation.python.3.11_qbz5n2kfra8p0\\localcache\\local-packages\\python311\\site-packages (from tensorflow) (2.18.0)\n",
            "Requirement already satisfied: absl-py>=1.0.0 in c:\\users\\husai\\appdata\\local\\packages\\pythonsoftwarefoundation.python.3.11_qbz5n2kfra8p0\\localcache\\local-packages\\python311\\site-packages (from tensorflow-intel==2.18.0->tensorflow) (2.1.0)\n",
            "Requirement already satisfied: astunparse>=1.6.0 in c:\\users\\husai\\appdata\\local\\packages\\pythonsoftwarefoundation.python.3.11_qbz5n2kfra8p0\\localcache\\local-packages\\python311\\site-packages (from tensorflow-intel==2.18.0->tensorflow) (1.6.3)\n",
            "Requirement already satisfied: flatbuffers>=24.3.25 in c:\\users\\husai\\appdata\\local\\packages\\pythonsoftwarefoundation.python.3.11_qbz5n2kfra8p0\\localcache\\local-packages\\python311\\site-packages (from tensorflow-intel==2.18.0->tensorflow) (25.2.10)\n",
            "Requirement already satisfied: gast!=0.5.0,!=0.5.1,!=0.5.2,>=0.2.1 in c:\\users\\husai\\appdata\\local\\packages\\pythonsoftwarefoundation.python.3.11_qbz5n2kfra8p0\\localcache\\local-packages\\python311\\site-packages (from tensorflow-intel==2.18.0->tensorflow) (0.6.0)\n",
            "Requirement already satisfied: google-pasta>=0.1.1 in c:\\users\\husai\\appdata\\local\\packages\\pythonsoftwarefoundation.python.3.11_qbz5n2kfra8p0\\localcache\\local-packages\\python311\\site-packages (from tensorflow-intel==2.18.0->tensorflow) (0.2.0)\n",
            "Requirement already satisfied: libclang>=13.0.0 in c:\\users\\husai\\appdata\\local\\packages\\pythonsoftwarefoundation.python.3.11_qbz5n2kfra8p0\\localcache\\local-packages\\python311\\site-packages (from tensorflow-intel==2.18.0->tensorflow) (18.1.1)\n",
            "Requirement already satisfied: opt-einsum>=2.3.2 in c:\\users\\husai\\appdata\\local\\packages\\pythonsoftwarefoundation.python.3.11_qbz5n2kfra8p0\\localcache\\local-packages\\python311\\site-packages (from tensorflow-intel==2.18.0->tensorflow) (3.4.0)\n",
            "Requirement already satisfied: protobuf!=4.21.0,!=4.21.1,!=4.21.2,!=4.21.3,!=4.21.4,!=4.21.5,<6.0.0dev,>=3.20.3 in c:\\users\\husai\\appdata\\local\\packages\\pythonsoftwarefoundation.python.3.11_qbz5n2kfra8p0\\localcache\\local-packages\\python311\\site-packages (from tensorflow-intel==2.18.0->tensorflow) (5.29.3)\n",
            "Requirement already satisfied: requests<3,>=2.21.0 in c:\\users\\husai\\appdata\\local\\packages\\pythonsoftwarefoundation.python.3.11_qbz5n2kfra8p0\\localcache\\local-packages\\python311\\site-packages (from tensorflow-intel==2.18.0->tensorflow) (2.32.3)\n",
            "Requirement already satisfied: setuptools in c:\\program files\\windowsapps\\pythonsoftwarefoundation.python.3.11_3.11.2544.0_x64__qbz5n2kfra8p0\\lib\\site-packages (from tensorflow-intel==2.18.0->tensorflow) (65.5.0)\n",
            "Requirement already satisfied: six>=1.12.0 in c:\\users\\husai\\appdata\\local\\packages\\pythonsoftwarefoundation.python.3.11_qbz5n2kfra8p0\\localcache\\local-packages\\python311\\site-packages (from tensorflow-intel==2.18.0->tensorflow) (1.17.0)\n",
            "Requirement already satisfied: termcolor>=1.1.0 in c:\\users\\husai\\appdata\\local\\packages\\pythonsoftwarefoundation.python.3.11_qbz5n2kfra8p0\\localcache\\local-packages\\python311\\site-packages (from tensorflow-intel==2.18.0->tensorflow) (2.5.0)\n",
            "Requirement already satisfied: wrapt>=1.11.0 in c:\\users\\husai\\appdata\\local\\packages\\pythonsoftwarefoundation.python.3.11_qbz5n2kfra8p0\\localcache\\local-packages\\python311\\site-packages (from tensorflow-intel==2.18.0->tensorflow) (1.17.2)\n",
            "Requirement already satisfied: grpcio<2.0,>=1.24.3 in c:\\users\\husai\\appdata\\local\\packages\\pythonsoftwarefoundation.python.3.11_qbz5n2kfra8p0\\localcache\\local-packages\\python311\\site-packages (from tensorflow-intel==2.18.0->tensorflow) (1.71.0)\n",
            "Requirement already satisfied: tensorboard<2.19,>=2.18 in c:\\users\\husai\\appdata\\local\\packages\\pythonsoftwarefoundation.python.3.11_qbz5n2kfra8p0\\localcache\\local-packages\\python311\\site-packages (from tensorflow-intel==2.18.0->tensorflow) (2.18.0)\n",
            "Requirement already satisfied: keras>=3.5.0 in c:\\users\\husai\\appdata\\local\\packages\\pythonsoftwarefoundation.python.3.11_qbz5n2kfra8p0\\localcache\\local-packages\\python311\\site-packages (from tensorflow-intel==2.18.0->tensorflow) (3.9.0)\n",
            "Requirement already satisfied: h5py>=3.11.0 in c:\\users\\husai\\appdata\\local\\packages\\pythonsoftwarefoundation.python.3.11_qbz5n2kfra8p0\\localcache\\local-packages\\python311\\site-packages (from tensorflow-intel==2.18.0->tensorflow) (3.13.0)\n",
            "Requirement already satisfied: ml-dtypes<0.5.0,>=0.4.0 in c:\\users\\husai\\appdata\\local\\packages\\pythonsoftwarefoundation.python.3.11_qbz5n2kfra8p0\\localcache\\local-packages\\python311\\site-packages (from tensorflow-intel==2.18.0->tensorflow) (0.4.1)\n",
            "Requirement already satisfied: tensorflow-io-gcs-filesystem>=0.23.1 in c:\\users\\husai\\appdata\\local\\packages\\pythonsoftwarefoundation.python.3.11_qbz5n2kfra8p0\\localcache\\local-packages\\python311\\site-packages (from tensorflow-intel==2.18.0->tensorflow) (0.31.0)\n",
            "Requirement already satisfied: MarkupSafe>=2.0 in c:\\users\\husai\\appdata\\local\\packages\\pythonsoftwarefoundation.python.3.11_qbz5n2kfra8p0\\localcache\\local-packages\\python311\\site-packages (from jinja2->torch) (3.0.2)\n",
            "Requirement already satisfied: wheel<1.0,>=0.23.0 in c:\\users\\husai\\appdata\\local\\packages\\pythonsoftwarefoundation.python.3.11_qbz5n2kfra8p0\\localcache\\local-packages\\python311\\site-packages (from astunparse>=1.6.0->tensorflow-intel==2.18.0->tensorflow) (0.45.1)\n",
            "Requirement already satisfied: rich in c:\\users\\husai\\appdata\\local\\packages\\pythonsoftwarefoundation.python.3.11_qbz5n2kfra8p0\\localcache\\local-packages\\python311\\site-packages (from keras>=3.5.0->tensorflow-intel==2.18.0->tensorflow) (13.9.4)\n",
            "Requirement already satisfied: namex in c:\\users\\husai\\appdata\\local\\packages\\pythonsoftwarefoundation.python.3.11_qbz5n2kfra8p0\\localcache\\local-packages\\python311\\site-packages (from keras>=3.5.0->tensorflow-intel==2.18.0->tensorflow) (0.0.8)\n",
            "Requirement already satisfied: optree in c:\\users\\husai\\appdata\\local\\packages\\pythonsoftwarefoundation.python.3.11_qbz5n2kfra8p0\\localcache\\local-packages\\python311\\site-packages (from keras>=3.5.0->tensorflow-intel==2.18.0->tensorflow) (0.14.1)\n",
            "Requirement already satisfied: charset-normalizer<4,>=2 in c:\\users\\husai\\appdata\\local\\packages\\pythonsoftwarefoundation.python.3.11_qbz5n2kfra8p0\\localcache\\local-packages\\python311\\site-packages (from requests<3,>=2.21.0->tensorflow-intel==2.18.0->tensorflow) (3.4.1)\n",
            "Requirement already satisfied: idna<4,>=2.5 in c:\\users\\husai\\appdata\\local\\packages\\pythonsoftwarefoundation.python.3.11_qbz5n2kfra8p0\\localcache\\local-packages\\python311\\site-packages (from requests<3,>=2.21.0->tensorflow-intel==2.18.0->tensorflow) (3.10)\n",
            "Requirement already satisfied: urllib3<3,>=1.21.1 in c:\\users\\husai\\appdata\\local\\packages\\pythonsoftwarefoundation.python.3.11_qbz5n2kfra8p0\\localcache\\local-packages\\python311\\site-packages (from requests<3,>=2.21.0->tensorflow-intel==2.18.0->tensorflow) (2.3.0)\n",
            "Requirement already satisfied: certifi>=2017.4.17 in c:\\users\\husai\\appdata\\local\\packages\\pythonsoftwarefoundation.python.3.11_qbz5n2kfra8p0\\localcache\\local-packages\\python311\\site-packages (from requests<3,>=2.21.0->tensorflow-intel==2.18.0->tensorflow) (2025.1.31)\n",
            "Requirement already satisfied: markdown>=2.6.8 in c:\\users\\husai\\appdata\\local\\packages\\pythonsoftwarefoundation.python.3.11_qbz5n2kfra8p0\\localcache\\local-packages\\python311\\site-packages (from tensorboard<2.19,>=2.18->tensorflow-intel==2.18.0->tensorflow) (3.7)\n",
            "Requirement already satisfied: tensorboard-data-server<0.8.0,>=0.7.0 in c:\\users\\husai\\appdata\\local\\packages\\pythonsoftwarefoundation.python.3.11_qbz5n2kfra8p0\\localcache\\local-packages\\python311\\site-packages (from tensorboard<2.19,>=2.18->tensorflow-intel==2.18.0->tensorflow) (0.7.2)\n",
            "Requirement already satisfied: werkzeug>=1.0.1 in c:\\users\\husai\\appdata\\local\\packages\\pythonsoftwarefoundation.python.3.11_qbz5n2kfra8p0\\localcache\\local-packages\\python311\\site-packages (from tensorboard<2.19,>=2.18->tensorflow-intel==2.18.0->tensorflow) (3.1.3)\n",
            "Requirement already satisfied: markdown-it-py>=2.2.0 in c:\\users\\husai\\appdata\\local\\packages\\pythonsoftwarefoundation.python.3.11_qbz5n2kfra8p0\\localcache\\local-packages\\python311\\site-packages (from rich->keras>=3.5.0->tensorflow-intel==2.18.0->tensorflow) (3.0.0)\n",
            "Requirement already satisfied: pygments<3.0.0,>=2.13.0 in c:\\users\\husai\\appdata\\local\\packages\\pythonsoftwarefoundation.python.3.11_qbz5n2kfra8p0\\localcache\\local-packages\\python311\\site-packages (from rich->keras>=3.5.0->tensorflow-intel==2.18.0->tensorflow) (2.19.1)\n",
            "Requirement already satisfied: mdurl~=0.1 in c:\\users\\husai\\appdata\\local\\packages\\pythonsoftwarefoundation.python.3.11_qbz5n2kfra8p0\\localcache\\local-packages\\python311\\site-packages (from markdown-it-py>=2.2.0->rich->keras>=3.5.0->tensorflow-intel==2.18.0->tensorflow) (0.1.2)\n",
            "Note: you may need to restart the kernel to use updated packages.\n"
          ]
        }
      ],
      "source": [
        "%pip install pandas numpy matplotlib scikit-learn torch tensorflow"
      ]
    },
    {
      "cell_type": "markdown",
      "metadata": {
        "id": "XhooEfX-wPGP"
      },
      "source": [
        "## 2. Mengimpor Library yang Dibutuhkan"
      ]
    },
    {
      "cell_type": "code",
      "execution_count": 16,
      "metadata": {},
      "outputs": [],
      "source": [
        "import pandas as pd # untuk membaca data dari file csv\n",
        "import numpy as np # untuk operasi matematika\n",
        "from sklearn.model_selection import train_test_split # untuk membagi data menjadi data latih dan data uji\n",
        "from sklearn.preprocessing import LabelEncoder # untuk mengubah label kelas menjadi angka\n",
        "import matplotlib.pyplot as plt # untuk membuat plot"
      ]
    },
    {
      "cell_type": "markdown",
      "metadata": {},
      "source": [
        "## 3. Memuat Dataset ke Dalam Program"
      ]
    },
    {
      "cell_type": "code",
      "execution_count": 17,
      "metadata": {},
      "outputs": [
        {
          "data": {
            "text/html": [
              "<div>\n",
              "<style scoped>\n",
              "    .dataframe tbody tr th:only-of-type {\n",
              "        vertical-align: middle;\n",
              "    }\n",
              "\n",
              "    .dataframe tbody tr th {\n",
              "        vertical-align: top;\n",
              "    }\n",
              "\n",
              "    .dataframe thead th {\n",
              "        text-align: right;\n",
              "    }\n",
              "</style>\n",
              "<table border=\"1\" class=\"dataframe\">\n",
              "  <thead>\n",
              "    <tr style=\"text-align: right;\">\n",
              "      <th></th>\n",
              "      <th>Gender</th>\n",
              "      <th>Age</th>\n",
              "      <th>Ethnicity</th>\n",
              "      <th>T_atm</th>\n",
              "      <th>Humidity</th>\n",
              "      <th>Distance</th>\n",
              "      <th>T_offset1</th>\n",
              "      <th>Max1R13_1</th>\n",
              "      <th>Max1L13_1</th>\n",
              "      <th>aveAllR13_1</th>\n",
              "      <th>...</th>\n",
              "      <th>T_FHRC1</th>\n",
              "      <th>T_FHLC1</th>\n",
              "      <th>T_FHBC1</th>\n",
              "      <th>T_FHTC1</th>\n",
              "      <th>T_FH_Max1</th>\n",
              "      <th>T_FHC_Max1</th>\n",
              "      <th>T_Max1</th>\n",
              "      <th>T_OR1</th>\n",
              "      <th>T_OR_Max1</th>\n",
              "      <th>aveOralM</th>\n",
              "    </tr>\n",
              "  </thead>\n",
              "  <tbody>\n",
              "    <tr>\n",
              "      <th>950</th>\n",
              "      <td>Male</td>\n",
              "      <td>18-20</td>\n",
              "      <td>White</td>\n",
              "      <td>24.9</td>\n",
              "      <td>26.4</td>\n",
              "      <td>0.70</td>\n",
              "      <td>1.2125</td>\n",
              "      <td>35.747500</td>\n",
              "      <td>35.832500</td>\n",
              "      <td>35.232500</td>\n",
              "      <td>...</td>\n",
              "      <td>35.010000</td>\n",
              "      <td>35.0375</td>\n",
              "      <td>34.935000</td>\n",
              "      <td>34.362500</td>\n",
              "      <td>35.925000</td>\n",
              "      <td>35.415000</td>\n",
              "      <td>36.2275</td>\n",
              "      <td>36.132500</td>\n",
              "      <td>36.162500</td>\n",
              "      <td>36.89</td>\n",
              "    </tr>\n",
              "    <tr>\n",
              "      <th>420</th>\n",
              "      <td>Female</td>\n",
              "      <td>18-20</td>\n",
              "      <td>White</td>\n",
              "      <td>25.7</td>\n",
              "      <td>27.8</td>\n",
              "      <td>0.60</td>\n",
              "      <td>1.4700</td>\n",
              "      <td>35.680000</td>\n",
              "      <td>35.945000</td>\n",
              "      <td>35.177500</td>\n",
              "      <td>...</td>\n",
              "      <td>34.787500</td>\n",
              "      <td>34.7225</td>\n",
              "      <td>34.557500</td>\n",
              "      <td>34.702500</td>\n",
              "      <td>35.435000</td>\n",
              "      <td>35.232500</td>\n",
              "      <td>36.0100</td>\n",
              "      <td>35.547500</td>\n",
              "      <td>35.595000</td>\n",
              "      <td>36.89</td>\n",
              "    </tr>\n",
              "    <tr>\n",
              "      <th>57</th>\n",
              "      <td>Male</td>\n",
              "      <td>21-25</td>\n",
              "      <td>White</td>\n",
              "      <td>23.2</td>\n",
              "      <td>37.3</td>\n",
              "      <td>0.60</td>\n",
              "      <td>0.7500</td>\n",
              "      <td>36.062500</td>\n",
              "      <td>35.950000</td>\n",
              "      <td>35.085000</td>\n",
              "      <td>...</td>\n",
              "      <td>34.640000</td>\n",
              "      <td>34.7875</td>\n",
              "      <td>34.442500</td>\n",
              "      <td>34.442500</td>\n",
              "      <td>35.407500</td>\n",
              "      <td>35.017500</td>\n",
              "      <td>36.1400</td>\n",
              "      <td>35.680000</td>\n",
              "      <td>35.727500</td>\n",
              "      <td>37.04</td>\n",
              "    </tr>\n",
              "    <tr>\n",
              "      <th>860</th>\n",
              "      <td>Female</td>\n",
              "      <td>21-25</td>\n",
              "      <td>White</td>\n",
              "      <td>24.2</td>\n",
              "      <td>18.3</td>\n",
              "      <td>0.62</td>\n",
              "      <td>1.0050</td>\n",
              "      <td>35.605000</td>\n",
              "      <td>35.715000</td>\n",
              "      <td>34.850000</td>\n",
              "      <td>...</td>\n",
              "      <td>34.922500</td>\n",
              "      <td>35.1375</td>\n",
              "      <td>34.487500</td>\n",
              "      <td>34.870000</td>\n",
              "      <td>35.552500</td>\n",
              "      <td>35.272500</td>\n",
              "      <td>36.0650</td>\n",
              "      <td>35.897500</td>\n",
              "      <td>35.937500</td>\n",
              "      <td>36.99</td>\n",
              "    </tr>\n",
              "    <tr>\n",
              "      <th>868</th>\n",
              "      <td>Female</td>\n",
              "      <td>18-20</td>\n",
              "      <td>White</td>\n",
              "      <td>24.0</td>\n",
              "      <td>27.2</td>\n",
              "      <td>0.60</td>\n",
              "      <td>0.6600</td>\n",
              "      <td>35.783333</td>\n",
              "      <td>35.503333</td>\n",
              "      <td>35.023333</td>\n",
              "      <td>...</td>\n",
              "      <td>33.336667</td>\n",
              "      <td>33.7200</td>\n",
              "      <td>32.923333</td>\n",
              "      <td>33.746667</td>\n",
              "      <td>34.623333</td>\n",
              "      <td>34.016667</td>\n",
              "      <td>36.2300</td>\n",
              "      <td>35.756667</td>\n",
              "      <td>35.793333</td>\n",
              "      <td>36.49</td>\n",
              "    </tr>\n",
              "    <tr>\n",
              "      <th>180</th>\n",
              "      <td>Male</td>\n",
              "      <td>21-25</td>\n",
              "      <td>Black or African-American</td>\n",
              "      <td>23.0</td>\n",
              "      <td>12.6</td>\n",
              "      <td>0.69</td>\n",
              "      <td>1.1925</td>\n",
              "      <td>34.790000</td>\n",
              "      <td>35.277500</td>\n",
              "      <td>34.470000</td>\n",
              "      <td>...</td>\n",
              "      <td>34.407500</td>\n",
              "      <td>34.4500</td>\n",
              "      <td>34.415000</td>\n",
              "      <td>34.352500</td>\n",
              "      <td>35.182500</td>\n",
              "      <td>34.862500</td>\n",
              "      <td>35.5775</td>\n",
              "      <td>35.282500</td>\n",
              "      <td>35.307500</td>\n",
              "      <td>36.34</td>\n",
              "    </tr>\n",
              "    <tr>\n",
              "      <th>939</th>\n",
              "      <td>Female</td>\n",
              "      <td>18-20</td>\n",
              "      <td>Multiracial</td>\n",
              "      <td>24.1</td>\n",
              "      <td>20.1</td>\n",
              "      <td>0.66</td>\n",
              "      <td>1.0000</td>\n",
              "      <td>35.470000</td>\n",
              "      <td>35.285000</td>\n",
              "      <td>35.195000</td>\n",
              "      <td>...</td>\n",
              "      <td>34.637500</td>\n",
              "      <td>34.6950</td>\n",
              "      <td>34.505000</td>\n",
              "      <td>34.292500</td>\n",
              "      <td>34.980000</td>\n",
              "      <td>34.862500</td>\n",
              "      <td>35.7850</td>\n",
              "      <td>35.712500</td>\n",
              "      <td>35.735000</td>\n",
              "      <td>36.84</td>\n",
              "    </tr>\n",
              "    <tr>\n",
              "      <th>572</th>\n",
              "      <td>Male</td>\n",
              "      <td>18-20</td>\n",
              "      <td>White</td>\n",
              "      <td>24.3</td>\n",
              "      <td>43.2</td>\n",
              "      <td>0.63</td>\n",
              "      <td>1.2750</td>\n",
              "      <td>35.590000</td>\n",
              "      <td>35.535000</td>\n",
              "      <td>35.382500</td>\n",
              "      <td>...</td>\n",
              "      <td>34.550000</td>\n",
              "      <td>35.0025</td>\n",
              "      <td>34.815000</td>\n",
              "      <td>33.772500</td>\n",
              "      <td>35.512500</td>\n",
              "      <td>35.415000</td>\n",
              "      <td>35.9275</td>\n",
              "      <td>35.857500</td>\n",
              "      <td>35.882500</td>\n",
              "      <td>36.84</td>\n",
              "    </tr>\n",
              "    <tr>\n",
              "      <th>192</th>\n",
              "      <td>Female</td>\n",
              "      <td>21-25</td>\n",
              "      <td>White</td>\n",
              "      <td>23.8</td>\n",
              "      <td>15.1</td>\n",
              "      <td>0.62</td>\n",
              "      <td>0.8525</td>\n",
              "      <td>35.340000</td>\n",
              "      <td>35.365000</td>\n",
              "      <td>34.437500</td>\n",
              "      <td>...</td>\n",
              "      <td>33.670000</td>\n",
              "      <td>34.2825</td>\n",
              "      <td>33.710000</td>\n",
              "      <td>34.265000</td>\n",
              "      <td>34.937500</td>\n",
              "      <td>34.810000</td>\n",
              "      <td>35.9650</td>\n",
              "      <td>35.802500</td>\n",
              "      <td>35.837500</td>\n",
              "      <td>36.94</td>\n",
              "    </tr>\n",
              "    <tr>\n",
              "      <th>391</th>\n",
              "      <td>Female</td>\n",
              "      <td>21-25</td>\n",
              "      <td>White</td>\n",
              "      <td>21.0</td>\n",
              "      <td>55.9</td>\n",
              "      <td>0.64</td>\n",
              "      <td>0.5050</td>\n",
              "      <td>35.592500</td>\n",
              "      <td>35.300000</td>\n",
              "      <td>34.935000</td>\n",
              "      <td>...</td>\n",
              "      <td>34.327500</td>\n",
              "      <td>34.1250</td>\n",
              "      <td>34.072500</td>\n",
              "      <td>34.142500</td>\n",
              "      <td>34.625000</td>\n",
              "      <td>34.590000</td>\n",
              "      <td>35.7950</td>\n",
              "      <td>35.652500</td>\n",
              "      <td>35.700000</td>\n",
              "      <td>36.99</td>\n",
              "    </tr>\n",
              "  </tbody>\n",
              "</table>\n",
              "<p>10 rows × 34 columns</p>\n",
              "</div>"
            ],
            "text/plain": [
              "     Gender    Age                  Ethnicity  T_atm  Humidity  Distance  \\\n",
              "950    Male  18-20                      White   24.9      26.4      0.70   \n",
              "420  Female  18-20                      White   25.7      27.8      0.60   \n",
              "57     Male  21-25                      White   23.2      37.3      0.60   \n",
              "860  Female  21-25                      White   24.2      18.3      0.62   \n",
              "868  Female  18-20                      White   24.0      27.2      0.60   \n",
              "180    Male  21-25  Black or African-American   23.0      12.6      0.69   \n",
              "939  Female  18-20                Multiracial   24.1      20.1      0.66   \n",
              "572    Male  18-20                      White   24.3      43.2      0.63   \n",
              "192  Female  21-25                      White   23.8      15.1      0.62   \n",
              "391  Female  21-25                      White   21.0      55.9      0.64   \n",
              "\n",
              "     T_offset1  Max1R13_1  Max1L13_1  aveAllR13_1  ...    T_FHRC1  T_FHLC1  \\\n",
              "950     1.2125  35.747500  35.832500    35.232500  ...  35.010000  35.0375   \n",
              "420     1.4700  35.680000  35.945000    35.177500  ...  34.787500  34.7225   \n",
              "57      0.7500  36.062500  35.950000    35.085000  ...  34.640000  34.7875   \n",
              "860     1.0050  35.605000  35.715000    34.850000  ...  34.922500  35.1375   \n",
              "868     0.6600  35.783333  35.503333    35.023333  ...  33.336667  33.7200   \n",
              "180     1.1925  34.790000  35.277500    34.470000  ...  34.407500  34.4500   \n",
              "939     1.0000  35.470000  35.285000    35.195000  ...  34.637500  34.6950   \n",
              "572     1.2750  35.590000  35.535000    35.382500  ...  34.550000  35.0025   \n",
              "192     0.8525  35.340000  35.365000    34.437500  ...  33.670000  34.2825   \n",
              "391     0.5050  35.592500  35.300000    34.935000  ...  34.327500  34.1250   \n",
              "\n",
              "       T_FHBC1    T_FHTC1  T_FH_Max1  T_FHC_Max1   T_Max1      T_OR1  \\\n",
              "950  34.935000  34.362500  35.925000   35.415000  36.2275  36.132500   \n",
              "420  34.557500  34.702500  35.435000   35.232500  36.0100  35.547500   \n",
              "57   34.442500  34.442500  35.407500   35.017500  36.1400  35.680000   \n",
              "860  34.487500  34.870000  35.552500   35.272500  36.0650  35.897500   \n",
              "868  32.923333  33.746667  34.623333   34.016667  36.2300  35.756667   \n",
              "180  34.415000  34.352500  35.182500   34.862500  35.5775  35.282500   \n",
              "939  34.505000  34.292500  34.980000   34.862500  35.7850  35.712500   \n",
              "572  34.815000  33.772500  35.512500   35.415000  35.9275  35.857500   \n",
              "192  33.710000  34.265000  34.937500   34.810000  35.9650  35.802500   \n",
              "391  34.072500  34.142500  34.625000   34.590000  35.7950  35.652500   \n",
              "\n",
              "     T_OR_Max1  aveOralM  \n",
              "950  36.162500     36.89  \n",
              "420  35.595000     36.89  \n",
              "57   35.727500     37.04  \n",
              "860  35.937500     36.99  \n",
              "868  35.793333     36.49  \n",
              "180  35.307500     36.34  \n",
              "939  35.735000     36.84  \n",
              "572  35.882500     36.84  \n",
              "192  35.837500     36.94  \n",
              "391  35.700000     36.99  \n",
              "\n",
              "[10 rows x 34 columns]"
            ]
          },
          "execution_count": 17,
          "metadata": {},
          "output_type": "execute_result"
        }
      ],
      "source": [
        "data = pd.read_csv('./Infrared.csv').dropna() # membaca data dari file csv\n",
        "data.sample(10) # menampilkan 10 baris data secara acak"
      ]
    },
    {
      "cell_type": "code",
      "execution_count": 18,
      "metadata": {},
      "outputs": [
        {
          "data": {
            "text/html": [
              "<div>\n",
              "<style scoped>\n",
              "    .dataframe tbody tr th:only-of-type {\n",
              "        vertical-align: middle;\n",
              "    }\n",
              "\n",
              "    .dataframe tbody tr th {\n",
              "        vertical-align: top;\n",
              "    }\n",
              "\n",
              "    .dataframe thead th {\n",
              "        text-align: right;\n",
              "    }\n",
              "</style>\n",
              "<table border=\"1\" class=\"dataframe\">\n",
              "  <thead>\n",
              "    <tr style=\"text-align: right;\">\n",
              "      <th></th>\n",
              "      <th>T_atm</th>\n",
              "      <th>Humidity</th>\n",
              "      <th>Distance</th>\n",
              "      <th>T_offset1</th>\n",
              "      <th>Max1R13_1</th>\n",
              "      <th>Max1L13_1</th>\n",
              "      <th>aveAllR13_1</th>\n",
              "      <th>aveAllL13_1</th>\n",
              "      <th>T_RC1</th>\n",
              "      <th>T_RC_Dry1</th>\n",
              "      <th>...</th>\n",
              "      <th>T_FHRC1</th>\n",
              "      <th>T_FHLC1</th>\n",
              "      <th>T_FHBC1</th>\n",
              "      <th>T_FHTC1</th>\n",
              "      <th>T_FH_Max1</th>\n",
              "      <th>T_FHC_Max1</th>\n",
              "      <th>T_Max1</th>\n",
              "      <th>T_OR1</th>\n",
              "      <th>T_OR_Max1</th>\n",
              "      <th>aveOralM</th>\n",
              "    </tr>\n",
              "  </thead>\n",
              "  <tbody>\n",
              "    <tr>\n",
              "      <th>count</th>\n",
              "      <td>1018.000000</td>\n",
              "      <td>1018.000000</td>\n",
              "      <td>1018.000000</td>\n",
              "      <td>1018.000000</td>\n",
              "      <td>1018.000000</td>\n",
              "      <td>1018.000000</td>\n",
              "      <td>1018.000000</td>\n",
              "      <td>1018.000000</td>\n",
              "      <td>1018.000000</td>\n",
              "      <td>1018.000000</td>\n",
              "      <td>...</td>\n",
              "      <td>1018.000000</td>\n",
              "      <td>1018.000000</td>\n",
              "      <td>1018.000000</td>\n",
              "      <td>1018.000000</td>\n",
              "      <td>1018.000000</td>\n",
              "      <td>1018.000000</td>\n",
              "      <td>1018.000000</td>\n",
              "      <td>1018.000000</td>\n",
              "      <td>1018.000000</td>\n",
              "      <td>1018.000000</td>\n",
              "    </tr>\n",
              "    <tr>\n",
              "      <th>mean</th>\n",
              "      <td>24.115815</td>\n",
              "      <td>28.749411</td>\n",
              "      <td>0.729784</td>\n",
              "      <td>0.968991</td>\n",
              "      <td>35.596374</td>\n",
              "      <td>35.611651</td>\n",
              "      <td>34.888828</td>\n",
              "      <td>35.012899</td>\n",
              "      <td>35.659874</td>\n",
              "      <td>35.587022</td>\n",
              "      <td>...</td>\n",
              "      <td>34.568583</td>\n",
              "      <td>34.565945</td>\n",
              "      <td>34.488836</td>\n",
              "      <td>34.578310</td>\n",
              "      <td>35.422130</td>\n",
              "      <td>35.094648</td>\n",
              "      <td>36.084615</td>\n",
              "      <td>35.805225</td>\n",
              "      <td>35.837984</td>\n",
              "      <td>37.028163</td>\n",
              "    </tr>\n",
              "    <tr>\n",
              "      <th>std</th>\n",
              "      <td>1.337617</td>\n",
              "      <td>13.070900</td>\n",
              "      <td>2.456486</td>\n",
              "      <td>0.362860</td>\n",
              "      <td>0.575436</td>\n",
              "      <td>0.550265</td>\n",
              "      <td>0.719114</td>\n",
              "      <td>0.633228</td>\n",
              "      <td>0.554440</td>\n",
              "      <td>0.569827</td>\n",
              "      <td>...</td>\n",
              "      <td>0.669346</td>\n",
              "      <td>0.678941</td>\n",
              "      <td>0.667293</td>\n",
              "      <td>0.728353</td>\n",
              "      <td>0.523703</td>\n",
              "      <td>0.576283</td>\n",
              "      <td>0.492236</td>\n",
              "      <td>0.559755</td>\n",
              "      <td>0.559812</td>\n",
              "      <td>0.509743</td>\n",
              "    </tr>\n",
              "    <tr>\n",
              "      <th>min</th>\n",
              "      <td>20.200000</td>\n",
              "      <td>9.900000</td>\n",
              "      <td>0.540000</td>\n",
              "      <td>-0.590000</td>\n",
              "      <td>33.897500</td>\n",
              "      <td>34.122500</td>\n",
              "      <td>31.770000</td>\n",
              "      <td>32.902500</td>\n",
              "      <td>33.985000</td>\n",
              "      <td>33.825000</td>\n",
              "      <td>...</td>\n",
              "      <td>31.452500</td>\n",
              "      <td>31.657500</td>\n",
              "      <td>31.280000</td>\n",
              "      <td>31.150000</td>\n",
              "      <td>33.407500</td>\n",
              "      <td>32.440000</td>\n",
              "      <td>34.892500</td>\n",
              "      <td>33.802500</td>\n",
              "      <td>33.835000</td>\n",
              "      <td>35.540000</td>\n",
              "    </tr>\n",
              "    <tr>\n",
              "      <th>25%</th>\n",
              "      <td>23.400000</td>\n",
              "      <td>17.600000</td>\n",
              "      <td>0.600000</td>\n",
              "      <td>0.772500</td>\n",
              "      <td>35.247500</td>\n",
              "      <td>35.270625</td>\n",
              "      <td>34.457500</td>\n",
              "      <td>34.655625</td>\n",
              "      <td>35.332500</td>\n",
              "      <td>35.248125</td>\n",
              "      <td>...</td>\n",
              "      <td>34.181250</td>\n",
              "      <td>34.178125</td>\n",
              "      <td>34.097500</td>\n",
              "      <td>34.226875</td>\n",
              "      <td>35.118750</td>\n",
              "      <td>34.758125</td>\n",
              "      <td>35.775000</td>\n",
              "      <td>35.473125</td>\n",
              "      <td>35.500000</td>\n",
              "      <td>36.752500</td>\n",
              "    </tr>\n",
              "    <tr>\n",
              "      <th>50%</th>\n",
              "      <td>24.000000</td>\n",
              "      <td>26.300000</td>\n",
              "      <td>0.620000</td>\n",
              "      <td>0.940000</td>\n",
              "      <td>35.547500</td>\n",
              "      <td>35.575000</td>\n",
              "      <td>34.915000</td>\n",
              "      <td>34.997500</td>\n",
              "      <td>35.602500</td>\n",
              "      <td>35.531250</td>\n",
              "      <td>...</td>\n",
              "      <td>34.597500</td>\n",
              "      <td>34.602500</td>\n",
              "      <td>34.512917</td>\n",
              "      <td>34.622500</td>\n",
              "      <td>35.392500</td>\n",
              "      <td>35.100000</td>\n",
              "      <td>36.027500</td>\n",
              "      <td>35.788750</td>\n",
              "      <td>35.825000</td>\n",
              "      <td>36.940000</td>\n",
              "    </tr>\n",
              "    <tr>\n",
              "      <th>75%</th>\n",
              "      <td>24.700000</td>\n",
              "      <td>36.200000</td>\n",
              "      <td>0.700000</td>\n",
              "      <td>1.140000</td>\n",
              "      <td>35.872500</td>\n",
              "      <td>35.884375</td>\n",
              "      <td>35.300000</td>\n",
              "      <td>35.364375</td>\n",
              "      <td>35.911875</td>\n",
              "      <td>35.856875</td>\n",
              "      <td>...</td>\n",
              "      <td>34.969375</td>\n",
              "      <td>34.965000</td>\n",
              "      <td>34.879375</td>\n",
              "      <td>35.012500</td>\n",
              "      <td>35.675000</td>\n",
              "      <td>35.415000</td>\n",
              "      <td>36.280000</td>\n",
              "      <td>36.087500</td>\n",
              "      <td>36.121875</td>\n",
              "      <td>37.140000</td>\n",
              "    </tr>\n",
              "    <tr>\n",
              "      <th>max</th>\n",
              "      <td>29.100000</td>\n",
              "      <td>61.200000</td>\n",
              "      <td>79.000000</td>\n",
              "      <td>2.875000</td>\n",
              "      <td>38.405000</td>\n",
              "      <td>38.042500</td>\n",
              "      <td>37.575000</td>\n",
              "      <td>37.680000</td>\n",
              "      <td>38.385000</td>\n",
              "      <td>38.380000</td>\n",
              "      <td>...</td>\n",
              "      <td>37.075000</td>\n",
              "      <td>37.165000</td>\n",
              "      <td>37.212500</td>\n",
              "      <td>37.367500</td>\n",
              "      <td>38.002500</td>\n",
              "      <td>37.632500</td>\n",
              "      <td>38.807500</td>\n",
              "      <td>38.417500</td>\n",
              "      <td>38.455000</td>\n",
              "      <td>40.340000</td>\n",
              "    </tr>\n",
              "  </tbody>\n",
              "</table>\n",
              "<p>8 rows × 31 columns</p>\n",
              "</div>"
            ],
            "text/plain": [
              "             T_atm     Humidity     Distance    T_offset1    Max1R13_1  \\\n",
              "count  1018.000000  1018.000000  1018.000000  1018.000000  1018.000000   \n",
              "mean     24.115815    28.749411     0.729784     0.968991    35.596374   \n",
              "std       1.337617    13.070900     2.456486     0.362860     0.575436   \n",
              "min      20.200000     9.900000     0.540000    -0.590000    33.897500   \n",
              "25%      23.400000    17.600000     0.600000     0.772500    35.247500   \n",
              "50%      24.000000    26.300000     0.620000     0.940000    35.547500   \n",
              "75%      24.700000    36.200000     0.700000     1.140000    35.872500   \n",
              "max      29.100000    61.200000    79.000000     2.875000    38.405000   \n",
              "\n",
              "         Max1L13_1  aveAllR13_1  aveAllL13_1        T_RC1    T_RC_Dry1  ...  \\\n",
              "count  1018.000000  1018.000000  1018.000000  1018.000000  1018.000000  ...   \n",
              "mean     35.611651    34.888828    35.012899    35.659874    35.587022  ...   \n",
              "std       0.550265     0.719114     0.633228     0.554440     0.569827  ...   \n",
              "min      34.122500    31.770000    32.902500    33.985000    33.825000  ...   \n",
              "25%      35.270625    34.457500    34.655625    35.332500    35.248125  ...   \n",
              "50%      35.575000    34.915000    34.997500    35.602500    35.531250  ...   \n",
              "75%      35.884375    35.300000    35.364375    35.911875    35.856875  ...   \n",
              "max      38.042500    37.575000    37.680000    38.385000    38.380000  ...   \n",
              "\n",
              "           T_FHRC1      T_FHLC1      T_FHBC1      T_FHTC1    T_FH_Max1  \\\n",
              "count  1018.000000  1018.000000  1018.000000  1018.000000  1018.000000   \n",
              "mean     34.568583    34.565945    34.488836    34.578310    35.422130   \n",
              "std       0.669346     0.678941     0.667293     0.728353     0.523703   \n",
              "min      31.452500    31.657500    31.280000    31.150000    33.407500   \n",
              "25%      34.181250    34.178125    34.097500    34.226875    35.118750   \n",
              "50%      34.597500    34.602500    34.512917    34.622500    35.392500   \n",
              "75%      34.969375    34.965000    34.879375    35.012500    35.675000   \n",
              "max      37.075000    37.165000    37.212500    37.367500    38.002500   \n",
              "\n",
              "        T_FHC_Max1       T_Max1        T_OR1    T_OR_Max1     aveOralM  \n",
              "count  1018.000000  1018.000000  1018.000000  1018.000000  1018.000000  \n",
              "mean     35.094648    36.084615    35.805225    35.837984    37.028163  \n",
              "std       0.576283     0.492236     0.559755     0.559812     0.509743  \n",
              "min      32.440000    34.892500    33.802500    33.835000    35.540000  \n",
              "25%      34.758125    35.775000    35.473125    35.500000    36.752500  \n",
              "50%      35.100000    36.027500    35.788750    35.825000    36.940000  \n",
              "75%      35.415000    36.280000    36.087500    36.121875    37.140000  \n",
              "max      37.632500    38.807500    38.417500    38.455000    40.340000  \n",
              "\n",
              "[8 rows x 31 columns]"
            ]
          },
          "execution_count": 18,
          "metadata": {},
          "output_type": "execute_result"
        }
      ],
      "source": [
        "data.describe() # menampilkan statistik data"
      ]
    },
    {
      "cell_type": "markdown",
      "metadata": {},
      "source": [
        "## 4. Mengonversi dan Menormalisasi Data"
      ]
    },
    {
      "cell_type": "code",
      "execution_count": 19,
      "metadata": {},
      "outputs": [
        {
          "name": "stdout",
          "output_type": "stream",
          "text": [
            "[[ 1.      5.      5.     ... 35.6925 35.635  35.6525]\n",
            " [ 0.      4.      2.     ... 35.175  35.0925 35.1075]\n",
            " [ 0.      2.      5.     ... 35.9125 35.86   35.885 ]\n",
            " ...\n",
            " [ 0.      0.      2.     ... 36.535  35.965  35.9975]\n",
            " [ 1.      3.      3.     ... 35.86   35.415  35.435 ]\n",
            " [ 0.      0.      5.     ... 35.9725 35.89   35.9175]] [[36.59]\n",
            " [37.19]\n",
            " [37.34]\n",
            " ...\n",
            " [37.59]\n",
            " [37.29]\n",
            " [37.19]]\n"
          ]
        }
      ],
      "source": [
        "# Mengubah data kategorikal menjadi angka\n",
        "label_encoder = LabelEncoder()\n",
        "data['Gender'] = label_encoder.fit_transform(data['Gender']) # Mengubah label 'Gender' menjadi angka\n",
        "data['Age'] = label_encoder.fit_transform(data['Age']) # Mengubah label 'Age' menjadi angka\n",
        "data['Ethnicity'] = label_encoder.fit_transform(data['Ethnicity']) # Mengubah label 'Ethnicity' menjadi angka\n",
        "\n",
        "# Memisahkan kolom yang digunakan sebagai fitur dan label\n",
        "X = data.drop(\"aveOralM\", axis=1).values\n",
        "y = data[\"aveOralM\"].values.reshape(-1, 1)\n",
        "\n",
        "print(X, y) # menampilkan data fitur dan label\n",
        "\n",
        "# Memisahkan data menjadi data latih dan data uji\n",
        "X_train, X_test, y_train, y_test = train_test_split(X, y, test_size=0.2, random_state=42)"
      ]
    },
    {
      "cell_type": "markdown",
      "metadata": {},
      "source": [
        "## 5. Mempersiapkan Rumus Evaluasi (MSE, RMSE, RSquared)"
      ]
    },
    {
      "cell_type": "code",
      "execution_count": 20,
      "metadata": {},
      "outputs": [],
      "source": [
        "# Fungsinya untuk menghitung metrik evaluasi\n",
        "# Metrik evaluasi yang digunakan adalah Mean Squared Error (MSE), Root Mean Squared Error (RMSE), dan R^2\n",
        "def calculate_metrics(y_true, y_pred):\n",
        "    mse = np.mean((y_true - y_pred) ** 2) # Mean Squared Error\n",
        "    rmse = np.sqrt(mse) # Root Mean Squared Error\n",
        "    ss_res = np.sum((y_true - y_pred) ** 2) # Sum of Squared Residuals (SSR)\n",
        "    ss_tot = np.sum((y_true - np.mean(y_true)) ** 2) # Total Sum of Squares (SST)\n",
        "    r2 = 1 - ss_res / ss_tot # R^2, yaitu 1 - (SSR/SST)\\\n",
        "    \n",
        "    return mse, rmse, r2"
      ]
    },
    {
      "cell_type": "markdown",
      "metadata": {},
      "source": [
        "## 6. Membuat Fungsi Visualisasi"
      ]
    },
    {
      "cell_type": "code",
      "execution_count": 21,
      "metadata": {},
      "outputs": [],
      "source": [
        "# Fungsinya untuk menampilkan plot hasil prediksi\n",
        "def visualize_results(y_true, y_pred):\n",
        "    plt.scatter(y_true, y_pred)\n",
        "    plt.plot([y_true.min(), y_true.max()], [y_true.min(), y_true.max()], 'k--')\n",
        "    plt.xlabel('Actual')\n",
        "    plt.ylabel('Predicted')\n",
        "    plt.title('Actual vs. Predicted')\n",
        "    plt.show()\n",
        "\n",
        "# Fungsinya untuk menampilkan plot hasil training model PyTorch\n",
        "def visualize_training(history):\n",
        "    plt.plot(history['loss'])\n",
        "    plt.yscale('log')\n",
        "    plt.title('Model loss')\n",
        "    plt.ylabel('Loss (log scale)')\n",
        "    plt.xlabel('Epoch')\n",
        "    plt.legend(['Loss'], loc='upper left')\n",
        "    plt.show()"
      ]
    },
    {
      "cell_type": "markdown",
      "metadata": {
        "id": "jcWgoo2wv8Vi"
      },
      "source": [
        "# A. Deep Learning dengan PyTorch"
      ]
    },
    {
      "cell_type": "markdown",
      "metadata": {},
      "source": [
        "## 1. Mengimpor Library yang Dibutuhkan"
      ]
    },
    {
      "cell_type": "code",
      "execution_count": 43,
      "metadata": {
        "id": "Xt6VuniuwQGp"
      },
      "outputs": [],
      "source": [
        "import torch\n",
        "import torch.nn as nn # untuk membuat model neural network dengan pytorch\n",
        "import torch.optim as optim # untuk mengoptimalkan model neural network"
      ]
    },
    {
      "cell_type": "markdown",
      "metadata": {},
      "source": [
        "## 2. Mengonversi Dataset Menjadi Tipe Tensor PyTorch"
      ]
    },
    {
      "cell_type": "code",
      "execution_count": 44,
      "metadata": {},
      "outputs": [],
      "source": [
        "X_train_tensor = torch.tensor(X_train, dtype=torch.float32) # Mengubah data latih menjadi tensor\n",
        "y_train_tensor = torch.tensor(y_train, dtype=torch.float32) # Mengubah label data latih menjadi tensor\n",
        "X_test_tensor = torch.tensor(X_test, dtype=torch.float32) # Mengubah data uji menjadi tensor\n",
        "y_test_tensor = torch.tensor(y_test, dtype=torch.float32) # Mengubah label data uji menjadi tensor"
      ]
    },
    {
      "cell_type": "markdown",
      "metadata": {
        "id": "juIuOZz7wSxe"
      },
      "source": [
        "## 3. Menyusun Model Neural Network Sederhana\n"
      ]
    },
    {
      "cell_type": "code",
      "execution_count": 46,
      "metadata": {},
      "outputs": [],
      "source": [
        "# Mendefinisikan model sederhana (Multi-Layer Perceptron)\n",
        "class SimpleNN(torch.nn.Module):\n",
        "    def __init__(self, input_dim, hidden_dim, output_dim):\n",
        "        super(SimpleNN, self).__init__()\n",
        "        self.model = nn.Sequential(\n",
        "            nn.Linear(input_dim, hidden_dim),\n",
        "            nn.ReLU(),\n",
        "            nn.Linear(hidden_dim, output_dim)\n",
        "        )\n",
        "    \n",
        "    def forward(self, x):\n",
        "        return self.model(x)\n",
        "    \n",
        "input_dim = X_train.shape[1] # Jumlah fitur\n",
        "hidden_dim = 128 # Jumlah neuron pada hidden layer\n",
        "output_dim = 1 # Jumlah neuron pada output layer\n",
        "\n",
        "model = SimpleNN(input_dim, hidden_dim, output_dim) # Membuat model"
      ]
    },
    {
      "cell_type": "markdown",
      "metadata": {
        "id": "MnKWNddrwaWG"
      },
      "source": [
        "## 4. Menyiapkan Optimizer dan Loss Function"
      ]
    },
    {
      "cell_type": "code",
      "execution_count": 47,
      "metadata": {},
      "outputs": [],
      "source": [
        "criterion = nn.MSELoss() # Menggunakan Mean Squared Error sebagai loss function\n",
        "optimizer = optim.Adam(model.parameters(), lr=0.01) # Menggunakan Adam sebagai optimizer"
      ]
    },
    {
      "cell_type": "markdown",
      "metadata": {
        "id": "Tjndrp73wgkY"
      },
      "source": [
        "## 5. Melatih Model"
      ]
    },
    {
      "cell_type": "code",
      "execution_count": 48,
      "metadata": {},
      "outputs": [
        {
          "name": "stdout",
          "output_type": "stream",
          "text": [
            "Epoch 0, loss=981.1658325195312\n",
            "Epoch 100, loss=0.2385006695985794\n",
            "Epoch 200, loss=0.1579899936914444\n",
            "Epoch 300, loss=0.14827649295330048\n",
            "Epoch 400, loss=0.14169727265834808\n",
            "Epoch 500, loss=0.1363535076379776\n",
            "Epoch 600, loss=0.13175591826438904\n",
            "Epoch 700, loss=0.12766259908676147\n",
            "Epoch 800, loss=0.12396667897701263\n",
            "Epoch 900, loss=0.12062104046344757\n"
          ]
        }
      ],
      "source": [
        "# Melatih model\n",
        "num_epochs = 1000 # Jumlah iterasi pelatihan\n",
        "history = pd.DataFrame() # Menyimpan statistik pelatihan\n",
        "\n",
        "for epoch in range(num_epochs):\n",
        "    optimizer.zero_grad() # Mengatur gradien menjadi 0 sebelum melakukan backpropagation\n",
        "    y_pred = model(X_train_tensor) # Memprediksi data latih\n",
        "    loss = criterion(y_pred, y_train_tensor) # Menghitung loss\n",
        "    loss.backward() # Backpropagation\n",
        "    optimizer.step() # Update bobot\n",
        "    \n",
        "    if epoch % 100 == 0:\n",
        "        print(f'Epoch {epoch}, loss={loss.item()}')\n",
        "\n",
        "    # Menyimpan statistik pelatihan untuk menampilkan plot\n",
        "    history = pd.concat([history, pd.DataFrame({'epoch': [epoch], 'loss': [loss.item()]})], ignore_index=True)"
      ]
    },
    {
      "cell_type": "markdown",
      "metadata": {},
      "source": [
        "## 6. Mengevaluasi Model dengan Menghitung MSE, RMSE, dan RSquared"
      ]
    },
    {
      "cell_type": "code",
      "execution_count": 49,
      "metadata": {},
      "outputs": [
        {
          "name": "stdout",
          "output_type": "stream",
          "text": [
            "MSE: 0.111986416234382, RMSE: 0.3346437153666299, R^2: 0.4370323087280945\n"
          ]
        }
      ],
      "source": [
        "model.eval() # Mengubah model menjadi mode evaluasi\n",
        "y_pred = model(X_test_tensor) # Memprediksi data uji\n",
        "\n",
        "# Menghitung metrik evaluasi\n",
        "mse, rmse, r2 = calculate_metrics(y_test, y_pred.detach().numpy())\n",
        "print(f'MSE: {mse}, RMSE: {rmse}, R^2: {r2}')"
      ]
    },
    {
      "cell_type": "markdown",
      "metadata": {},
      "source": [
        "## 7. Memvisualisasikan Prediksi dari model yang telah dilatih"
      ]
    },
    {
      "cell_type": "code",
      "execution_count": 50,
      "metadata": {},
      "outputs": [
        {
          "data": {
            "image/png": "[encoded data removed]",
            "text/plain": [
              "<Figure size 640x480 with 1 Axes>"
            ]
          },
          "metadata": {},
          "output_type": "display_data"
        },
        {
          "data": {
            "image/png": "[encoded data removed]",
            "text/plain": [
              "<Figure size 640x480 with 1 Axes>"
            ]
          },
          "metadata": {},
          "output_type": "display_data"
        }
      ],
      "source": [
        "# Menampilkan plot hasil prediksi\n",
        "visualize_results(y_test, y_pred.detach().numpy())\n",
        "\n",
        "# Menampilkan plot hasil training\n",
        "visualize_training(history)\n",
        "\n",
        "# Menyimpan model\n",
        "torch.save(model.state_dict(), 'model_pytorch_infrared.pth')"
      ]
    },
    {
      "cell_type": "markdown",
      "metadata": {
        "id": "bDTeEKQnwoon"
      },
      "source": [
        "# B. Deep Learning dengan TensorFlow"
      ]
    },
    {
      "cell_type": "markdown",
      "metadata": {
        "id": "sEcuhK7kxBfZ"
      },
      "source": [
        "## 1. Import Library yang Dibutuhkan"
      ]
    },
    {
      "cell_type": "code",
      "execution_count": 52,
      "metadata": {
        "id": "2BzJ_iBvxCqa"
      },
      "outputs": [],
      "source": [
        "import tensorflow as tf\n",
        "from tensorflow.keras.models import Sequential # untuk membuat model neural network\n",
        "from tensorflow.keras.layers import Dense, Input, Flatten # untuk menambahkan layer pada model\n",
        "from tensorflow.keras.optimizers import SGD # untuk mengoptimalkan model neural network"
      ]
    },
    {
      "cell_type": "markdown",
      "metadata": {
        "id": "ZgRBaf-exFzO"
      },
      "source": [
        "## 2. Penyusunan Model Neural Network\n"
      ]
    },
    {
      "cell_type": "code",
      "execution_count": 53,
      "metadata": {},
      "outputs": [
        {
          "name": "stderr",
          "output_type": "stream",
          "text": [
            "C:\\Users\\husai\\AppData\\Local\\Packages\\PythonSoftwareFoundation.Python.3.11_qbz5n2kfra8p0\\LocalCache\\local-packages\\Python311\\site-packages\\keras\\src\\layers\\core\\dense.py:87: UserWarning: Do not pass an `input_shape`/`input_dim` argument to a layer. When using Sequential models, prefer using an `Input(shape)` object as the first layer in the model instead.\n",
            "  super().__init__(activity_regularizer=activity_regularizer, **kwargs)\n"
          ]
        }
      ],
      "source": [
        "# Menentukan hyperparameter model\n",
        "input_dim = X_train.shape[1] # Jumlah fitur\n",
        "hidden_dim = 128 # Jumlah neuron pada hidden layer\n",
        "output_dim = 1 # Jumlah neuron pada output layer\n",
        "\n",
        "model_tf = Sequential([\n",
        "    Dense(hidden_dim, activation='relu', input_shape=(input_dim,)) , # Layer input 128 neuron\n",
        "    Dense(output_dim)  # Layer output 1 neuron\n",
        "])\n",
        "\n"
      ]
    },
    {
      "cell_type": "markdown",
      "metadata": {
        "id": "gNiS9Tt2xK9U"
      },
      "source": [
        "## 3. Kompilasi Model"
      ]
    },
    {
      "cell_type": "code",
      "execution_count": 54,
      "metadata": {},
      "outputs": [],
      "source": [
        "# Kompilasi model\n",
        "model_tf.compile(optimizer='adam', loss='mse')"
      ]
    },
    {
      "cell_type": "markdown",
      "metadata": {
        "id": "pFkCD0eMxWZN"
      },
      "source": [
        "## 4. Pelatihan Model"
      ]
    },
    {
      "cell_type": "code",
      "execution_count": 55,
      "metadata": {},
      "outputs": [
        {
          "name": "stdout",
          "output_type": "stream",
          "text": [
            "Epoch 1/100\n",
            "\u001b[1m26/26\u001b[0m \u001b[32m━━━━━━━━━━━━━━━━━━━━\u001b[0m\u001b[37m\u001b[0m \u001b[1m0s\u001b[0m 1ms/step - loss: 498.8672   \n",
            "Epoch 2/100\n",
            "\u001b[1m26/26\u001b[0m \u001b[32m━━━━━━━━━━━━━━━━━━━━\u001b[0m\u001b[37m\u001b[0m \u001b[1m0s\u001b[0m 1ms/step - loss: 25.0192 \n",
            "Epoch 3/100\n",
            "\u001b[1m26/26\u001b[0m \u001b[32m━━━━━━━━━━━━━━━━━━━━\u001b[0m\u001b[37m\u001b[0m \u001b[1m0s\u001b[0m 1ms/step - loss: 5.0063 \n",
            "Epoch 4/100\n",
            "\u001b[1m26/26\u001b[0m \u001b[32m━━━━━━━━━━━━━━━━━━━━\u001b[0m\u001b[37m\u001b[0m \u001b[1m0s\u001b[0m 1ms/step - loss: 2.1158 \n",
            "Epoch 5/100\n",
            "\u001b[1m26/26\u001b[0m \u001b[32m━━━━━━━━━━━━━━━━━━━━\u001b[0m\u001b[37m\u001b[0m \u001b[1m0s\u001b[0m 1ms/step - loss: 1.3727 \n",
            "Epoch 6/100\n",
            "\u001b[1m26/26\u001b[0m \u001b[32m━━━━━━━━━━━━━━━━━━━━\u001b[0m\u001b[37m\u001b[0m \u001b[1m0s\u001b[0m 1ms/step - loss: 0.9850 \n",
            "Epoch 7/100\n",
            "\u001b[1m26/26\u001b[0m \u001b[32m━━━━━━━━━━━━━━━━━━━━\u001b[0m\u001b[37m\u001b[0m \u001b[1m0s\u001b[0m 1ms/step - loss: 0.6468 \n",
            "Epoch 8/100\n",
            "\u001b[1m26/26\u001b[0m \u001b[32m━━━━━━━━━━━━━━━━━━━━\u001b[0m\u001b[37m\u001b[0m \u001b[1m0s\u001b[0m 1ms/step - loss: 0.4944 \n",
            "Epoch 9/100\n",
            "\u001b[1m26/26\u001b[0m \u001b[32m━━━━━━━━━━━━━━━━━━━━\u001b[0m\u001b[37m\u001b[0m \u001b[1m0s\u001b[0m 1ms/step - loss: 0.3872 \n",
            "Epoch 10/100\n",
            "\u001b[1m26/26\u001b[0m \u001b[32m━━━━━━━━━━━━━━━━━━━━\u001b[0m\u001b[37m\u001b[0m \u001b[1m0s\u001b[0m 1ms/step - loss: 0.2662 \n",
            "Epoch 11/100\n",
            "\u001b[1m26/26\u001b[0m \u001b[32m━━━━━━━━━━━━━━━━━━━━\u001b[0m\u001b[37m\u001b[0m \u001b[1m0s\u001b[0m 1ms/step - loss: 0.2381 \n",
            "Epoch 12/100\n",
            "\u001b[1m26/26\u001b[0m \u001b[32m━━━━━━━━━━━━━━━━━━━━\u001b[0m\u001b[37m\u001b[0m \u001b[1m0s\u001b[0m 1ms/step - loss: 0.2114 \n",
            "Epoch 13/100\n",
            "\u001b[1m26/26\u001b[0m \u001b[32m━━━━━━━━━━━━━━━━━━━━\u001b[0m\u001b[37m\u001b[0m \u001b[1m0s\u001b[0m 1ms/step - loss: 0.1917 \n",
            "Epoch 14/100\n",
            "\u001b[1m26/26\u001b[0m \u001b[32m━━━━━━━━━━━━━━━━━━━━\u001b[0m\u001b[37m\u001b[0m \u001b[1m0s\u001b[0m 1ms/step - loss: 0.1795 \n",
            "Epoch 15/100\n",
            "\u001b[1m26/26\u001b[0m \u001b[32m━━━━━━━━━━━━━━━━━━━━\u001b[0m\u001b[37m\u001b[0m \u001b[1m0s\u001b[0m 1ms/step - loss: 0.1977 \n",
            "Epoch 16/100\n",
            "\u001b[1m26/26\u001b[0m \u001b[32m━━━━━━━━━━━━━━━━━━━━\u001b[0m\u001b[37m\u001b[0m \u001b[1m0s\u001b[0m 1ms/step - loss: 0.1694 \n",
            "Epoch 17/100\n",
            "\u001b[1m26/26\u001b[0m \u001b[32m━━━━━━━━━━━━━━━━━━━━\u001b[0m\u001b[37m\u001b[0m \u001b[1m0s\u001b[0m 1ms/step - loss: 0.1788 \n",
            "Epoch 18/100\n",
            "\u001b[1m26/26\u001b[0m \u001b[32m━━━━━━━━━━━━━━━━━━━━\u001b[0m\u001b[37m\u001b[0m \u001b[1m0s\u001b[0m 1ms/step - loss: 0.1712 \n",
            "Epoch 19/100\n",
            "\u001b[1m26/26\u001b[0m \u001b[32m━━━━━━━━━━━━━━━━━━━━\u001b[0m\u001b[37m\u001b[0m \u001b[1m0s\u001b[0m 1ms/step - loss: 0.1812 \n",
            "Epoch 20/100\n",
            "\u001b[1m26/26\u001b[0m \u001b[32m━━━━━━━━━━━━━━━━━━━━\u001b[0m\u001b[37m\u001b[0m \u001b[1m0s\u001b[0m 1ms/step - loss: 0.1768 \n",
            "Epoch 21/100\n",
            "\u001b[1m26/26\u001b[0m \u001b[32m━━━━━━━━━━━━━━━━━━━━\u001b[0m\u001b[37m\u001b[0m \u001b[1m0s\u001b[0m 1ms/step - loss: 0.1720 \n",
            "Epoch 22/100\n",
            "\u001b[1m26/26\u001b[0m \u001b[32m━━━━━━━━━━━━━━━━━━━━\u001b[0m\u001b[37m\u001b[0m \u001b[1m0s\u001b[0m 1ms/step - loss: 0.1703 \n",
            "Epoch 23/100\n",
            "\u001b[1m26/26\u001b[0m \u001b[32m━━━━━━━━━━━━━━━━━━━━\u001b[0m\u001b[37m\u001b[0m \u001b[1m0s\u001b[0m 1ms/step - loss: 0.1766 \n",
            "Epoch 24/100\n",
            "\u001b[1m26/26\u001b[0m \u001b[32m━━━━━━━━━━━━━━━━━━━━\u001b[0m\u001b[37m\u001b[0m \u001b[1m0s\u001b[0m 1ms/step - loss: 0.1775 \n",
            "Epoch 25/100\n",
            "\u001b[1m26/26\u001b[0m \u001b[32m━━━━━━━━━━━━━━━━━━━━\u001b[0m\u001b[37m\u001b[0m \u001b[1m0s\u001b[0m 1ms/step - loss: 0.1677 \n",
            "Epoch 26/100\n",
            "\u001b[1m26/26\u001b[0m \u001b[32m━━━━━━━━━━━━━━━━━━━━\u001b[0m\u001b[37m\u001b[0m \u001b[1m0s\u001b[0m 1ms/step - loss: 0.1669 \n",
            "Epoch 27/100\n",
            "\u001b[1m26/26\u001b[0m \u001b[32m━━━━━━━━━━━━━━━━━━━━\u001b[0m\u001b[37m\u001b[0m \u001b[1m0s\u001b[0m 1ms/step - loss: 0.1751 \n",
            "Epoch 28/100\n",
            "\u001b[1m26/26\u001b[0m \u001b[32m━━━━━━━━━━━━━━━━━━━━\u001b[0m\u001b[37m\u001b[0m \u001b[1m0s\u001b[0m 1ms/step - loss: 0.1799 \n",
            "Epoch 29/100\n",
            "\u001b[1m26/26\u001b[0m \u001b[32m━━━━━━━━━━━━━━━━━━━━\u001b[0m\u001b[37m\u001b[0m \u001b[1m0s\u001b[0m 1ms/step - loss: 0.1587 \n",
            "Epoch 30/100\n",
            "\u001b[1m26/26\u001b[0m \u001b[32m━━━━━━━━━━━━━━━━━━━━\u001b[0m\u001b[37m\u001b[0m \u001b[1m0s\u001b[0m 1ms/step - loss: 0.1778 \n",
            "Epoch 31/100\n",
            "\u001b[1m26/26\u001b[0m \u001b[32m━━━━━━━━━━━━━━━━━━━━\u001b[0m\u001b[37m\u001b[0m \u001b[1m0s\u001b[0m 961us/step - loss: 0.1714\n",
            "Epoch 32/100\n",
            "\u001b[1m26/26\u001b[0m \u001b[32m━━━━━━━━━━━━━━━━━━━━\u001b[0m\u001b[37m\u001b[0m \u001b[1m0s\u001b[0m 1ms/step - loss: 0.1968 \n",
            "Epoch 33/100\n",
            "\u001b[1m26/26\u001b[0m \u001b[32m━━━━━━━━━━━━━━━━━━━━\u001b[0m\u001b[37m\u001b[0m \u001b[1m0s\u001b[0m 1ms/step - loss: 0.1591 \n",
            "Epoch 34/100\n",
            "\u001b[1m26/26\u001b[0m \u001b[32m━━━━━━━━━━━━━━━━━━━━\u001b[0m\u001b[37m\u001b[0m \u001b[1m0s\u001b[0m 1ms/step - loss: 0.1624 \n",
            "Epoch 35/100\n",
            "\u001b[1m26/26\u001b[0m \u001b[32m━━━━━━━━━━━━━━━━━━━━\u001b[0m\u001b[37m\u001b[0m \u001b[1m0s\u001b[0m 1ms/step - loss: 0.1552 \n",
            "Epoch 36/100\n",
            "\u001b[1m26/26\u001b[0m \u001b[32m━━━━━━━━━━━━━━━━━━━━\u001b[0m\u001b[37m\u001b[0m \u001b[1m0s\u001b[0m 1ms/step - loss: 0.1703 \n",
            "Epoch 37/100\n",
            "\u001b[1m26/26\u001b[0m \u001b[32m━━━━━━━━━━━━━━━━━━━━\u001b[0m\u001b[37m\u001b[0m \u001b[1m0s\u001b[0m 1ms/step - loss: 0.1584 \n",
            "Epoch 38/100\n",
            "\u001b[1m26/26\u001b[0m \u001b[32m━━━━━━━━━━━━━━━━━━━━\u001b[0m\u001b[37m\u001b[0m \u001b[1m0s\u001b[0m 1ms/step - loss: 0.1546 \n",
            "Epoch 39/100\n",
            "\u001b[1m26/26\u001b[0m \u001b[32m━━━━━━━━━━━━━━━━━━━━\u001b[0m\u001b[37m\u001b[0m \u001b[1m0s\u001b[0m 1ms/step - loss: 0.1670 \n",
            "Epoch 40/100\n",
            "\u001b[1m26/26\u001b[0m \u001b[32m━━━━━━━━━━━━━━━━━━━━\u001b[0m\u001b[37m\u001b[0m \u001b[1m0s\u001b[0m 1ms/step - loss: 0.1722 \n",
            "Epoch 41/100\n",
            "\u001b[1m26/26\u001b[0m \u001b[32m━━━━━━━━━━━━━━━━━━━━\u001b[0m\u001b[37m\u001b[0m \u001b[1m0s\u001b[0m 981us/step - loss: 0.1654\n",
            "Epoch 42/100\n",
            "\u001b[1m26/26\u001b[0m \u001b[32m━━━━━━━━━━━━━━━━━━━━\u001b[0m\u001b[37m\u001b[0m \u001b[1m0s\u001b[0m 1ms/step - loss: 0.1668 \n",
            "Epoch 43/100\n",
            "\u001b[1m26/26\u001b[0m \u001b[32m━━━━━━━━━━━━━━━━━━━━\u001b[0m\u001b[37m\u001b[0m \u001b[1m0s\u001b[0m 1ms/step - loss: 0.1500 \n",
            "Epoch 44/100\n",
            "\u001b[1m26/26\u001b[0m \u001b[32m━━━━━━━━━━━━━━━━━━━━\u001b[0m\u001b[37m\u001b[0m \u001b[1m0s\u001b[0m 1ms/step - loss: 0.1659 \n",
            "Epoch 45/100\n",
            "\u001b[1m26/26\u001b[0m \u001b[32m━━━━━━━━━━━━━━━━━━━━\u001b[0m\u001b[37m\u001b[0m \u001b[1m0s\u001b[0m 1ms/step - loss: 0.1764 \n",
            "Epoch 46/100\n",
            "\u001b[1m26/26\u001b[0m \u001b[32m━━━━━━━━━━━━━━━━━━━━\u001b[0m\u001b[37m\u001b[0m \u001b[1m0s\u001b[0m 1ms/step - loss: 0.1532 \n",
            "Epoch 47/100\n",
            "\u001b[1m26/26\u001b[0m \u001b[32m━━━━━━━━━━━━━━━━━━━━\u001b[0m\u001b[37m\u001b[0m \u001b[1m0s\u001b[0m 1ms/step - loss: 0.1699 \n",
            "Epoch 48/100\n",
            "\u001b[1m26/26\u001b[0m \u001b[32m━━━━━━━━━━━━━━━━━━━━\u001b[0m\u001b[37m\u001b[0m \u001b[1m0s\u001b[0m 1ms/step - loss: 0.1840 \n",
            "Epoch 49/100\n",
            "\u001b[1m26/26\u001b[0m \u001b[32m━━━━━━━━━━━━━━━━━━━━\u001b[0m\u001b[37m\u001b[0m \u001b[1m0s\u001b[0m 1ms/step - loss: 0.1847 \n",
            "Epoch 50/100\n",
            "\u001b[1m26/26\u001b[0m \u001b[32m━━━━━━━━━━━━━━━━━━━━\u001b[0m\u001b[37m\u001b[0m \u001b[1m0s\u001b[0m 1ms/step - loss: 0.1731 \n",
            "Epoch 51/100\n",
            "\u001b[1m26/26\u001b[0m \u001b[32m━━━━━━━━━━━━━━━━━━━━\u001b[0m\u001b[37m\u001b[0m \u001b[1m0s\u001b[0m 988us/step - loss: 0.1681\n",
            "Epoch 52/100\n",
            "\u001b[1m26/26\u001b[0m \u001b[32m━━━━━━━━━━━━━━━━━━━━\u001b[0m\u001b[37m\u001b[0m \u001b[1m0s\u001b[0m 1ms/step - loss: 0.2474 \n",
            "Epoch 53/100\n",
            "\u001b[1m26/26\u001b[0m \u001b[32m━━━━━━━━━━━━━━━━━━━━\u001b[0m\u001b[37m\u001b[0m \u001b[1m0s\u001b[0m 1ms/step - loss: 0.1494 \n",
            "Epoch 54/100\n",
            "\u001b[1m26/26\u001b[0m \u001b[32m━━━━━━━━━━━━━━━━━━━━\u001b[0m\u001b[37m\u001b[0m \u001b[1m0s\u001b[0m 1ms/step - loss: 0.1657 \n",
            "Epoch 55/100\n",
            "\u001b[1m26/26\u001b[0m \u001b[32m━━━━━━━━━━━━━━━━━━━━\u001b[0m\u001b[37m\u001b[0m \u001b[1m0s\u001b[0m 1ms/step - loss: 0.1592 \n",
            "Epoch 56/100\n",
            "\u001b[1m26/26\u001b[0m \u001b[32m━━━━━━━━━━━━━━━━━━━━\u001b[0m\u001b[37m\u001b[0m \u001b[1m0s\u001b[0m 1ms/step - loss: 0.1422 \n",
            "Epoch 57/100\n",
            "\u001b[1m26/26\u001b[0m \u001b[32m━━━━━━━━━━━━━━━━━━━━\u001b[0m\u001b[37m\u001b[0m \u001b[1m0s\u001b[0m 1ms/step - loss: 0.1415 \n",
            "Epoch 58/100\n",
            "\u001b[1m26/26\u001b[0m \u001b[32m━━━━━━━━━━━━━━━━━━━━\u001b[0m\u001b[37m\u001b[0m \u001b[1m0s\u001b[0m 1ms/step - loss: 0.1460 \n",
            "Epoch 59/100\n",
            "\u001b[1m26/26\u001b[0m \u001b[32m━━━━━━━━━━━━━━━━━━━━\u001b[0m\u001b[37m\u001b[0m \u001b[1m0s\u001b[0m 1ms/step - loss: 0.1473 \n",
            "Epoch 60/100\n",
            "\u001b[1m26/26\u001b[0m \u001b[32m━━━━━━━━━━━━━━━━━━━━\u001b[0m\u001b[37m\u001b[0m \u001b[1m0s\u001b[0m 958us/step - loss: 0.1561\n",
            "Epoch 61/100\n",
            "\u001b[1m26/26\u001b[0m \u001b[32m━━━━━━━━━━━━━━━━━━━━\u001b[0m\u001b[37m\u001b[0m \u001b[1m0s\u001b[0m 1ms/step - loss: 0.1397 \n",
            "Epoch 62/100\n",
            "\u001b[1m26/26\u001b[0m \u001b[32m━━━━━━━━━━━━━━━━━━━━\u001b[0m\u001b[37m\u001b[0m \u001b[1m0s\u001b[0m 1ms/step - loss: 0.1709 \n",
            "Epoch 63/100\n",
            "\u001b[1m26/26\u001b[0m \u001b[32m━━━━━━━━━━━━━━━━━━━━\u001b[0m\u001b[37m\u001b[0m \u001b[1m0s\u001b[0m 1ms/step - loss: 0.1336 \n",
            "Epoch 64/100\n",
            "\u001b[1m26/26\u001b[0m \u001b[32m━━━━━━━━━━━━━━━━━━━━\u001b[0m\u001b[37m\u001b[0m \u001b[1m0s\u001b[0m 1ms/step - loss: 0.1310 \n",
            "Epoch 65/100\n",
            "\u001b[1m26/26\u001b[0m \u001b[32m━━━━━━━━━━━━━━━━━━━━\u001b[0m\u001b[37m\u001b[0m \u001b[1m0s\u001b[0m 1ms/step - loss: 0.1468 \n",
            "Epoch 66/100\n",
            "\u001b[1m26/26\u001b[0m \u001b[32m━━━━━━━━━━━━━━━━━━━━\u001b[0m\u001b[37m\u001b[0m \u001b[1m0s\u001b[0m 1ms/step - loss: 0.1247 \n",
            "Epoch 67/100\n",
            "\u001b[1m26/26\u001b[0m \u001b[32m━━━━━━━━━━━━━━━━━━━━\u001b[0m\u001b[37m\u001b[0m \u001b[1m0s\u001b[0m 1ms/step - loss: 0.1494 \n",
            "Epoch 68/100\n",
            "\u001b[1m26/26\u001b[0m \u001b[32m━━━━━━━━━━━━━━━━━━━━\u001b[0m\u001b[37m\u001b[0m \u001b[1m0s\u001b[0m 1ms/step - loss: 0.1485 \n",
            "Epoch 69/100\n",
            "\u001b[1m26/26\u001b[0m \u001b[32m━━━━━━━━━━━━━━━━━━━━\u001b[0m\u001b[37m\u001b[0m \u001b[1m0s\u001b[0m 1ms/step - loss: 0.1587 \n",
            "Epoch 70/100\n",
            "\u001b[1m26/26\u001b[0m \u001b[32m━━━━━━━━━━━━━━━━━━━━\u001b[0m\u001b[37m\u001b[0m \u001b[1m0s\u001b[0m 966us/step - loss: 0.1266\n",
            "Epoch 71/100\n",
            "\u001b[1m26/26\u001b[0m \u001b[32m━━━━━━━━━━━━━━━━━━━━\u001b[0m\u001b[37m\u001b[0m \u001b[1m0s\u001b[0m 1ms/step - loss: 0.1390 \n",
            "Epoch 72/100\n",
            "\u001b[1m26/26\u001b[0m \u001b[32m━━━━━━━━━━━━━━━━━━━━\u001b[0m\u001b[37m\u001b[0m \u001b[1m0s\u001b[0m 1ms/step - loss: 0.1479 \n",
            "Epoch 73/100\n",
            "\u001b[1m26/26\u001b[0m \u001b[32m━━━━━━━━━━━━━━━━━━━━\u001b[0m\u001b[37m\u001b[0m \u001b[1m0s\u001b[0m 1ms/step - loss: 0.1376 \n",
            "Epoch 74/100\n",
            "\u001b[1m26/26\u001b[0m \u001b[32m━━━━━━━━━━━━━━━━━━━━\u001b[0m\u001b[37m\u001b[0m \u001b[1m0s\u001b[0m 1ms/step - loss: 0.1307 \n",
            "Epoch 75/100\n",
            "\u001b[1m26/26\u001b[0m \u001b[32m━━━━━━━━━━━━━━━━━━━━\u001b[0m\u001b[37m\u001b[0m \u001b[1m0s\u001b[0m 1ms/step - loss: 0.1503 \n",
            "Epoch 76/100\n",
            "\u001b[1m26/26\u001b[0m \u001b[32m━━━━━━━━━━━━━━━━━━━━\u001b[0m\u001b[37m\u001b[0m \u001b[1m0s\u001b[0m 1ms/step - loss: 0.1372 \n",
            "Epoch 77/100\n",
            "\u001b[1m26/26\u001b[0m \u001b[32m━━━━━━━━━━━━━━━━━━━━\u001b[0m\u001b[37m\u001b[0m \u001b[1m0s\u001b[0m 983us/step - loss: 0.1325\n",
            "Epoch 78/100\n",
            "\u001b[1m26/26\u001b[0m \u001b[32m━━━━━━━━━━━━━━━━━━━━\u001b[0m\u001b[37m\u001b[0m \u001b[1m0s\u001b[0m 1ms/step - loss: 0.1193 \n",
            "Epoch 79/100\n",
            "\u001b[1m26/26\u001b[0m \u001b[32m━━━━━━━━━━━━━━━━━━━━\u001b[0m\u001b[37m\u001b[0m \u001b[1m0s\u001b[0m 1ms/step - loss: 0.1340 \n",
            "Epoch 80/100\n",
            "\u001b[1m26/26\u001b[0m \u001b[32m━━━━━━━━━━━━━━━━━━━━\u001b[0m\u001b[37m\u001b[0m \u001b[1m0s\u001b[0m 1ms/step - loss: 0.1392 \n",
            "Epoch 81/100\n",
            "\u001b[1m26/26\u001b[0m \u001b[32m━━━━━━━━━━━━━━━━━━━━\u001b[0m\u001b[37m\u001b[0m \u001b[1m0s\u001b[0m 1ms/step - loss: 0.1334 \n",
            "Epoch 82/100\n",
            "\u001b[1m26/26\u001b[0m \u001b[32m━━━━━━━━━━━━━━━━━━━━\u001b[0m\u001b[37m\u001b[0m \u001b[1m0s\u001b[0m 1ms/step - loss: 0.1272 \n",
            "Epoch 83/100\n",
            "\u001b[1m26/26\u001b[0m \u001b[32m━━━━━━━━━━━━━━━━━━━━\u001b[0m\u001b[37m\u001b[0m \u001b[1m0s\u001b[0m 1ms/step - loss: 0.1747 \n",
            "Epoch 84/100\n",
            "\u001b[1m26/26\u001b[0m \u001b[32m━━━━━━━━━━━━━━━━━━━━\u001b[0m\u001b[37m\u001b[0m \u001b[1m0s\u001b[0m 1ms/step - loss: 0.1239 \n",
            "Epoch 85/100\n",
            "\u001b[1m26/26\u001b[0m \u001b[32m━━━━━━━━━━━━━━━━━━━━\u001b[0m\u001b[37m\u001b[0m \u001b[1m0s\u001b[0m 1ms/step - loss: 0.1439 \n",
            "Epoch 86/100\n",
            "\u001b[1m26/26\u001b[0m \u001b[32m━━━━━━━━━━━━━━━━━━━━\u001b[0m\u001b[37m\u001b[0m \u001b[1m0s\u001b[0m 1ms/step - loss: 0.1416 \n",
            "Epoch 87/100\n",
            "\u001b[1m26/26\u001b[0m \u001b[32m━━━━━━━━━━━━━━━━━━━━\u001b[0m\u001b[37m\u001b[0m \u001b[1m0s\u001b[0m 1ms/step - loss: 0.1292 \n",
            "Epoch 88/100\n",
            "\u001b[1m26/26\u001b[0m \u001b[32m━━━━━━━━━━━━━━━━━━━━\u001b[0m\u001b[37m\u001b[0m \u001b[1m0s\u001b[0m 1ms/step - loss: 0.1294 \n",
            "Epoch 89/100\n",
            "\u001b[1m26/26\u001b[0m \u001b[32m━━━━━━━━━━━━━━━━━━━━\u001b[0m\u001b[37m\u001b[0m \u001b[1m0s\u001b[0m 1ms/step - loss: 0.1168 \n",
            "Epoch 90/100\n",
            "\u001b[1m26/26\u001b[0m \u001b[32m━━━━━━━━━━━━━━━━━━━━\u001b[0m\u001b[37m\u001b[0m \u001b[1m0s\u001b[0m 1ms/step - loss: 0.1442 \n",
            "Epoch 91/100\n",
            "\u001b[1m26/26\u001b[0m \u001b[32m━━━━━━━━━━━━━━━━━━━━\u001b[0m\u001b[37m\u001b[0m \u001b[1m0s\u001b[0m 1ms/step - loss: 0.1474 \n",
            "Epoch 92/100\n",
            "\u001b[1m26/26\u001b[0m \u001b[32m━━━━━━━━━━━━━━━━━━━━\u001b[0m\u001b[37m\u001b[0m \u001b[1m0s\u001b[0m 1ms/step - loss: 0.1306 \n",
            "Epoch 93/100\n",
            "\u001b[1m26/26\u001b[0m \u001b[32m━━━━━━━━━━━━━━━━━━━━\u001b[0m\u001b[37m\u001b[0m \u001b[1m0s\u001b[0m 1ms/step - loss: 0.1619 \n",
            "Epoch 94/100\n",
            "\u001b[1m26/26\u001b[0m \u001b[32m━━━━━━━━━━━━━━━━━━━━\u001b[0m\u001b[37m\u001b[0m \u001b[1m0s\u001b[0m 1ms/step - loss: 0.1508 \n",
            "Epoch 95/100\n",
            "\u001b[1m26/26\u001b[0m \u001b[32m━━━━━━━━━━━━━━━━━━━━\u001b[0m\u001b[37m\u001b[0m \u001b[1m0s\u001b[0m 1ms/step - loss: 0.1904 \n",
            "Epoch 96/100\n",
            "\u001b[1m26/26\u001b[0m \u001b[32m━━━━━━━━━━━━━━━━━━━━\u001b[0m\u001b[37m\u001b[0m \u001b[1m0s\u001b[0m 1ms/step - loss: 0.1391 \n",
            "Epoch 97/100\n",
            "\u001b[1m26/26\u001b[0m \u001b[32m━━━━━━━━━━━━━━━━━━━━\u001b[0m\u001b[37m\u001b[0m \u001b[1m0s\u001b[0m 1ms/step - loss: 0.1133 \n",
            "Epoch 98/100\n",
            "\u001b[1m26/26\u001b[0m \u001b[32m━━━━━━━━━━━━━━━━━━━━\u001b[0m\u001b[37m\u001b[0m \u001b[1m0s\u001b[0m 1ms/step - loss: 0.1438 \n",
            "Epoch 99/100\n",
            "\u001b[1m26/26\u001b[0m \u001b[32m━━━━━━━━━━━━━━━━━━━━\u001b[0m\u001b[37m\u001b[0m \u001b[1m0s\u001b[0m 1ms/step - loss: 0.1560 \n",
            "Epoch 100/100\n",
            "\u001b[1m26/26\u001b[0m \u001b[32m━━━━━━━━━━━━━━━━━━━━\u001b[0m\u001b[37m\u001b[0m \u001b[1m0s\u001b[0m 961us/step - loss: 0.1175\n"
          ]
        }
      ],
      "source": [
        "# Melatih model\n",
        "history = model_tf.fit(X_train, y_train, epochs=100, verbose=1)"
      ]
    },
    {
      "cell_type": "markdown",
      "metadata": {},
      "source": [
        "## 6. Evaluasi model dengan menghitung MSE, RMSE, dan RSquared"
      ]
    },
    {
      "cell_type": "code",
      "execution_count": 56,
      "metadata": {},
      "outputs": [
        {
          "name": "stdout",
          "output_type": "stream",
          "text": [
            "\u001b[1m7/7\u001b[0m \u001b[32m━━━━━━━━━━━━━━━━━━━━\u001b[0m\u001b[37m\u001b[0m \u001b[1m0s\u001b[0m 4ms/step \n",
            "MSE: 0.13485222230656788, RMSE: 0.3672223063847945, R^2: 0.3220834561227244\n"
          ]
        }
      ],
      "source": [
        "# Memprediksi data uji\n",
        "y_pred = model_tf.predict(X_test)\n",
        "\n",
        "# Menghitung metrik evaluasi\n",
        "mse, rmse, r2 = calculate_metrics(y_test, y_pred)\n",
        "print(f'MSE: {mse}, RMSE: {rmse}, R^2: {r2}')"
      ]
    },
    {
      "cell_type": "markdown",
      "metadata": {},
      "source": [
        "## 7. Memvisualisasikan Prediksi dari model yang telah dilatih"
      ]
    },
    {
      "cell_type": "code",
      "execution_count": 61,
      "metadata": {},
      "outputs": [
        {
          "data": {
            "image/png": "[encoded data removed]",
            "text/plain": [
              "<Figure size 640x480 with 1 Axes>"
            ]
          },
          "metadata": {},
          "output_type": "display_data"
        },
        {
          "data": {
            "image/png": "[encoded data removed]",
            "text/plain": [
              "<Figure size 640x480 with 1 Axes>"
            ]
          },
          "metadata": {},
          "output_type": "display_data"
        },
        {
          "name": "stderr",
          "output_type": "stream",
          "text": [
            "WARNING:absl:You are saving your model as an HDF5 file via `model.save()` or `keras.saving.save_model(model)`. This file format is considered legacy. We recommend using instead the native Keras format, e.g. `model.save('my_model.keras')` or `keras.saving.save_model(model, 'my_model.keras')`. \n"
          ]
        }
      ],
      "source": [
        "# Menampilkan plot hasil prediksi\n",
        "visualize_results(y_test, y_pred)\n",
        "\n",
        "# Menampilkan plot hasil training\n",
        "visualize_training(history.history)\n",
        "\n",
        "# Menyimpan model\n",
        "model_tf.save('model_tensorflow_infrared.h5')"
      ]
    },
    {
      "cell_type": "markdown",
      "metadata": {},
      "source": [
        "## Penjelasan Persamaan Matematika\n",
        "\n",
        "### Mean Squared Error (MSE)\n",
        "Mean Squared Error (MSE) adalah rata-rata dari kuadrat selisih antara nilai aktual dan nilai prediksi. MSE digunakan untuk mengukur seberapa baik model memprediksi nilai target. Rumusnya adalah:\n",
        "\n",
        "\\[ \\text{MSE} = \\frac{1}{n} \\sum_{i=1}^{n} (y_i - \\hat{y}_i)^2 \\]\n",
        "\n",
        "di mana:\n",
        "- \\( n \\) adalah jumlah data\n",
        "- \\( y_i \\) adalah nilai aktual\n",
        "- \\( \\hat{y}_i \\) adalah nilai prediksi\n",
        "\n",
        "### Root Mean Squared Error (RMSE)\n",
        "Root Mean Squared Error (RMSE) adalah akar kuadrat dari MSE. RMSE memberikan ukuran kesalahan prediksi dalam satuan yang sama dengan nilai target. Rumusnya adalah:\n",
        "\n",
        "\\[ \\text{RMSE} = \\sqrt{\\text{MSE}} \\]\n",
        "\n",
        "### R-squared (R²)\n",
        "R-squared (R²) adalah proporsi variansi dalam variabel dependen yang dapat dijelaskan oleh variabel independen dalam model. R² memberikan indikasi seberapa baik model cocok dengan data. Rumusnya adalah:\n",
        "\n",
        "\\[ R^2 = 1 - \\frac{\\sum_{i=1}^{n} (y_i - \\hat{y}_i)^2}{\\sum_{i=1}^{n} (y_i - \\bar{y})^2} \\]\n",
        "\n",
        "di mana:\n",
        "- \\( y_i \\) adalah nilai aktual\n",
        "- \\( \\hat{y}_i \\) adalah nilai prediksi\n",
        "- \\( \\bar{y} \\) adalah rata-rata nilai aktual\n",
        "\n",
        "### Sum of Squared Residuals (SSR)\n",
        "Sum of Squared Residuals (SSR) adalah jumlah dari kuadrat selisih antara nilai aktual dan nilai prediksi. SSR digunakan dalam perhitungan R². Rumusnya adalah:\n",
        "\n",
        "\\[ \\text{SSR} = \\sum_{i=1}^{n} (y_i - \\hat{y}_i)^2 \\]\n",
        "\n",
        "### Total Sum of Squares (SST)\n",
        "Total Sum of Squares (SST) adalah jumlah dari kuadrat selisih antara nilai aktual dan rata-rata nilai aktual. SST digunakan dalam perhitungan R². Rumusnya adalah:\n",
        "\n",
        "\\[ \\text{SST} = \\sum_{i=1}^{n} (y_i - \\bar{y})^2 \\]"
      ]
    }
  ],
  "metadata": {
    "colab": {
      "authorship_tag": "ABX9TyPkzN+0XcSgb//oXY25G2I+",
      "collapsed_sections": [
        "sEcuhK7kxBfZ"
      ],
      "include_colab_link": true,
      "provenance": []
    },
    "kernelspec": {
      "display_name": "Python 3",
      "name": "python3"
    },
    "language_info": {
      "codemirror_mode": {
        "name": "ipython",
        "version": 3
      },
      "file_extension": ".py",
      "mimetype": "text/x-python",
      "name": "python",
      "nbconvert_exporter": "python",
      "pygments_lexer": "ipython3",
      "version": "3.11.9"
    }
  },
  "nbformat": 4,
  "nbformat_minor": 0
}
