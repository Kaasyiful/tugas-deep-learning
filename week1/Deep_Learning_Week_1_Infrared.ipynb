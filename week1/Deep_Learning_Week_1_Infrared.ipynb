{
  "cells": [
    {
      "cell_type": "markdown",
      "metadata": {
        "id": "yIDeUs_Qv5Wh"
      },
      "source": [
        "# Penyelesaian Tugas Deep Learning menggunakan PyTorch and TensorFlow (Week 1, Dataset Infrared)"
      ]
    },
    {
      "cell_type": "markdown",
      "metadata": {
        "id": "6J_8HENkOj_d"
      },
      "source": [
        "# Persiapan: Pemuatan dan Preprocessing Data"
      ]
    },
    {
      "cell_type": "markdown",
      "metadata": {
        "id": "X_vW29SiwBCG"
      },
      "source": [
        "## 1. Menginstal atau Memastikan Instalasi PyTorch, Tensorflow dan Modul Pendukung Seperti NumPy dan Pandas"
      ]
    },
    {
      "cell_type": "code",
      "execution_count": 84,
      "metadata": {
        "colab": {
          "base_uri": "https://localhost:8080/"
        },
        "id": "UI-RHib4pRBV",
        "outputId": "9ce6321f-e445-4572-f8aa-32ba16c862be"
      },
      "outputs": [
        {
          "name": "stdout",
          "output_type": "stream",
          "text": [
            "Requirement already satisfied: pandas in c:\\users\\user\\appdata\\local\\programs\\python\\python311\\lib\\site-packages (2.1.4)\n",
            "Requirement already satisfied: numpy in c:\\users\\user\\appdata\\local\\programs\\python\\python311\\lib\\site-packages (1.26.2)\n",
            "Requirement already satisfied: matplotlib in c:\\users\\user\\appdata\\local\\programs\\python\\python311\\lib\\site-packages (3.8.3)\n",
            "Requirement already satisfied: scikit-learn in c:\\users\\user\\appdata\\local\\programs\\python\\python311\\lib\\site-packages (1.5.1)\n",
            "Requirement already satisfied: torch in c:\\users\\user\\appdata\\local\\programs\\python\\python311\\lib\\site-packages (2.3.0)\n",
            "Requirement already satisfied: tensorflow in c:\\users\\user\\appdata\\local\\programs\\python\\python311\\lib\\site-packages (2.17.0)\n",
            "Requirement already satisfied: python-dateutil>=2.8.2 in c:\\users\\user\\appdata\\local\\programs\\python\\python311\\lib\\site-packages (from pandas) (2.8.2)\n",
            "Requirement already satisfied: pytz>=2020.1 in c:\\users\\user\\appdata\\local\\programs\\python\\python311\\lib\\site-packages (from pandas) (2023.3.post1)\n",
            "Requirement already satisfied: tzdata>=2022.1 in c:\\users\\user\\appdata\\local\\programs\\python\\python311\\lib\\site-packages (from pandas) (2023.4)\n",
            "Requirement already satisfied: contourpy>=1.0.1 in c:\\users\\user\\appdata\\local\\programs\\python\\python311\\lib\\site-packages (from matplotlib) (1.2.0)\n",
            "Requirement already satisfied: cycler>=0.10 in c:\\users\\user\\appdata\\local\\programs\\python\\python311\\lib\\site-packages (from matplotlib) (0.12.1)\n",
            "Requirement already satisfied: fonttools>=4.22.0 in c:\\users\\user\\appdata\\local\\programs\\python\\python311\\lib\\site-packages (from matplotlib) (4.49.0)\n",
            "Requirement already satisfied: kiwisolver>=1.3.1 in c:\\users\\user\\appdata\\local\\programs\\python\\python311\\lib\\site-packages (from matplotlib) (1.4.5)\n",
            "Requirement already satisfied: packaging>=20.0 in c:\\users\\user\\appdata\\local\\programs\\python\\python311\\lib\\site-packages (from matplotlib) (23.1)\n",
            "Requirement already satisfied: pillow>=8 in c:\\users\\user\\appdata\\local\\programs\\python\\python311\\lib\\site-packages (from matplotlib) (10.1.0)\n",
            "Requirement already satisfied: pyparsing>=2.3.1 in c:\\users\\user\\appdata\\local\\programs\\python\\python311\\lib\\site-packages (from matplotlib) (3.1.1)\n",
            "Requirement already satisfied: scipy>=1.6.0 in c:\\users\\user\\appdata\\local\\programs\\python\\python311\\lib\\site-packages (from scikit-learn) (1.13.1)\n",
            "Requirement already satisfied: joblib>=1.2.0 in c:\\users\\user\\appdata\\local\\programs\\python\\python311\\lib\\site-packages (from scikit-learn) (1.4.0)\n",
            "Requirement already satisfied: threadpoolctl>=3.1.0 in c:\\users\\user\\appdata\\local\\programs\\python\\python311\\lib\\site-packages (from scikit-learn) (3.5.0)\n",
            "Requirement already satisfied: filelock in c:\\users\\user\\appdata\\local\\programs\\python\\python311\\lib\\site-packages (from torch) (3.14.0)\n",
            "Requirement already satisfied: typing-extensions>=4.8.0 in c:\\users\\user\\appdata\\local\\programs\\python\\python311\\lib\\site-packages (from torch) (4.12.2)\n",
            "Requirement already satisfied: sympy in c:\\users\\user\\appdata\\local\\programs\\python\\python311\\lib\\site-packages (from torch) (1.12)\n",
            "Requirement already satisfied: networkx in c:\\users\\user\\appdata\\local\\programs\\python\\python311\\lib\\site-packages (from torch) (3.3)\n",
            "Requirement already satisfied: jinja2 in c:\\users\\user\\appdata\\local\\programs\\python\\python311\\lib\\site-packages (from torch) (3.1.2)\n",
            "Requirement already satisfied: fsspec in c:\\users\\user\\appdata\\local\\programs\\python\\python311\\lib\\site-packages (from torch) (2024.5.0)\n",
            "Requirement already satisfied: mkl<=2021.4.0,>=2021.1.1 in c:\\users\\user\\appdata\\local\\programs\\python\\python311\\lib\\site-packages (from torch) (2021.4.0)\n",
            "Requirement already satisfied: tensorflow-intel==2.17.0 in c:\\users\\user\\appdata\\local\\programs\\python\\python311\\lib\\site-packages (from tensorflow) (2.17.0)\n",
            "Requirement already satisfied: absl-py>=1.0.0 in c:\\users\\user\\appdata\\local\\programs\\python\\python311\\lib\\site-packages (from tensorflow-intel==2.17.0->tensorflow) (2.1.0)\n",
            "Requirement already satisfied: astunparse>=1.6.0 in c:\\users\\user\\appdata\\local\\programs\\python\\python311\\lib\\site-packages (from tensorflow-intel==2.17.0->tensorflow) (1.6.3)\n",
            "Requirement already satisfied: flatbuffers>=24.3.25 in c:\\users\\user\\appdata\\local\\programs\\python\\python311\\lib\\site-packages (from tensorflow-intel==2.17.0->tensorflow) (24.3.25)\n",
            "Requirement already satisfied: gast!=0.5.0,!=0.5.1,!=0.5.2,>=0.2.1 in c:\\users\\user\\appdata\\local\\programs\\python\\python311\\lib\\site-packages (from tensorflow-intel==2.17.0->tensorflow) (0.6.0)\n",
            "Requirement already satisfied: google-pasta>=0.1.1 in c:\\users\\user\\appdata\\local\\programs\\python\\python311\\lib\\site-packages (from tensorflow-intel==2.17.0->tensorflow) (0.2.0)\n",
            "Requirement already satisfied: h5py>=3.10.0 in c:\\users\\user\\appdata\\local\\programs\\python\\python311\\lib\\site-packages (from tensorflow-intel==2.17.0->tensorflow) (3.11.0)\n",
            "Requirement already satisfied: libclang>=13.0.0 in c:\\users\\user\\appdata\\local\\programs\\python\\python311\\lib\\site-packages (from tensorflow-intel==2.17.0->tensorflow) (18.1.1)\n",
            "Requirement already satisfied: ml-dtypes<0.5.0,>=0.3.1 in c:\\users\\user\\appdata\\local\\programs\\python\\python311\\lib\\site-packages (from tensorflow-intel==2.17.0->tensorflow) (0.4.0)\n",
            "Requirement already satisfied: opt-einsum>=2.3.2 in c:\\users\\user\\appdata\\local\\programs\\python\\python311\\lib\\site-packages (from tensorflow-intel==2.17.0->tensorflow) (3.3.0)\n",
            "Requirement already satisfied: protobuf!=4.21.0,!=4.21.1,!=4.21.2,!=4.21.3,!=4.21.4,!=4.21.5,<5.0.0dev,>=3.20.3 in c:\\users\\user\\appdata\\local\\programs\\python\\python311\\lib\\site-packages (from tensorflow-intel==2.17.0->tensorflow) (4.25.4)\n",
            "Requirement already satisfied: requests<3,>=2.21.0 in c:\\users\\user\\appdata\\local\\programs\\python\\python311\\lib\\site-packages (from tensorflow-intel==2.17.0->tensorflow) (2.31.0)\n",
            "Requirement already satisfied: setuptools in c:\\users\\user\\appdata\\local\\programs\\python\\python311\\lib\\site-packages (from tensorflow-intel==2.17.0->tensorflow) (65.5.0)\n",
            "Requirement already satisfied: six>=1.12.0 in c:\\users\\user\\appdata\\local\\programs\\python\\python311\\lib\\site-packages (from tensorflow-intel==2.17.0->tensorflow) (1.16.0)\n",
            "Requirement already satisfied: termcolor>=1.1.0 in c:\\users\\user\\appdata\\local\\programs\\python\\python311\\lib\\site-packages (from tensorflow-intel==2.17.0->tensorflow) (2.4.0)\n",
            "Requirement already satisfied: wrapt>=1.11.0 in c:\\users\\user\\appdata\\local\\programs\\python\\python311\\lib\\site-packages (from tensorflow-intel==2.17.0->tensorflow) (1.16.0)\n",
            "Requirement already satisfied: grpcio<2.0,>=1.24.3 in c:\\users\\user\\appdata\\local\\programs\\python\\python311\\lib\\site-packages (from tensorflow-intel==2.17.0->tensorflow) (1.65.5)\n",
            "Requirement already satisfied: tensorboard<2.18,>=2.17 in c:\\users\\user\\appdata\\local\\programs\\python\\python311\\lib\\site-packages (from tensorflow-intel==2.17.0->tensorflow) (2.17.1)\n",
            "Requirement already satisfied: keras>=3.2.0 in c:\\users\\user\\appdata\\local\\programs\\python\\python311\\lib\\site-packages (from tensorflow-intel==2.17.0->tensorflow) (3.3.3)\n",
            "Requirement already satisfied: tensorflow-io-gcs-filesystem>=0.23.1 in c:\\users\\user\\appdata\\local\\programs\\python\\python311\\lib\\site-packages (from tensorflow-intel==2.17.0->tensorflow) (0.31.0)\n",
            "Requirement already satisfied: intel-openmp==2021.* in c:\\users\\user\\appdata\\local\\programs\\python\\python311\\lib\\site-packages (from mkl<=2021.4.0,>=2021.1.1->torch) (2021.4.0)\n",
            "Requirement already satisfied: tbb==2021.* in c:\\users\\user\\appdata\\local\\programs\\python\\python311\\lib\\site-packages (from mkl<=2021.4.0,>=2021.1.1->torch) (2021.12.0)\n",
            "Requirement already satisfied: MarkupSafe>=2.0 in c:\\users\\user\\appdata\\local\\programs\\python\\python311\\lib\\site-packages (from jinja2->torch) (2.1.3)\n",
            "Requirement already satisfied: mpmath>=0.19 in c:\\users\\user\\appdata\\local\\programs\\python\\python311\\lib\\site-packages (from sympy->torch) (1.3.0)\n",
            "Requirement already satisfied: wheel<1.0,>=0.23.0 in c:\\users\\user\\appdata\\local\\programs\\python\\python311\\lib\\site-packages (from astunparse>=1.6.0->tensorflow-intel==2.17.0->tensorflow) (0.44.0)\n",
            "Requirement already satisfied: rich in c:\\users\\user\\appdata\\local\\programs\\python\\python311\\lib\\site-packages (from keras>=3.2.0->tensorflow-intel==2.17.0->tensorflow) (13.7.1)\n",
            "Requirement already satisfied: namex in c:\\users\\user\\appdata\\local\\programs\\python\\python311\\lib\\site-packages (from keras>=3.2.0->tensorflow-intel==2.17.0->tensorflow) (0.0.8)\n",
            "Requirement already satisfied: optree in c:\\users\\user\\appdata\\local\\programs\\python\\python311\\lib\\site-packages (from keras>=3.2.0->tensorflow-intel==2.17.0->tensorflow) (0.11.0)\n",
            "Requirement already satisfied: charset-normalizer<4,>=2 in c:\\users\\user\\appdata\\local\\programs\\python\\python311\\lib\\site-packages (from requests<3,>=2.21.0->tensorflow-intel==2.17.0->tensorflow) (3.3.2)\n",
            "Requirement already satisfied: idna<4,>=2.5 in c:\\users\\user\\appdata\\local\\programs\\python\\python311\\lib\\site-packages (from requests<3,>=2.21.0->tensorflow-intel==2.17.0->tensorflow) (3.6)\n",
            "Requirement already satisfied: urllib3<3,>=1.21.1 in c:\\users\\user\\appdata\\local\\programs\\python\\python311\\lib\\site-packages (from requests<3,>=2.21.0->tensorflow-intel==2.17.0->tensorflow) (2.1.0)\n",
            "Requirement already satisfied: certifi>=2017.4.17 in c:\\users\\user\\appdata\\local\\programs\\python\\python311\\lib\\site-packages (from requests<3,>=2.21.0->tensorflow-intel==2.17.0->tensorflow) (2023.11.17)\n",
            "Requirement already satisfied: markdown>=2.6.8 in c:\\users\\user\\appdata\\local\\programs\\python\\python311\\lib\\site-packages (from tensorboard<2.18,>=2.17->tensorflow-intel==2.17.0->tensorflow) (3.5.1)\n",
            "Requirement already satisfied: tensorboard-data-server<0.8.0,>=0.7.0 in c:\\users\\user\\appdata\\local\\programs\\python\\python311\\lib\\site-packages (from tensorboard<2.18,>=2.17->tensorflow-intel==2.17.0->tensorflow) (0.7.2)\n",
            "Requirement already satisfied: werkzeug>=1.0.1 in c:\\users\\user\\appdata\\local\\programs\\python\\python311\\lib\\site-packages (from tensorboard<2.18,>=2.17->tensorflow-intel==2.17.0->tensorflow) (2.3.8)\n",
            "Requirement already satisfied: markdown-it-py>=2.2.0 in c:\\users\\user\\appdata\\local\\programs\\python\\python311\\lib\\site-packages (from rich->keras>=3.2.0->tensorflow-intel==2.17.0->tensorflow) (3.0.0)\n",
            "Requirement already satisfied: pygments<3.0.0,>=2.13.0 in c:\\users\\user\\appdata\\local\\programs\\python\\python311\\lib\\site-packages (from rich->keras>=3.2.0->tensorflow-intel==2.17.0->tensorflow) (2.17.2)\n",
            "Requirement already satisfied: mdurl~=0.1 in c:\\users\\user\\appdata\\local\\programs\\python\\python311\\lib\\site-packages (from markdown-it-py>=2.2.0->rich->keras>=3.2.0->tensorflow-intel==2.17.0->tensorflow) (0.1.2)\n",
            "Note: you may need to restart the kernel to use updated packages.\n"
          ]
        }
      ],
      "source": [
        "%pip install pandas numpy matplotlib scikit-learn torch tensorflow"
      ]
    },
    {
      "cell_type": "markdown",
      "metadata": {
        "id": "XhooEfX-wPGP"
      },
      "source": [
        "## 2. Mengimpor Library yang Dibutuhkan"
      ]
    },
    {
      "cell_type": "code",
      "execution_count": 85,
      "metadata": {
        "id": "d7HG1c1VOj_f"
      },
      "outputs": [],
      "source": [
        "import pandas as pd # untuk membaca data dari file csv\n",
        "import numpy as np # untuk operasi matematika\n",
        "from sklearn.model_selection import train_test_split # untuk membagi data menjadi data latih dan data uji\n",
        "from sklearn.preprocessing import LabelEncoder # untuk mengubah label kelas menjadi angka\n",
        "import matplotlib.pyplot as plt # untuk membuat plot"
      ]
    },
    {
      "cell_type": "markdown",
      "metadata": {
        "id": "yXjCRAa9Oj_g"
      },
      "source": [
        "## 3. Memuat Dataset ke Dalam Program"
      ]
    },
    {
      "cell_type": "code",
      "execution_count": 86,
      "metadata": {
        "id": "cCDowG7ZOj_g",
        "outputId": "7525e026-79ed-40dc-a4e0-b524fba6120b"
      },
      "outputs": [
        {
          "data": {
            "text/html": [
              "<div>\n",
              "<style scoped>\n",
              "    .dataframe tbody tr th:only-of-type {\n",
              "        vertical-align: middle;\n",
              "    }\n",
              "\n",
              "    .dataframe tbody tr th {\n",
              "        vertical-align: top;\n",
              "    }\n",
              "\n",
              "    .dataframe thead th {\n",
              "        text-align: right;\n",
              "    }\n",
              "</style>\n",
              "<table border=\"1\" class=\"dataframe\">\n",
              "  <thead>\n",
              "    <tr style=\"text-align: right;\">\n",
              "      <th></th>\n",
              "      <th>Gender</th>\n",
              "      <th>Age</th>\n",
              "      <th>Ethnicity</th>\n",
              "      <th>T_atm</th>\n",
              "      <th>Humidity</th>\n",
              "      <th>Distance</th>\n",
              "      <th>T_offset1</th>\n",
              "      <th>Max1R13_1</th>\n",
              "      <th>Max1L13_1</th>\n",
              "      <th>aveAllR13_1</th>\n",
              "      <th>...</th>\n",
              "      <th>T_FHRC1</th>\n",
              "      <th>T_FHLC1</th>\n",
              "      <th>T_FHBC1</th>\n",
              "      <th>T_FHTC1</th>\n",
              "      <th>T_FH_Max1</th>\n",
              "      <th>T_FHC_Max1</th>\n",
              "      <th>T_Max1</th>\n",
              "      <th>T_OR1</th>\n",
              "      <th>T_OR_Max1</th>\n",
              "      <th>aveOralM</th>\n",
              "    </tr>\n",
              "  </thead>\n",
              "  <tbody>\n",
              "    <tr>\n",
              "      <th>717</th>\n",
              "      <td>Female</td>\n",
              "      <td>21-25</td>\n",
              "      <td>White</td>\n",
              "      <td>24.2</td>\n",
              "      <td>18.1</td>\n",
              "      <td>0.60</td>\n",
              "      <td>0.875000</td>\n",
              "      <td>35.657500</td>\n",
              "      <td>35.612500</td>\n",
              "      <td>34.392500</td>\n",
              "      <td>...</td>\n",
              "      <td>34.260000</td>\n",
              "      <td>33.8475</td>\n",
              "      <td>33.6875</td>\n",
              "      <td>34.295000</td>\n",
              "      <td>35.1825</td>\n",
              "      <td>34.8225</td>\n",
              "      <td>35.872500</td>\n",
              "      <td>35.425000</td>\n",
              "      <td>35.447500</td>\n",
              "      <td>36.89</td>\n",
              "    </tr>\n",
              "    <tr>\n",
              "      <th>113</th>\n",
              "      <td>Female</td>\n",
              "      <td>18-20</td>\n",
              "      <td>White</td>\n",
              "      <td>22.6</td>\n",
              "      <td>16.5</td>\n",
              "      <td>0.78</td>\n",
              "      <td>0.790000</td>\n",
              "      <td>35.283333</td>\n",
              "      <td>35.513333</td>\n",
              "      <td>34.426667</td>\n",
              "      <td>...</td>\n",
              "      <td>34.043333</td>\n",
              "      <td>34.2600</td>\n",
              "      <td>33.8000</td>\n",
              "      <td>34.366667</td>\n",
              "      <td>35.1600</td>\n",
              "      <td>34.7500</td>\n",
              "      <td>35.903333</td>\n",
              "      <td>35.800000</td>\n",
              "      <td>35.826667</td>\n",
              "      <td>37.24</td>\n",
              "    </tr>\n",
              "    <tr>\n",
              "      <th>270</th>\n",
              "      <td>Female</td>\n",
              "      <td>18-20</td>\n",
              "      <td>Hispanic/Latino</td>\n",
              "      <td>22.3</td>\n",
              "      <td>35.9</td>\n",
              "      <td>0.70</td>\n",
              "      <td>0.670000</td>\n",
              "      <td>36.195000</td>\n",
              "      <td>36.012500</td>\n",
              "      <td>35.672500</td>\n",
              "      <td>...</td>\n",
              "      <td>35.015000</td>\n",
              "      <td>34.9800</td>\n",
              "      <td>35.0150</td>\n",
              "      <td>35.202500</td>\n",
              "      <td>35.6000</td>\n",
              "      <td>35.5650</td>\n",
              "      <td>36.555000</td>\n",
              "      <td>36.535000</td>\n",
              "      <td>36.555000</td>\n",
              "      <td>37.09</td>\n",
              "    </tr>\n",
              "    <tr>\n",
              "      <th>344</th>\n",
              "      <td>Male</td>\n",
              "      <td>18-20</td>\n",
              "      <td>White</td>\n",
              "      <td>21.8</td>\n",
              "      <td>25.3</td>\n",
              "      <td>0.78</td>\n",
              "      <td>0.712500</td>\n",
              "      <td>35.820000</td>\n",
              "      <td>35.642500</td>\n",
              "      <td>35.472500</td>\n",
              "      <td>...</td>\n",
              "      <td>34.392500</td>\n",
              "      <td>34.3825</td>\n",
              "      <td>34.5225</td>\n",
              "      <td>34.800000</td>\n",
              "      <td>35.1625</td>\n",
              "      <td>35.0050</td>\n",
              "      <td>36.027500</td>\n",
              "      <td>35.550000</td>\n",
              "      <td>35.577500</td>\n",
              "      <td>37.59</td>\n",
              "    </tr>\n",
              "    <tr>\n",
              "      <th>638</th>\n",
              "      <td>Female</td>\n",
              "      <td>18-20</td>\n",
              "      <td>White</td>\n",
              "      <td>23.9</td>\n",
              "      <td>23.5</td>\n",
              "      <td>0.60</td>\n",
              "      <td>1.185000</td>\n",
              "      <td>35.877500</td>\n",
              "      <td>36.002500</td>\n",
              "      <td>35.235000</td>\n",
              "      <td>...</td>\n",
              "      <td>34.547500</td>\n",
              "      <td>34.8625</td>\n",
              "      <td>34.8275</td>\n",
              "      <td>34.885000</td>\n",
              "      <td>35.1675</td>\n",
              "      <td>35.1400</td>\n",
              "      <td>36.040000</td>\n",
              "      <td>35.732500</td>\n",
              "      <td>35.760000</td>\n",
              "      <td>36.94</td>\n",
              "    </tr>\n",
              "    <tr>\n",
              "      <th>262</th>\n",
              "      <td>Male</td>\n",
              "      <td>18-20</td>\n",
              "      <td>White</td>\n",
              "      <td>25.6</td>\n",
              "      <td>24.8</td>\n",
              "      <td>0.68</td>\n",
              "      <td>1.255000</td>\n",
              "      <td>37.472500</td>\n",
              "      <td>37.175000</td>\n",
              "      <td>36.977500</td>\n",
              "      <td>...</td>\n",
              "      <td>35.712500</td>\n",
              "      <td>35.7900</td>\n",
              "      <td>35.7850</td>\n",
              "      <td>36.040000</td>\n",
              "      <td>36.4650</td>\n",
              "      <td>36.3475</td>\n",
              "      <td>37.632500</td>\n",
              "      <td>37.470000</td>\n",
              "      <td>37.495000</td>\n",
              "      <td>38.49</td>\n",
              "    </tr>\n",
              "    <tr>\n",
              "      <th>624</th>\n",
              "      <td>Male</td>\n",
              "      <td>18-20</td>\n",
              "      <td>White</td>\n",
              "      <td>22.0</td>\n",
              "      <td>30.0</td>\n",
              "      <td>0.60</td>\n",
              "      <td>0.930000</td>\n",
              "      <td>35.397500</td>\n",
              "      <td>35.880000</td>\n",
              "      <td>34.262500</td>\n",
              "      <td>...</td>\n",
              "      <td>32.947500</td>\n",
              "      <td>32.7675</td>\n",
              "      <td>32.6225</td>\n",
              "      <td>32.600000</td>\n",
              "      <td>34.8000</td>\n",
              "      <td>33.9525</td>\n",
              "      <td>36.435000</td>\n",
              "      <td>36.380000</td>\n",
              "      <td>36.435000</td>\n",
              "      <td>37.44</td>\n",
              "    </tr>\n",
              "    <tr>\n",
              "      <th>926</th>\n",
              "      <td>Female</td>\n",
              "      <td>21-25</td>\n",
              "      <td>Asian</td>\n",
              "      <td>23.8</td>\n",
              "      <td>16.7</td>\n",
              "      <td>0.70</td>\n",
              "      <td>0.632500</td>\n",
              "      <td>34.872500</td>\n",
              "      <td>34.732500</td>\n",
              "      <td>34.187500</td>\n",
              "      <td>...</td>\n",
              "      <td>34.155000</td>\n",
              "      <td>34.3300</td>\n",
              "      <td>33.8275</td>\n",
              "      <td>34.055000</td>\n",
              "      <td>34.8725</td>\n",
              "      <td>34.4950</td>\n",
              "      <td>35.472500</td>\n",
              "      <td>35.425000</td>\n",
              "      <td>35.472500</td>\n",
              "      <td>36.49</td>\n",
              "    </tr>\n",
              "    <tr>\n",
              "      <th>560</th>\n",
              "      <td>Male</td>\n",
              "      <td>18-20</td>\n",
              "      <td>White</td>\n",
              "      <td>26.1</td>\n",
              "      <td>24.3</td>\n",
              "      <td>0.60</td>\n",
              "      <td>0.893333</td>\n",
              "      <td>36.873333</td>\n",
              "      <td>36.426667</td>\n",
              "      <td>36.390000</td>\n",
              "      <td>...</td>\n",
              "      <td>36.120000</td>\n",
              "      <td>35.7300</td>\n",
              "      <td>36.2200</td>\n",
              "      <td>36.473333</td>\n",
              "      <td>36.8900</td>\n",
              "      <td>36.5600</td>\n",
              "      <td>36.943333</td>\n",
              "      <td>36.323333</td>\n",
              "      <td>36.343333</td>\n",
              "      <td>37.94</td>\n",
              "    </tr>\n",
              "    <tr>\n",
              "      <th>366</th>\n",
              "      <td>Male</td>\n",
              "      <td>26-30</td>\n",
              "      <td>Black or African-American</td>\n",
              "      <td>22.7</td>\n",
              "      <td>53.4</td>\n",
              "      <td>0.72</td>\n",
              "      <td>1.307500</td>\n",
              "      <td>34.882500</td>\n",
              "      <td>35.302500</td>\n",
              "      <td>34.372500</td>\n",
              "      <td>...</td>\n",
              "      <td>34.610000</td>\n",
              "      <td>34.3625</td>\n",
              "      <td>34.4075</td>\n",
              "      <td>33.890000</td>\n",
              "      <td>35.1650</td>\n",
              "      <td>34.7925</td>\n",
              "      <td>35.760000</td>\n",
              "      <td>35.690000</td>\n",
              "      <td>35.730000</td>\n",
              "      <td>37.14</td>\n",
              "    </tr>\n",
              "  </tbody>\n",
              "</table>\n",
              "<p>10 rows × 34 columns</p>\n",
              "</div>"
            ],
            "text/plain": [
              "     Gender    Age                  Ethnicity  T_atm  Humidity  Distance  \\\n",
              "717  Female  21-25                      White   24.2      18.1      0.60   \n",
              "113  Female  18-20                      White   22.6      16.5      0.78   \n",
              "270  Female  18-20            Hispanic/Latino   22.3      35.9      0.70   \n",
              "344    Male  18-20                      White   21.8      25.3      0.78   \n",
              "638  Female  18-20                      White   23.9      23.5      0.60   \n",
              "262    Male  18-20                      White   25.6      24.8      0.68   \n",
              "624    Male  18-20                      White   22.0      30.0      0.60   \n",
              "926  Female  21-25                      Asian   23.8      16.7      0.70   \n",
              "560    Male  18-20                      White   26.1      24.3      0.60   \n",
              "366    Male  26-30  Black or African-American   22.7      53.4      0.72   \n",
              "\n",
              "     T_offset1  Max1R13_1  Max1L13_1  aveAllR13_1  ...    T_FHRC1  T_FHLC1  \\\n",
              "717   0.875000  35.657500  35.612500    34.392500  ...  34.260000  33.8475   \n",
              "113   0.790000  35.283333  35.513333    34.426667  ...  34.043333  34.2600   \n",
              "270   0.670000  36.195000  36.012500    35.672500  ...  35.015000  34.9800   \n",
              "344   0.712500  35.820000  35.642500    35.472500  ...  34.392500  34.3825   \n",
              "638   1.185000  35.877500  36.002500    35.235000  ...  34.547500  34.8625   \n",
              "262   1.255000  37.472500  37.175000    36.977500  ...  35.712500  35.7900   \n",
              "624   0.930000  35.397500  35.880000    34.262500  ...  32.947500  32.7675   \n",
              "926   0.632500  34.872500  34.732500    34.187500  ...  34.155000  34.3300   \n",
              "560   0.893333  36.873333  36.426667    36.390000  ...  36.120000  35.7300   \n",
              "366   1.307500  34.882500  35.302500    34.372500  ...  34.610000  34.3625   \n",
              "\n",
              "     T_FHBC1    T_FHTC1  T_FH_Max1  T_FHC_Max1     T_Max1      T_OR1  \\\n",
              "717  33.6875  34.295000    35.1825     34.8225  35.872500  35.425000   \n",
              "113  33.8000  34.366667    35.1600     34.7500  35.903333  35.800000   \n",
              "270  35.0150  35.202500    35.6000     35.5650  36.555000  36.535000   \n",
              "344  34.5225  34.800000    35.1625     35.0050  36.027500  35.550000   \n",
              "638  34.8275  34.885000    35.1675     35.1400  36.040000  35.732500   \n",
              "262  35.7850  36.040000    36.4650     36.3475  37.632500  37.470000   \n",
              "624  32.6225  32.600000    34.8000     33.9525  36.435000  36.380000   \n",
              "926  33.8275  34.055000    34.8725     34.4950  35.472500  35.425000   \n",
              "560  36.2200  36.473333    36.8900     36.5600  36.943333  36.323333   \n",
              "366  34.4075  33.890000    35.1650     34.7925  35.760000  35.690000   \n",
              "\n",
              "     T_OR_Max1  aveOralM  \n",
              "717  35.447500     36.89  \n",
              "113  35.826667     37.24  \n",
              "270  36.555000     37.09  \n",
              "344  35.577500     37.59  \n",
              "638  35.760000     36.94  \n",
              "262  37.495000     38.49  \n",
              "624  36.435000     37.44  \n",
              "926  35.472500     36.49  \n",
              "560  36.343333     37.94  \n",
              "366  35.730000     37.14  \n",
              "\n",
              "[10 rows x 34 columns]"
            ]
          },
          "execution_count": 86,
          "metadata": {},
          "output_type": "execute_result"
        }
      ],
      "source": [
        "data = pd.read_csv('./Infrared.csv').dropna() # membaca data dari file csv\n",
        "data.sample(10) # menampilkan 10 baris data secara acak"
      ]
    },
    {
      "cell_type": "code",
      "execution_count": 87,
      "metadata": {
        "id": "tnjj9PJfOj_h",
        "outputId": "f901778c-8ecf-4cb7-d28c-81d44c7ad410"
      },
      "outputs": [
        {
          "data": {
            "text/html": [
              "<div>\n",
              "<style scoped>\n",
              "    .dataframe tbody tr th:only-of-type {\n",
              "        vertical-align: middle;\n",
              "    }\n",
              "\n",
              "    .dataframe tbody tr th {\n",
              "        vertical-align: top;\n",
              "    }\n",
              "\n",
              "    .dataframe thead th {\n",
              "        text-align: right;\n",
              "    }\n",
              "</style>\n",
              "<table border=\"1\" class=\"dataframe\">\n",
              "  <thead>\n",
              "    <tr style=\"text-align: right;\">\n",
              "      <th></th>\n",
              "      <th>T_atm</th>\n",
              "      <th>Humidity</th>\n",
              "      <th>Distance</th>\n",
              "      <th>T_offset1</th>\n",
              "      <th>Max1R13_1</th>\n",
              "      <th>Max1L13_1</th>\n",
              "      <th>aveAllR13_1</th>\n",
              "      <th>aveAllL13_1</th>\n",
              "      <th>T_RC1</th>\n",
              "      <th>T_RC_Dry1</th>\n",
              "      <th>...</th>\n",
              "      <th>T_FHRC1</th>\n",
              "      <th>T_FHLC1</th>\n",
              "      <th>T_FHBC1</th>\n",
              "      <th>T_FHTC1</th>\n",
              "      <th>T_FH_Max1</th>\n",
              "      <th>T_FHC_Max1</th>\n",
              "      <th>T_Max1</th>\n",
              "      <th>T_OR1</th>\n",
              "      <th>T_OR_Max1</th>\n",
              "      <th>aveOralM</th>\n",
              "    </tr>\n",
              "  </thead>\n",
              "  <tbody>\n",
              "    <tr>\n",
              "      <th>count</th>\n",
              "      <td>1018.000000</td>\n",
              "      <td>1018.000000</td>\n",
              "      <td>1018.000000</td>\n",
              "      <td>1018.000000</td>\n",
              "      <td>1018.000000</td>\n",
              "      <td>1018.000000</td>\n",
              "      <td>1018.000000</td>\n",
              "      <td>1018.000000</td>\n",
              "      <td>1018.000000</td>\n",
              "      <td>1018.000000</td>\n",
              "      <td>...</td>\n",
              "      <td>1018.000000</td>\n",
              "      <td>1018.000000</td>\n",
              "      <td>1018.000000</td>\n",
              "      <td>1018.000000</td>\n",
              "      <td>1018.000000</td>\n",
              "      <td>1018.000000</td>\n",
              "      <td>1018.000000</td>\n",
              "      <td>1018.000000</td>\n",
              "      <td>1018.000000</td>\n",
              "      <td>1018.000000</td>\n",
              "    </tr>\n",
              "    <tr>\n",
              "      <th>mean</th>\n",
              "      <td>24.115815</td>\n",
              "      <td>28.749411</td>\n",
              "      <td>0.729784</td>\n",
              "      <td>0.968991</td>\n",
              "      <td>35.596374</td>\n",
              "      <td>35.611651</td>\n",
              "      <td>34.888828</td>\n",
              "      <td>35.012899</td>\n",
              "      <td>35.659874</td>\n",
              "      <td>35.587022</td>\n",
              "      <td>...</td>\n",
              "      <td>34.568583</td>\n",
              "      <td>34.565945</td>\n",
              "      <td>34.488836</td>\n",
              "      <td>34.578310</td>\n",
              "      <td>35.422130</td>\n",
              "      <td>35.094648</td>\n",
              "      <td>36.084615</td>\n",
              "      <td>35.805225</td>\n",
              "      <td>35.837984</td>\n",
              "      <td>37.028163</td>\n",
              "    </tr>\n",
              "    <tr>\n",
              "      <th>std</th>\n",
              "      <td>1.337617</td>\n",
              "      <td>13.070900</td>\n",
              "      <td>2.456486</td>\n",
              "      <td>0.362860</td>\n",
              "      <td>0.575436</td>\n",
              "      <td>0.550265</td>\n",
              "      <td>0.719114</td>\n",
              "      <td>0.633228</td>\n",
              "      <td>0.554440</td>\n",
              "      <td>0.569827</td>\n",
              "      <td>...</td>\n",
              "      <td>0.669346</td>\n",
              "      <td>0.678941</td>\n",
              "      <td>0.667293</td>\n",
              "      <td>0.728353</td>\n",
              "      <td>0.523703</td>\n",
              "      <td>0.576283</td>\n",
              "      <td>0.492236</td>\n",
              "      <td>0.559755</td>\n",
              "      <td>0.559812</td>\n",
              "      <td>0.509743</td>\n",
              "    </tr>\n",
              "    <tr>\n",
              "      <th>min</th>\n",
              "      <td>20.200000</td>\n",
              "      <td>9.900000</td>\n",
              "      <td>0.540000</td>\n",
              "      <td>-0.590000</td>\n",
              "      <td>33.897500</td>\n",
              "      <td>34.122500</td>\n",
              "      <td>31.770000</td>\n",
              "      <td>32.902500</td>\n",
              "      <td>33.985000</td>\n",
              "      <td>33.825000</td>\n",
              "      <td>...</td>\n",
              "      <td>31.452500</td>\n",
              "      <td>31.657500</td>\n",
              "      <td>31.280000</td>\n",
              "      <td>31.150000</td>\n",
              "      <td>33.407500</td>\n",
              "      <td>32.440000</td>\n",
              "      <td>34.892500</td>\n",
              "      <td>33.802500</td>\n",
              "      <td>33.835000</td>\n",
              "      <td>35.540000</td>\n",
              "    </tr>\n",
              "    <tr>\n",
              "      <th>25%</th>\n",
              "      <td>23.400000</td>\n",
              "      <td>17.600000</td>\n",
              "      <td>0.600000</td>\n",
              "      <td>0.772500</td>\n",
              "      <td>35.247500</td>\n",
              "      <td>35.270625</td>\n",
              "      <td>34.457500</td>\n",
              "      <td>34.655625</td>\n",
              "      <td>35.332500</td>\n",
              "      <td>35.248125</td>\n",
              "      <td>...</td>\n",
              "      <td>34.181250</td>\n",
              "      <td>34.178125</td>\n",
              "      <td>34.097500</td>\n",
              "      <td>34.226875</td>\n",
              "      <td>35.118750</td>\n",
              "      <td>34.758125</td>\n",
              "      <td>35.775000</td>\n",
              "      <td>35.473125</td>\n",
              "      <td>35.500000</td>\n",
              "      <td>36.752500</td>\n",
              "    </tr>\n",
              "    <tr>\n",
              "      <th>50%</th>\n",
              "      <td>24.000000</td>\n",
              "      <td>26.300000</td>\n",
              "      <td>0.620000</td>\n",
              "      <td>0.940000</td>\n",
              "      <td>35.547500</td>\n",
              "      <td>35.575000</td>\n",
              "      <td>34.915000</td>\n",
              "      <td>34.997500</td>\n",
              "      <td>35.602500</td>\n",
              "      <td>35.531250</td>\n",
              "      <td>...</td>\n",
              "      <td>34.597500</td>\n",
              "      <td>34.602500</td>\n",
              "      <td>34.512917</td>\n",
              "      <td>34.622500</td>\n",
              "      <td>35.392500</td>\n",
              "      <td>35.100000</td>\n",
              "      <td>36.027500</td>\n",
              "      <td>35.788750</td>\n",
              "      <td>35.825000</td>\n",
              "      <td>36.940000</td>\n",
              "    </tr>\n",
              "    <tr>\n",
              "      <th>75%</th>\n",
              "      <td>24.700000</td>\n",
              "      <td>36.200000</td>\n",
              "      <td>0.700000</td>\n",
              "      <td>1.140000</td>\n",
              "      <td>35.872500</td>\n",
              "      <td>35.884375</td>\n",
              "      <td>35.300000</td>\n",
              "      <td>35.364375</td>\n",
              "      <td>35.911875</td>\n",
              "      <td>35.856875</td>\n",
              "      <td>...</td>\n",
              "      <td>34.969375</td>\n",
              "      <td>34.965000</td>\n",
              "      <td>34.879375</td>\n",
              "      <td>35.012500</td>\n",
              "      <td>35.675000</td>\n",
              "      <td>35.415000</td>\n",
              "      <td>36.280000</td>\n",
              "      <td>36.087500</td>\n",
              "      <td>36.121875</td>\n",
              "      <td>37.140000</td>\n",
              "    </tr>\n",
              "    <tr>\n",
              "      <th>max</th>\n",
              "      <td>29.100000</td>\n",
              "      <td>61.200000</td>\n",
              "      <td>79.000000</td>\n",
              "      <td>2.875000</td>\n",
              "      <td>38.405000</td>\n",
              "      <td>38.042500</td>\n",
              "      <td>37.575000</td>\n",
              "      <td>37.680000</td>\n",
              "      <td>38.385000</td>\n",
              "      <td>38.380000</td>\n",
              "      <td>...</td>\n",
              "      <td>37.075000</td>\n",
              "      <td>37.165000</td>\n",
              "      <td>37.212500</td>\n",
              "      <td>37.367500</td>\n",
              "      <td>38.002500</td>\n",
              "      <td>37.632500</td>\n",
              "      <td>38.807500</td>\n",
              "      <td>38.417500</td>\n",
              "      <td>38.455000</td>\n",
              "      <td>40.340000</td>\n",
              "    </tr>\n",
              "  </tbody>\n",
              "</table>\n",
              "<p>8 rows × 31 columns</p>\n",
              "</div>"
            ],
            "text/plain": [
              "             T_atm     Humidity     Distance    T_offset1    Max1R13_1  \\\n",
              "count  1018.000000  1018.000000  1018.000000  1018.000000  1018.000000   \n",
              "mean     24.115815    28.749411     0.729784     0.968991    35.596374   \n",
              "std       1.337617    13.070900     2.456486     0.362860     0.575436   \n",
              "min      20.200000     9.900000     0.540000    -0.590000    33.897500   \n",
              "25%      23.400000    17.600000     0.600000     0.772500    35.247500   \n",
              "50%      24.000000    26.300000     0.620000     0.940000    35.547500   \n",
              "75%      24.700000    36.200000     0.700000     1.140000    35.872500   \n",
              "max      29.100000    61.200000    79.000000     2.875000    38.405000   \n",
              "\n",
              "         Max1L13_1  aveAllR13_1  aveAllL13_1        T_RC1    T_RC_Dry1  ...  \\\n",
              "count  1018.000000  1018.000000  1018.000000  1018.000000  1018.000000  ...   \n",
              "mean     35.611651    34.888828    35.012899    35.659874    35.587022  ...   \n",
              "std       0.550265     0.719114     0.633228     0.554440     0.569827  ...   \n",
              "min      34.122500    31.770000    32.902500    33.985000    33.825000  ...   \n",
              "25%      35.270625    34.457500    34.655625    35.332500    35.248125  ...   \n",
              "50%      35.575000    34.915000    34.997500    35.602500    35.531250  ...   \n",
              "75%      35.884375    35.300000    35.364375    35.911875    35.856875  ...   \n",
              "max      38.042500    37.575000    37.680000    38.385000    38.380000  ...   \n",
              "\n",
              "           T_FHRC1      T_FHLC1      T_FHBC1      T_FHTC1    T_FH_Max1  \\\n",
              "count  1018.000000  1018.000000  1018.000000  1018.000000  1018.000000   \n",
              "mean     34.568583    34.565945    34.488836    34.578310    35.422130   \n",
              "std       0.669346     0.678941     0.667293     0.728353     0.523703   \n",
              "min      31.452500    31.657500    31.280000    31.150000    33.407500   \n",
              "25%      34.181250    34.178125    34.097500    34.226875    35.118750   \n",
              "50%      34.597500    34.602500    34.512917    34.622500    35.392500   \n",
              "75%      34.969375    34.965000    34.879375    35.012500    35.675000   \n",
              "max      37.075000    37.165000    37.212500    37.367500    38.002500   \n",
              "\n",
              "        T_FHC_Max1       T_Max1        T_OR1    T_OR_Max1     aveOralM  \n",
              "count  1018.000000  1018.000000  1018.000000  1018.000000  1018.000000  \n",
              "mean     35.094648    36.084615    35.805225    35.837984    37.028163  \n",
              "std       0.576283     0.492236     0.559755     0.559812     0.509743  \n",
              "min      32.440000    34.892500    33.802500    33.835000    35.540000  \n",
              "25%      34.758125    35.775000    35.473125    35.500000    36.752500  \n",
              "50%      35.100000    36.027500    35.788750    35.825000    36.940000  \n",
              "75%      35.415000    36.280000    36.087500    36.121875    37.140000  \n",
              "max      37.632500    38.807500    38.417500    38.455000    40.340000  \n",
              "\n",
              "[8 rows x 31 columns]"
            ]
          },
          "execution_count": 87,
          "metadata": {},
          "output_type": "execute_result"
        }
      ],
      "source": [
        "data.describe() # menampilkan statistik data"
      ]
    },
    {
      "cell_type": "markdown",
      "metadata": {
        "id": "RRNxhNrOOj_i"
      },
      "source": [
        "## 4. Mengonversi dan Menormalisasi Data"
      ]
    },
    {
      "cell_type": "code",
      "execution_count": 88,
      "metadata": {
        "id": "gwsex-n3Oj_i",
        "outputId": "cf25993c-277a-4cda-fab9-69fb4bbfc70d"
      },
      "outputs": [
        {
          "name": "stdout",
          "output_type": "stream",
          "text": [
            "[[ 1.      5.      5.     ... 35.6925 35.635  35.6525]\n",
            " [ 0.      4.      2.     ... 35.175  35.0925 35.1075]\n",
            " [ 0.      2.      5.     ... 35.9125 35.86   35.885 ]\n",
            " ...\n",
            " [ 0.      0.      2.     ... 36.535  35.965  35.9975]\n",
            " [ 1.      3.      3.     ... 35.86   35.415  35.435 ]\n",
            " [ 0.      0.      5.     ... 35.9725 35.89   35.9175]] [[36.59]\n",
            " [37.19]\n",
            " [37.34]\n",
            " ...\n",
            " [37.59]\n",
            " [37.29]\n",
            " [37.19]]\n"
          ]
        }
      ],
      "source": [
        "# Mengubah data kategorikal menjadi angka\n",
        "label_encoder = LabelEncoder()\n",
        "data['Gender'] = label_encoder.fit_transform(data['Gender']) # Mengubah label 'Gender' menjadi angka\n",
        "data['Age'] = label_encoder.fit_transform(data['Age']) # Mengubah label 'Age' menjadi angka\n",
        "data['Ethnicity'] = label_encoder.fit_transform(data['Ethnicity']) # Mengubah label 'Ethnicity' menjadi angka\n",
        "\n",
        "# Memisahkan kolom yang digunakan sebagai fitur dan label\n",
        "X = data.drop(\"aveOralM\", axis=1).values\n",
        "y = data[\"aveOralM\"].values.reshape(-1, 1)\n",
        "\n",
        "print(X, y) # menampilkan data fitur dan label\n",
        "\n",
        "# Memisahkan data menjadi data latih dan data uji\n",
        "X_train, X_test, y_train, y_test = train_test_split(X, y, test_size=0.2, random_state=42)"
      ]
    },
    {
      "cell_type": "markdown",
      "metadata": {
        "id": "L2AcjsQfOj_i"
      },
      "source": [
        "## 5. Mempersiapkan Rumus Evaluasi (MSE, RMSE, RSquared)"
      ]
    },
    {
      "cell_type": "code",
      "execution_count": 89,
      "metadata": {
        "id": "-t2mldoIOj_j"
      },
      "outputs": [],
      "source": [
        "# Fungsinya untuk menghitung metrik evaluasi\n",
        "# Metrik evaluasi yang digunakan adalah Mean Squared Error (MSE), Root Mean Squared Error (RMSE), dan R^2\n",
        "def calculate_metrics(y_true, y_pred):\n",
        "    mse = np.mean((y_true - y_pred) ** 2) # Mean Squared Error\n",
        "    rmse = np.sqrt(mse) # Root Mean Squared Error\n",
        "    ss_res = np.sum((y_true - y_pred) ** 2) # Sum of Squared Residuals (SSR)\n",
        "    ss_tot = np.sum((y_true - np.mean(y_true)) ** 2) # Total Sum of Squares (SST)\n",
        "    r2 = 1 - ss_res / ss_tot # R^2, yaitu 1 - (SSR/SST)\\\n",
        "\n",
        "    return mse, rmse, r2"
      ]
    },
    {
      "cell_type": "markdown",
      "metadata": {
        "id": "7UwPLPwhOj_j"
      },
      "source": [
        "## 6. Membuat Fungsi Visualisasi"
      ]
    },
    {
      "cell_type": "code",
      "execution_count": 90,
      "metadata": {
        "id": "7PWUDta9Oj_l"
      },
      "outputs": [],
      "source": [
        "# Fungsinya untuk menampilkan plot hasil prediksi\n",
        "def visualize_results(y_true, y_pred):\n",
        "    plt.scatter(y_true, y_pred)\n",
        "    plt.plot([y_true.min(), y_true.max()], [y_true.min(), y_true.max()], 'k--')\n",
        "    plt.xlabel('Actual')\n",
        "    plt.ylabel('Predicted')\n",
        "    plt.title('Actual vs. Predicted')\n",
        "    plt.show()\n",
        "\n",
        "# Fungsinya untuk menampilkan plot hasil training model \n",
        "def visualize_training(history):\n",
        "    plt.plot(history['loss'])\n",
        "    plt.yscale('log')\n",
        "    plt.title('Model loss')\n",
        "    plt.ylabel('Loss (log scale)')\n",
        "    plt.xlabel('Epoch')\n",
        "    plt.legend(['Loss'], loc='upper left')\n",
        "    plt.show()"
      ]
    },
    {
      "cell_type": "markdown",
      "metadata": {
        "id": "jcWgoo2wv8Vi"
      },
      "source": [
        "# A. Deep Learning dengan PyTorch"
      ]
    },
    {
      "cell_type": "markdown",
      "metadata": {
        "id": "HUv0WPXDOj_l"
      },
      "source": [
        "## 1. Mengimpor Library yang Dibutuhkan"
      ]
    },
    {
      "cell_type": "code",
      "execution_count": 91,
      "metadata": {
        "id": "Xt6VuniuwQGp"
      },
      "outputs": [],
      "source": [
        "import torch\n",
        "import torch.nn as nn # untuk membuat model neural network dengan pytorch\n",
        "import torch.optim as optim # untuk mengoptimalkan model neural network"
      ]
    },
    {
      "cell_type": "markdown",
      "metadata": {
        "id": "Zrl8WOKYOj_m"
      },
      "source": [
        "## 2. Mengonversi Dataset Menjadi Tipe Tensor PyTorch"
      ]
    },
    {
      "cell_type": "code",
      "execution_count": 92,
      "metadata": {
        "id": "ZYjszf49Oj_m"
      },
      "outputs": [],
      "source": [
        "X_train_tensor = torch.tensor(X_train, dtype=torch.float32) # Mengubah data latih menjadi tensor\n",
        "y_train_tensor = torch.tensor(y_train, dtype=torch.float32) # Mengubah label data latih menjadi tensor\n",
        "X_test_tensor = torch.tensor(X_test, dtype=torch.float32) # Mengubah data uji menjadi tensor\n",
        "y_test_tensor = torch.tensor(y_test, dtype=torch.float32) # Mengubah label data uji menjadi tensor"
      ]
    },
    {
      "cell_type": "markdown",
      "metadata": {
        "id": "juIuOZz7wSxe"
      },
      "source": [
        "## 3. Menyusun Model Neural Network Sederhana\n"
      ]
    },
    {
      "cell_type": "code",
      "execution_count": 93,
      "metadata": {
        "id": "Xo3CVzW8Oj_m"
      },
      "outputs": [],
      "source": [
        "# Mendefinisikan model sederhana (Multi-Layer Perceptron)\n",
        "class SimpleNN(torch.nn.Module):\n",
        "    def __init__(self, input_dim, hidden_dim, output_dim):\n",
        "        super(SimpleNN, self).__init__()\n",
        "        self.model = nn.Sequential(\n",
        "            nn.Linear(input_dim, hidden_dim),\n",
        "            nn.ReLU(),\n",
        "            nn.Linear(hidden_dim, output_dim)\n",
        "        )\n",
        "\n",
        "    def forward(self, x):\n",
        "        return self.model(x)\n",
        "\n",
        "input_dim = X_train.shape[1] # Jumlah fitur\n",
        "hidden_dim = 128 # Jumlah neuron pada hidden layer\n",
        "output_dim = 1 # Jumlah neuron pada output layer\n",
        "\n",
        "model = SimpleNN(input_dim, hidden_dim, output_dim) # Membuat model"
      ]
    },
    {
      "cell_type": "markdown",
      "metadata": {
        "id": "MnKWNddrwaWG"
      },
      "source": [
        "## 4. Menyiapkan Optimizer dan Loss Function"
      ]
    },
    {
      "cell_type": "code",
      "execution_count": 94,
      "metadata": {
        "id": "MJ59VpN_Oj_n"
      },
      "outputs": [],
      "source": [
        "criterion = nn.MSELoss() # Menggunakan Mean Squared Error sebagai loss function\n",
        "optimizer = optim.Adam(model.parameters(), lr=0.01) # Menggunakan Adam sebagai optimizer"
      ]
    },
    {
      "cell_type": "markdown",
      "metadata": {
        "id": "Tjndrp73wgkY"
      },
      "source": [
        "## 5. Melatih Model"
      ]
    },
    {
      "cell_type": "code",
      "execution_count": 95,
      "metadata": {
        "id": "4tgCbk89Oj_n",
        "outputId": "2eac2b48-fe4e-4904-ecf4-e98ab6c8f20b"
      },
      "outputs": [
        {
          "name": "stdout",
          "output_type": "stream",
          "text": [
            "Epoch 0, loss=653.805419921875\n",
            "Epoch 100, loss=0.13129185140132904\n",
            "Epoch 200, loss=0.12121959030628204\n",
            "Epoch 300, loss=0.1172395721077919\n",
            "Epoch 400, loss=0.11363954842090607\n",
            "Epoch 500, loss=0.11045172065496445\n",
            "Epoch 600, loss=0.10762377083301544\n",
            "Epoch 700, loss=0.10509370267391205\n",
            "Epoch 800, loss=0.10283565521240234\n",
            "Epoch 900, loss=0.10081641376018524\n"
          ]
        }
      ],
      "source": [
        "# Melatih model\n",
        "num_epochs = 1000 # Jumlah iterasi pelatihan\n",
        "history = pd.DataFrame() # Menyimpan statistik pelatihan\n",
        "\n",
        "for epoch in range(num_epochs):\n",
        "    optimizer.zero_grad() # Mengatur gradien menjadi 0 sebelum melakukan backpropagation\n",
        "    y_pred = model(X_train_tensor) # Memprediksi data latih\n",
        "    loss = criterion(y_pred, y_train_tensor) # Menghitung loss\n",
        "    loss.backward() # Backpropagation\n",
        "    optimizer.step() # Update bobot\n",
        "\n",
        "    if epoch % 100 == 0:\n",
        "        print(f'Epoch {epoch}, loss={loss.item()}')\n",
        "\n",
        "    # Menyimpan statistik pelatihan untuk menampilkan plot\n",
        "    history = pd.concat([history, pd.DataFrame({'epoch': [epoch], 'loss': [loss.item()]})], ignore_index=True)"
      ]
    },
    {
      "cell_type": "markdown",
      "metadata": {
        "id": "qLgfrTAmOj_n"
      },
      "source": [
        "## 6. Mengevaluasi Model dengan Menghitung MSE, RMSE, dan RSquared"
      ]
    },
    {
      "cell_type": "code",
      "execution_count": 96,
      "metadata": {
        "id": "3ccK0fmYOj_o",
        "outputId": "93d85d7e-5e8e-4442-d6e1-c26d5d991ee6"
      },
      "outputs": [
        {
          "name": "stdout",
          "output_type": "stream",
          "text": [
            "MSE: 0.09731801939071563, RMSE: 0.3119583616297464, R^2: 0.5107719084350422\n"
          ]
        }
      ],
      "source": [
        "model.eval() # Mengubah model menjadi mode evaluasi\n",
        "y_pred = model(X_test_tensor) # Memprediksi data uji\n",
        "\n",
        "# Menghitung metrik evaluasi\n",
        "mse, rmse, r2 = calculate_metrics(y_test, y_pred.detach().numpy())\n",
        "print(f'MSE: {mse}, RMSE: {rmse}, R^2: {r2}')"
      ]
    },
    {
      "cell_type": "markdown",
      "metadata": {
        "id": "XUfXeCEHOj_o"
      },
      "source": [
        "## 7. Memvisualisasikan Prediksi dari model yang telah dilatih"
      ]
    },
    {
      "cell_type": "code",
      "execution_count": 97,
      "metadata": {
        "id": "ZLxZtJPSOj_o",
        "outputId": "14b1d276-55a8-4433-85b8-78e88a0348aa"
      },
      "outputs": [
        {
          "data": {
            "image/png": "[encoded data removed]",
            "text/plain": [
              "<Figure size 640x480 with 1 Axes>"
            ]
          },
          "metadata": {},
          "output_type": "display_data"
        },
        {
          "data": {
            "image/png": "[encoded data removed]",
            "text/plain": [
              "<Figure size 640x480 with 1 Axes>"
            ]
          },
          "metadata": {},
          "output_type": "display_data"
        }
      ],
      "source": [
        "# Menampilkan plot hasil prediksi\n",
        "visualize_results(y_test, y_pred.detach().numpy())\n",
        "\n",
        "# Menampilkan plot hasil training\n",
        "visualize_training(history)\n",
        "\n",
        "# Menyimpan model\n",
        "torch.save(model.state_dict(), 'model_pytorch_infrared.pth')"
      ]
    },
    {
      "cell_type": "markdown",
      "metadata": {
        "id": "bDTeEKQnwoon"
      },
      "source": [
        "# B. Deep Learning dengan TensorFlow"
      ]
    },
    {
      "cell_type": "markdown",
      "metadata": {
        "id": "sEcuhK7kxBfZ"
      },
      "source": [
        "## 1. Import Library yang Dibutuhkan"
      ]
    },
    {
      "cell_type": "code",
      "execution_count": null,
      "metadata": {
        "id": "2BzJ_iBvxCqa"
      },
      "outputs": [],
      "source": [
        "import tensorflow as tf\n",
        "from tensorflow.keras.models import Sequential # untuk membuat model neural network\n",
        "from tensorflow.keras.layers import Dense, Input # untuk menambah layer pada model"
      ]
    },
    {
      "cell_type": "markdown",
      "metadata": {
        "id": "ZgRBaf-exFzO"
      },
      "source": [
        "## 2. Penyusunan Model Neural Network\n"
      ]
    },
    {
      "cell_type": "code",
      "execution_count": 99,
      "metadata": {
        "id": "yROVg8wcOj_p",
        "outputId": "846be389-3907-4f65-a682-577d2bcb1802"
      },
      "outputs": [],
      "source": [
        "# Menentukan hyperparameter model\n",
        "input_dim = X_train.shape[1] # Jumlah fitur\n",
        "hidden_dim = 128 # Jumlah neuron pada hidden layer\n",
        "output_dim = 1 # Jumlah neuron pada output layer\n",
        "\n",
        "model_tf = Sequential([\n",
        "    Input(shape=(input_dim,)), # Input layer\n",
        "    Dense(hidden_dim, activation='relu') , # Layer input 128 neuron\n",
        "    Dense(output_dim)  # Layer output 1 neuron\n",
        "])"
      ]
    },
    {
      "cell_type": "markdown",
      "metadata": {
        "id": "gNiS9Tt2xK9U"
      },
      "source": [
        "## 3. Kompilasi Model"
      ]
    },
    {
      "cell_type": "code",
      "execution_count": 100,
      "metadata": {
        "id": "fP2mDfRAOj_q"
      },
      "outputs": [],
      "source": [
        "# Kompilasi model\n",
        "model_tf.compile(optimizer='adam', loss='mse')"
      ]
    },
    {
      "cell_type": "markdown",
      "metadata": {
        "id": "pFkCD0eMxWZN"
      },
      "source": [
        "## 4. Pelatihan Model"
      ]
    },
    {
      "cell_type": "code",
      "execution_count": 101,
      "metadata": {
        "id": "bsbxhYM0Oj_q",
        "outputId": "4567ddbf-b67e-45d7-eefa-6e5a054aa441"
      },
      "outputs": [
        {
          "name": "stdout",
          "output_type": "stream",
          "text": [
            "Epoch 1/100\n",
            "\u001b[1m26/26\u001b[0m \u001b[32m━━━━━━━━━━━━━━━━━━━━\u001b[0m\u001b[37m\u001b[0m \u001b[1m1s\u001b[0m 1ms/step - loss: 593.6766    \n",
            "Epoch 2/100\n",
            "\u001b[1m26/26\u001b[0m \u001b[32m━━━━━━━━━━━━━━━━━━━━\u001b[0m\u001b[37m\u001b[0m \u001b[1m0s\u001b[0m 2ms/step - loss: 21.2017 \n",
            "Epoch 3/100\n",
            "\u001b[1m26/26\u001b[0m \u001b[32m━━━━━━━━━━━━━━━━━━━━\u001b[0m\u001b[37m\u001b[0m \u001b[1m0s\u001b[0m 2ms/step - loss: 1.5017 \n",
            "Epoch 4/100\n",
            "\u001b[1m26/26\u001b[0m \u001b[32m━━━━━━━━━━━━━━━━━━━━\u001b[0m\u001b[37m\u001b[0m \u001b[1m0s\u001b[0m 2ms/step - loss: 0.3664 \n",
            "Epoch 5/100\n",
            "\u001b[1m26/26\u001b[0m \u001b[32m━━━━━━━━━━━━━━━━━━━━\u001b[0m\u001b[37m\u001b[0m \u001b[1m0s\u001b[0m 1ms/step - loss: 0.2562 \n",
            "Epoch 6/100\n",
            "\u001b[1m26/26\u001b[0m \u001b[32m━━━━━━━━━━━━━━━━━━━━\u001b[0m\u001b[37m\u001b[0m \u001b[1m0s\u001b[0m 1ms/step - loss: 0.2199 \n",
            "Epoch 7/100\n",
            "\u001b[1m26/26\u001b[0m \u001b[32m━━━━━━━━━━━━━━━━━━━━\u001b[0m\u001b[37m\u001b[0m \u001b[1m0s\u001b[0m 1ms/step - loss: 0.1670 \n",
            "Epoch 8/100\n",
            "\u001b[1m26/26\u001b[0m \u001b[32m━━━━━━━━━━━━━━━━━━━━\u001b[0m\u001b[37m\u001b[0m \u001b[1m0s\u001b[0m 2ms/step - loss: 0.1552 \n",
            "Epoch 9/100\n",
            "\u001b[1m26/26\u001b[0m \u001b[32m━━━━━━━━━━━━━━━━━━━━\u001b[0m\u001b[37m\u001b[0m \u001b[1m0s\u001b[0m 2ms/step - loss: 0.1525\n",
            "Epoch 10/100\n",
            "\u001b[1m26/26\u001b[0m \u001b[32m━━━━━━━━━━━━━━━━━━━━\u001b[0m\u001b[37m\u001b[0m \u001b[1m0s\u001b[0m 2ms/step - loss: 0.1567 \n",
            "Epoch 11/100\n",
            "\u001b[1m26/26\u001b[0m \u001b[32m━━━━━━━━━━━━━━━━━━━━\u001b[0m\u001b[37m\u001b[0m \u001b[1m0s\u001b[0m 2ms/step - loss: 0.1444 \n",
            "Epoch 12/100\n",
            "\u001b[1m26/26\u001b[0m \u001b[32m━━━━━━━━━━━━━━━━━━━━\u001b[0m\u001b[37m\u001b[0m \u001b[1m0s\u001b[0m 1ms/step - loss: 0.1640 \n",
            "Epoch 13/100\n",
            "\u001b[1m26/26\u001b[0m \u001b[32m━━━━━━━━━━━━━━━━━━━━\u001b[0m\u001b[37m\u001b[0m \u001b[1m0s\u001b[0m 1ms/step - loss: 0.1492 \n",
            "Epoch 14/100\n",
            "\u001b[1m26/26\u001b[0m \u001b[32m━━━━━━━━━━━━━━━━━━━━\u001b[0m\u001b[37m\u001b[0m \u001b[1m0s\u001b[0m 1ms/step - loss: 0.1592 \n",
            "Epoch 15/100\n",
            "\u001b[1m26/26\u001b[0m \u001b[32m━━━━━━━━━━━━━━━━━━━━\u001b[0m\u001b[37m\u001b[0m \u001b[1m0s\u001b[0m 1ms/step - loss: 0.1487 \n",
            "Epoch 16/100\n",
            "\u001b[1m26/26\u001b[0m \u001b[32m━━━━━━━━━━━━━━━━━━━━\u001b[0m\u001b[37m\u001b[0m \u001b[1m0s\u001b[0m 1ms/step - loss: 0.1557 \n",
            "Epoch 17/100\n",
            "\u001b[1m26/26\u001b[0m \u001b[32m━━━━━━━━━━━━━━━━━━━━\u001b[0m\u001b[37m\u001b[0m \u001b[1m0s\u001b[0m 1ms/step - loss: 0.1575 \n",
            "Epoch 18/100\n",
            "\u001b[1m26/26\u001b[0m \u001b[32m━━━━━━━━━━━━━━━━━━━━\u001b[0m\u001b[37m\u001b[0m \u001b[1m0s\u001b[0m 1ms/step - loss: 0.1553 \n",
            "Epoch 19/100\n",
            "\u001b[1m26/26\u001b[0m \u001b[32m━━━━━━━━━━━━━━━━━━━━\u001b[0m\u001b[37m\u001b[0m \u001b[1m0s\u001b[0m 1ms/step - loss: 0.1407 \n",
            "Epoch 20/100\n",
            "\u001b[1m26/26\u001b[0m \u001b[32m━━━━━━━━━━━━━━━━━━━━\u001b[0m\u001b[37m\u001b[0m \u001b[1m0s\u001b[0m 1ms/step - loss: 0.1638 \n",
            "Epoch 21/100\n",
            "\u001b[1m26/26\u001b[0m \u001b[32m━━━━━━━━━━━━━━━━━━━━\u001b[0m\u001b[37m\u001b[0m \u001b[1m0s\u001b[0m 1ms/step - loss: 0.1635 \n",
            "Epoch 22/100\n",
            "\u001b[1m26/26\u001b[0m \u001b[32m━━━━━━━━━━━━━━━━━━━━\u001b[0m\u001b[37m\u001b[0m \u001b[1m0s\u001b[0m 1ms/step - loss: 0.1449 \n",
            "Epoch 23/100\n",
            "\u001b[1m26/26\u001b[0m \u001b[32m━━━━━━━━━━━━━━━━━━━━\u001b[0m\u001b[37m\u001b[0m \u001b[1m0s\u001b[0m 1ms/step - loss: 0.1460 \n",
            "Epoch 24/100\n",
            "\u001b[1m26/26\u001b[0m \u001b[32m━━━━━━━━━━━━━━━━━━━━\u001b[0m\u001b[37m\u001b[0m \u001b[1m0s\u001b[0m 1ms/step - loss: 0.1440 \n",
            "Epoch 25/100\n",
            "\u001b[1m26/26\u001b[0m \u001b[32m━━━━━━━━━━━━━━━━━━━━\u001b[0m\u001b[37m\u001b[0m \u001b[1m0s\u001b[0m 1ms/step - loss: 0.1396 \n",
            "Epoch 26/100\n",
            "\u001b[1m26/26\u001b[0m \u001b[32m━━━━━━━━━━━━━━━━━━━━\u001b[0m\u001b[37m\u001b[0m \u001b[1m0s\u001b[0m 1ms/step - loss: 0.1425 \n",
            "Epoch 27/100\n",
            "\u001b[1m26/26\u001b[0m \u001b[32m━━━━━━━━━━━━━━━━━━━━\u001b[0m\u001b[37m\u001b[0m \u001b[1m0s\u001b[0m 2ms/step - loss: 0.1630 \n",
            "Epoch 28/100\n",
            "\u001b[1m26/26\u001b[0m \u001b[32m━━━━━━━━━━━━━━━━━━━━\u001b[0m\u001b[37m\u001b[0m \u001b[1m0s\u001b[0m 2ms/step - loss: 0.1433 \n",
            "Epoch 29/100\n",
            "\u001b[1m26/26\u001b[0m \u001b[32m━━━━━━━━━━━━━━━━━━━━\u001b[0m\u001b[37m\u001b[0m \u001b[1m0s\u001b[0m 2ms/step - loss: 0.1603 \n",
            "Epoch 30/100\n",
            "\u001b[1m26/26\u001b[0m \u001b[32m━━━━━━━━━━━━━━━━━━━━\u001b[0m\u001b[37m\u001b[0m \u001b[1m0s\u001b[0m 1ms/step - loss: 0.1571 \n",
            "Epoch 31/100\n",
            "\u001b[1m26/26\u001b[0m \u001b[32m━━━━━━━━━━━━━━━━━━━━\u001b[0m\u001b[37m\u001b[0m \u001b[1m0s\u001b[0m 2ms/step - loss: 0.1583 \n",
            "Epoch 32/100\n",
            "\u001b[1m26/26\u001b[0m \u001b[32m━━━━━━━━━━━━━━━━━━━━\u001b[0m\u001b[37m\u001b[0m \u001b[1m0s\u001b[0m 2ms/step - loss: 0.1497 \n",
            "Epoch 33/100\n",
            "\u001b[1m26/26\u001b[0m \u001b[32m━━━━━━━━━━━━━━━━━━━━\u001b[0m\u001b[37m\u001b[0m \u001b[1m0s\u001b[0m 1ms/step - loss: 0.1337 \n",
            "Epoch 34/100\n",
            "\u001b[1m26/26\u001b[0m \u001b[32m━━━━━━━━━━━━━━━━━━━━\u001b[0m\u001b[37m\u001b[0m \u001b[1m0s\u001b[0m 1ms/step - loss: 0.1523 \n",
            "Epoch 35/100\n",
            "\u001b[1m26/26\u001b[0m \u001b[32m━━━━━━━━━━━━━━━━━━━━\u001b[0m\u001b[37m\u001b[0m \u001b[1m0s\u001b[0m 1ms/step - loss: 0.1499 \n",
            "Epoch 36/100\n",
            "\u001b[1m26/26\u001b[0m \u001b[32m━━━━━━━━━━━━━━━━━━━━\u001b[0m\u001b[37m\u001b[0m \u001b[1m0s\u001b[0m 1ms/step - loss: 0.1492 \n",
            "Epoch 37/100\n",
            "\u001b[1m26/26\u001b[0m \u001b[32m━━━━━━━━━━━━━━━━━━━━\u001b[0m\u001b[37m\u001b[0m \u001b[1m0s\u001b[0m 1ms/step - loss: 0.1500 \n",
            "Epoch 38/100\n",
            "\u001b[1m26/26\u001b[0m \u001b[32m━━━━━━━━━━━━━━━━━━━━\u001b[0m\u001b[37m\u001b[0m \u001b[1m0s\u001b[0m 1ms/step - loss: 0.1492 \n",
            "Epoch 39/100\n",
            "\u001b[1m26/26\u001b[0m \u001b[32m━━━━━━━━━━━━━━━━━━━━\u001b[0m\u001b[37m\u001b[0m \u001b[1m0s\u001b[0m 1ms/step - loss: 0.1701 \n",
            "Epoch 40/100\n",
            "\u001b[1m26/26\u001b[0m \u001b[32m━━━━━━━━━━━━━━━━━━━━\u001b[0m\u001b[37m\u001b[0m \u001b[1m0s\u001b[0m 1ms/step - loss: 0.1531 \n",
            "Epoch 41/100\n",
            "\u001b[1m26/26\u001b[0m \u001b[32m━━━━━━━━━━━━━━━━━━━━\u001b[0m\u001b[37m\u001b[0m \u001b[1m0s\u001b[0m 1ms/step - loss: 0.1469 \n",
            "Epoch 42/100\n",
            "\u001b[1m26/26\u001b[0m \u001b[32m━━━━━━━━━━━━━━━━━━━━\u001b[0m\u001b[37m\u001b[0m \u001b[1m0s\u001b[0m 1ms/step - loss: 0.1323 \n",
            "Epoch 43/100\n",
            "\u001b[1m26/26\u001b[0m \u001b[32m━━━━━━━━━━━━━━━━━━━━\u001b[0m\u001b[37m\u001b[0m \u001b[1m0s\u001b[0m 1ms/step - loss: 0.1308 \n",
            "Epoch 44/100\n",
            "\u001b[1m26/26\u001b[0m \u001b[32m━━━━━━━━━━━━━━━━━━━━\u001b[0m\u001b[37m\u001b[0m \u001b[1m0s\u001b[0m 1ms/step - loss: 0.1365 \n",
            "Epoch 45/100\n",
            "\u001b[1m26/26\u001b[0m \u001b[32m━━━━━━━━━━━━━━━━━━━━\u001b[0m\u001b[37m\u001b[0m \u001b[1m0s\u001b[0m 1ms/step - loss: 0.1377 \n",
            "Epoch 46/100\n",
            "\u001b[1m26/26\u001b[0m \u001b[32m━━━━━━━━━━━━━━━━━━━━\u001b[0m\u001b[37m\u001b[0m \u001b[1m0s\u001b[0m 1ms/step - loss: 0.1373 \n",
            "Epoch 47/100\n",
            "\u001b[1m26/26\u001b[0m \u001b[32m━━━━━━━━━━━━━━━━━━━━\u001b[0m\u001b[37m\u001b[0m \u001b[1m0s\u001b[0m 1ms/step - loss: 0.1408 \n",
            "Epoch 48/100\n",
            "\u001b[1m26/26\u001b[0m \u001b[32m━━━━━━━━━━━━━━━━━━━━\u001b[0m\u001b[37m\u001b[0m \u001b[1m0s\u001b[0m 1ms/step - loss: 0.1445 \n",
            "Epoch 49/100\n",
            "\u001b[1m26/26\u001b[0m \u001b[32m━━━━━━━━━━━━━━━━━━━━\u001b[0m\u001b[37m\u001b[0m \u001b[1m0s\u001b[0m 1ms/step - loss: 0.1256 \n",
            "Epoch 50/100\n",
            "\u001b[1m26/26\u001b[0m \u001b[32m━━━━━━━━━━━━━━━━━━━━\u001b[0m\u001b[37m\u001b[0m \u001b[1m0s\u001b[0m 1ms/step - loss: 0.1433 \n",
            "Epoch 51/100\n",
            "\u001b[1m26/26\u001b[0m \u001b[32m━━━━━━━━━━━━━━━━━━━━\u001b[0m\u001b[37m\u001b[0m \u001b[1m0s\u001b[0m 2ms/step - loss: 0.1487 \n",
            "Epoch 52/100\n",
            "\u001b[1m26/26\u001b[0m \u001b[32m━━━━━━━━━━━━━━━━━━━━\u001b[0m\u001b[37m\u001b[0m \u001b[1m0s\u001b[0m 2ms/step - loss: 0.1478 \n",
            "Epoch 53/100\n",
            "\u001b[1m26/26\u001b[0m \u001b[32m━━━━━━━━━━━━━━━━━━━━\u001b[0m\u001b[37m\u001b[0m \u001b[1m0s\u001b[0m 1ms/step - loss: 0.1382 \n",
            "Epoch 54/100\n",
            "\u001b[1m26/26\u001b[0m \u001b[32m━━━━━━━━━━━━━━━━━━━━\u001b[0m\u001b[37m\u001b[0m \u001b[1m0s\u001b[0m 1ms/step - loss: 0.1401 \n",
            "Epoch 55/100\n",
            "\u001b[1m26/26\u001b[0m \u001b[32m━━━━━━━━━━━━━━━━━━━━\u001b[0m\u001b[37m\u001b[0m \u001b[1m0s\u001b[0m 1ms/step - loss: 0.1312 \n",
            "Epoch 56/100\n",
            "\u001b[1m26/26\u001b[0m \u001b[32m━━━━━━━━━━━━━━━━━━━━\u001b[0m\u001b[37m\u001b[0m \u001b[1m0s\u001b[0m 1ms/step - loss: 0.1487 \n",
            "Epoch 57/100\n",
            "\u001b[1m26/26\u001b[0m \u001b[32m━━━━━━━━━━━━━━━━━━━━\u001b[0m\u001b[37m\u001b[0m \u001b[1m0s\u001b[0m 1ms/step - loss: 0.1331 \n",
            "Epoch 58/100\n",
            "\u001b[1m26/26\u001b[0m \u001b[32m━━━━━━━━━━━━━━━━━━━━\u001b[0m\u001b[37m\u001b[0m \u001b[1m0s\u001b[0m 1ms/step - loss: 0.1531 \n",
            "Epoch 59/100\n",
            "\u001b[1m26/26\u001b[0m \u001b[32m━━━━━━━━━━━━━━━━━━━━\u001b[0m\u001b[37m\u001b[0m \u001b[1m0s\u001b[0m 1ms/step - loss: 0.1375 \n",
            "Epoch 60/100\n",
            "\u001b[1m26/26\u001b[0m \u001b[32m━━━━━━━━━━━━━━━━━━━━\u001b[0m\u001b[37m\u001b[0m \u001b[1m0s\u001b[0m 1ms/step - loss: 0.1413 \n",
            "Epoch 61/100\n",
            "\u001b[1m26/26\u001b[0m \u001b[32m━━━━━━━━━━━━━━━━━━━━\u001b[0m\u001b[37m\u001b[0m \u001b[1m0s\u001b[0m 1ms/step - loss: 0.1597 \n",
            "Epoch 62/100\n",
            "\u001b[1m26/26\u001b[0m \u001b[32m━━━━━━━━━━━━━━━━━━━━\u001b[0m\u001b[37m\u001b[0m \u001b[1m0s\u001b[0m 1ms/step - loss: 0.1564 \n",
            "Epoch 63/100\n",
            "\u001b[1m26/26\u001b[0m \u001b[32m━━━━━━━━━━━━━━━━━━━━\u001b[0m\u001b[37m\u001b[0m \u001b[1m0s\u001b[0m 1ms/step - loss: 0.1247 \n",
            "Epoch 64/100\n",
            "\u001b[1m26/26\u001b[0m \u001b[32m━━━━━━━━━━━━━━━━━━━━\u001b[0m\u001b[37m\u001b[0m \u001b[1m0s\u001b[0m 2ms/step - loss: 0.1392 \n",
            "Epoch 65/100\n",
            "\u001b[1m26/26\u001b[0m \u001b[32m━━━━━━━━━━━━━━━━━━━━\u001b[0m\u001b[37m\u001b[0m \u001b[1m0s\u001b[0m 1ms/step - loss: 0.1253 \n",
            "Epoch 66/100\n",
            "\u001b[1m26/26\u001b[0m \u001b[32m━━━━━━━━━━━━━━━━━━━━\u001b[0m\u001b[37m\u001b[0m \u001b[1m0s\u001b[0m 1ms/step - loss: 0.1352 \n",
            "Epoch 67/100\n",
            "\u001b[1m26/26\u001b[0m \u001b[32m━━━━━━━━━━━━━━━━━━━━\u001b[0m\u001b[37m\u001b[0m \u001b[1m0s\u001b[0m 1ms/step - loss: 0.1299 \n",
            "Epoch 68/100\n",
            "\u001b[1m26/26\u001b[0m \u001b[32m━━━━━━━━━━━━━━━━━━━━\u001b[0m\u001b[37m\u001b[0m \u001b[1m0s\u001b[0m 1ms/step - loss: 0.1410 \n",
            "Epoch 69/100\n",
            "\u001b[1m26/26\u001b[0m \u001b[32m━━━━━━━━━━━━━━━━━━━━\u001b[0m\u001b[37m\u001b[0m \u001b[1m0s\u001b[0m 1ms/step - loss: 0.1134 \n",
            "Epoch 70/100\n",
            "\u001b[1m26/26\u001b[0m \u001b[32m━━━━━━━━━━━━━━━━━━━━\u001b[0m\u001b[37m\u001b[0m \u001b[1m0s\u001b[0m 1ms/step - loss: 0.1272 \n",
            "Epoch 71/100\n",
            "\u001b[1m26/26\u001b[0m \u001b[32m━━━━━━━━━━━━━━━━━━━━\u001b[0m\u001b[37m\u001b[0m \u001b[1m0s\u001b[0m 1ms/step - loss: 0.1448 \n",
            "Epoch 72/100\n",
            "\u001b[1m26/26\u001b[0m \u001b[32m━━━━━━━━━━━━━━━━━━━━\u001b[0m\u001b[37m\u001b[0m \u001b[1m0s\u001b[0m 1ms/step - loss: 0.1590 \n",
            "Epoch 73/100\n",
            "\u001b[1m26/26\u001b[0m \u001b[32m━━━━━━━━━━━━━━━━━━━━\u001b[0m\u001b[37m\u001b[0m \u001b[1m0s\u001b[0m 1ms/step - loss: 0.1260 \n",
            "Epoch 74/100\n",
            "\u001b[1m26/26\u001b[0m \u001b[32m━━━━━━━━━━━━━━━━━━━━\u001b[0m\u001b[37m\u001b[0m \u001b[1m0s\u001b[0m 1ms/step - loss: 0.1541 \n",
            "Epoch 75/100\n",
            "\u001b[1m26/26\u001b[0m \u001b[32m━━━━━━━━━━━━━━━━━━━━\u001b[0m\u001b[37m\u001b[0m \u001b[1m0s\u001b[0m 1ms/step - loss: 0.1330 \n",
            "Epoch 76/100\n",
            "\u001b[1m26/26\u001b[0m \u001b[32m━━━━━━━━━━━━━━━━━━━━\u001b[0m\u001b[37m\u001b[0m \u001b[1m0s\u001b[0m 1ms/step - loss: 0.1344 \n",
            "Epoch 77/100\n",
            "\u001b[1m26/26\u001b[0m \u001b[32m━━━━━━━━━━━━━━━━━━━━\u001b[0m\u001b[37m\u001b[0m \u001b[1m0s\u001b[0m 1ms/step - loss: 0.1558 \n",
            "Epoch 78/100\n",
            "\u001b[1m26/26\u001b[0m \u001b[32m━━━━━━━━━━━━━━━━━━━━\u001b[0m\u001b[37m\u001b[0m \u001b[1m0s\u001b[0m 1ms/step - loss: 0.1413 \n",
            "Epoch 79/100\n",
            "\u001b[1m26/26\u001b[0m \u001b[32m━━━━━━━━━━━━━━━━━━━━\u001b[0m\u001b[37m\u001b[0m \u001b[1m0s\u001b[0m 1ms/step - loss: 0.1356 \n",
            "Epoch 80/100\n",
            "\u001b[1m26/26\u001b[0m \u001b[32m━━━━━━━━━━━━━━━━━━━━\u001b[0m\u001b[37m\u001b[0m \u001b[1m0s\u001b[0m 1ms/step - loss: 0.1274 \n",
            "Epoch 81/100\n",
            "\u001b[1m26/26\u001b[0m \u001b[32m━━━━━━━━━━━━━━━━━━━━\u001b[0m\u001b[37m\u001b[0m \u001b[1m0s\u001b[0m 1ms/step - loss: 0.1271 \n",
            "Epoch 82/100\n",
            "\u001b[1m26/26\u001b[0m \u001b[32m━━━━━━━━━━━━━━━━━━━━\u001b[0m\u001b[37m\u001b[0m \u001b[1m0s\u001b[0m 1ms/step - loss: 0.1470 \n",
            "Epoch 83/100\n",
            "\u001b[1m26/26\u001b[0m \u001b[32m━━━━━━━━━━━━━━━━━━━━\u001b[0m\u001b[37m\u001b[0m \u001b[1m0s\u001b[0m 1ms/step - loss: 0.1132 \n",
            "Epoch 84/100\n",
            "\u001b[1m26/26\u001b[0m \u001b[32m━━━━━━━━━━━━━━━━━━━━\u001b[0m\u001b[37m\u001b[0m \u001b[1m0s\u001b[0m 1ms/step - loss: 0.1709 \n",
            "Epoch 85/100\n",
            "\u001b[1m26/26\u001b[0m \u001b[32m━━━━━━━━━━━━━━━━━━━━\u001b[0m\u001b[37m\u001b[0m \u001b[1m0s\u001b[0m 1ms/step - loss: 0.1470 \n",
            "Epoch 86/100\n",
            "\u001b[1m26/26\u001b[0m \u001b[32m━━━━━━━━━━━━━━━━━━━━\u001b[0m\u001b[37m\u001b[0m \u001b[1m0s\u001b[0m 1ms/step - loss: 0.1185 \n",
            "Epoch 87/100\n",
            "\u001b[1m26/26\u001b[0m \u001b[32m━━━━━━━━━━━━━━━━━━━━\u001b[0m\u001b[37m\u001b[0m \u001b[1m0s\u001b[0m 1ms/step - loss: 0.1174 \n",
            "Epoch 88/100\n",
            "\u001b[1m26/26\u001b[0m \u001b[32m━━━━━━━━━━━━━━━━━━━━\u001b[0m\u001b[37m\u001b[0m \u001b[1m0s\u001b[0m 2ms/step - loss: 0.1406 \n",
            "Epoch 89/100\n",
            "\u001b[1m26/26\u001b[0m \u001b[32m━━━━━━━━━━━━━━━━━━━━\u001b[0m\u001b[37m\u001b[0m \u001b[1m0s\u001b[0m 2ms/step - loss: 0.1512 \n",
            "Epoch 90/100\n",
            "\u001b[1m26/26\u001b[0m \u001b[32m━━━━━━━━━━━━━━━━━━━━\u001b[0m\u001b[37m\u001b[0m \u001b[1m0s\u001b[0m 2ms/step - loss: 0.1246 \n",
            "Epoch 91/100\n",
            "\u001b[1m26/26\u001b[0m \u001b[32m━━━━━━━━━━━━━━━━━━━━\u001b[0m\u001b[37m\u001b[0m \u001b[1m0s\u001b[0m 1ms/step - loss: 0.1415 \n",
            "Epoch 92/100\n",
            "\u001b[1m26/26\u001b[0m \u001b[32m━━━━━━━━━━━━━━━━━━━━\u001b[0m\u001b[37m\u001b[0m \u001b[1m0s\u001b[0m 1ms/step - loss: 0.1616 \n",
            "Epoch 93/100\n",
            "\u001b[1m26/26\u001b[0m \u001b[32m━━━━━━━━━━━━━━━━━━━━\u001b[0m\u001b[37m\u001b[0m \u001b[1m0s\u001b[0m 1ms/step - loss: 0.1301 \n",
            "Epoch 94/100\n",
            "\u001b[1m26/26\u001b[0m \u001b[32m━━━━━━━━━━━━━━━━━━━━\u001b[0m\u001b[37m\u001b[0m \u001b[1m0s\u001b[0m 2ms/step - loss: 0.1526 \n",
            "Epoch 95/100\n",
            "\u001b[1m26/26\u001b[0m \u001b[32m━━━━━━━━━━━━━━━━━━━━\u001b[0m\u001b[37m\u001b[0m \u001b[1m0s\u001b[0m 2ms/step - loss: 0.2053 \n",
            "Epoch 96/100\n",
            "\u001b[1m26/26\u001b[0m \u001b[32m━━━━━━━━━━━━━━━━━━━━\u001b[0m\u001b[37m\u001b[0m \u001b[1m0s\u001b[0m 2ms/step - loss: 0.1352 \n",
            "Epoch 97/100\n",
            "\u001b[1m26/26\u001b[0m \u001b[32m━━━━━━━━━━━━━━━━━━━━\u001b[0m\u001b[37m\u001b[0m \u001b[1m0s\u001b[0m 2ms/step - loss: 0.1350 \n",
            "Epoch 98/100\n",
            "\u001b[1m26/26\u001b[0m \u001b[32m━━━━━━━━━━━━━━━━━━━━\u001b[0m\u001b[37m\u001b[0m \u001b[1m0s\u001b[0m 1ms/step - loss: 0.1337 \n",
            "Epoch 99/100\n",
            "\u001b[1m26/26\u001b[0m \u001b[32m━━━━━━━━━━━━━━━━━━━━\u001b[0m\u001b[37m\u001b[0m \u001b[1m0s\u001b[0m 1ms/step - loss: 0.1390 \n",
            "Epoch 100/100\n",
            "\u001b[1m26/26\u001b[0m \u001b[32m━━━━━━━━━━━━━━━━━━━━\u001b[0m\u001b[37m\u001b[0m \u001b[1m0s\u001b[0m 1ms/step - loss: 0.1366 \n"
          ]
        }
      ],
      "source": [
        "# Melatih model\n",
        "history = model_tf.fit(X_train, y_train, epochs=100, verbose=1)"
      ]
    },
    {
      "cell_type": "markdown",
      "metadata": {
        "id": "vbG4BNgAOj_6"
      },
      "source": [
        "## 5. Evaluasi model dengan menghitung MSE, RMSE, dan RSquared"
      ]
    },
    {
      "cell_type": "code",
      "execution_count": 102,
      "metadata": {
        "id": "-vgVak9cOj_7",
        "outputId": "320e766c-c9c9-4c73-e1d7-b7e2aafd4f91"
      },
      "outputs": [
        {
          "name": "stdout",
          "output_type": "stream",
          "text": [
            "\u001b[1m7/7\u001b[0m \u001b[32m━━━━━━━━━━━━━━━━━━━━\u001b[0m\u001b[37m\u001b[0m \u001b[1m0s\u001b[0m 7ms/step \n",
            "MSE: 0.1047392954135692, RMSE: 0.3236345089967527, R^2: 0.4734643601683559\n"
          ]
        }
      ],
      "source": [
        "# Memprediksi data uji\n",
        "y_pred = model_tf.predict(X_test)\n",
        "\n",
        "# Menghitung metrik evaluasi\n",
        "mse, rmse, r2 = calculate_metrics(y_test, y_pred)\n",
        "print(f'MSE: {mse}, RMSE: {rmse}, R^2: {r2}')"
      ]
    },
    {
      "cell_type": "markdown",
      "metadata": {
        "id": "x7QGT2QyOj_7"
      },
      "source": [
        "## 6. Memvisualisasikan Prediksi dari model yang telah dilatih"
      ]
    },
    {
      "cell_type": "code",
      "execution_count": 103,
      "metadata": {
        "id": "QBcMFxi9Oj_7",
        "outputId": "2423df2f-22bc-4f63-e2c4-1511279491d9"
      },
      "outputs": [
        {
          "data": {
            "image/png": "[encoded data removed]",
            "text/plain": [
              "<Figure size 640x480 with 1 Axes>"
            ]
          },
          "metadata": {},
          "output_type": "display_data"
        },
        {
          "data": {
            "image/png": "[encoded data removed]",
            "text/plain": [
              "<Figure size 640x480 with 1 Axes>"
            ]
          },
          "metadata": {},
          "output_type": "display_data"
        }
      ],
      "source": [
        "# Menampilkan plot hasil prediksi\n",
        "visualize_results(y_test, y_pred)\n",
        "\n",
        "# Menampilkan plot hasil training\n",
        "visualize_training(history.history)\n",
        "\n",
        "# Menyimpan model\n",
        "model_tf.save('model_tensorflow_infrared.keras')"
      ]
    },
    {
      "cell_type": "markdown",
      "metadata": {},
      "source": [
        "## **🔍 Penjelasan Lengkap Persamaan dalam Implementasi Deep Learning**\n",
        "\n",
        "Dalam implementasi deep learning, terdapat beberapa komponen utama yang melibatkan persamaan matematis. Kita akan membahasnya secara sistematis mulai dari forward pass, fungsi aktivasi, backward pass (backpropagation), fungsi loss, dan optimisasi**.\n",
        "\n",
        "---\n",
        "\n",
        "# **1️⃣ Forward Pass (Propagasi Maju)**\n",
        "Forward pass adalah proses perhitungan dari **input hingga output**. Ini melibatkan bobot, bias, dan fungsi aktivasi.\n",
        "\n",
        "## **a) Perhitungan Linear di Setiap Lapisan**\n",
        "Setiap neuron dalam jaringan saraf menerima input, mengalikannya dengan bobot, menambahkan bias, lalu melewatkannya ke fungsi aktivasi.\n",
        "\n",
        "$$ z^{(l)} = W^{(l)} a^{(l-1)} + b^{(l)} $$\n",
        "\n",
        "🔹 **Variabelnya:**\n",
        "- \\( W^{(l)} \\) = matriks bobot pada lapisan ke-\\(l\\)\n",
        "- \\( a^{(l-1)} \\) = output dari lapisan sebelumnya\n",
        "- \\( b^{(l)} \\) = bias pada lapisan ke-\\(l\\)\n",
        "- \\( z^{(l)} \\) = hasil linear sebelum masuk fungsi aktivasi  \n",
        "\n",
        "📌 **Fungsi ini mirip dengan regresi linear!** Tetapi dalam deep learning, hasilnya akan dilewatkan ke fungsi aktivasi.\n",
        "\n",
        "---\n",
        "\n",
        "# **2️⃣ Fungsi Aktivasi**\n",
        "Setelah \\( z^{(l)} \\) dihitung, kita menerapkan fungsi aktivasi. Fungsi ini menentukan apakah suatu neuron **aktif atau tidak**.\n",
        "\n",
        "## ReLU (Rectified Linear Unit)**\n",
        "\\[\n",
        "f(z) = \\max(0, z)\n",
        "\\]\n",
        "📌 **Fungsi ini hanya melewatkan nilai positif**, sementara nilai negatif diubah menjadi nol, membantu menghindari **vanishing gradient**.\n",
        "\n",
        "---\n",
        "\n",
        "# **3️⃣ Backpropagation (Propagasi Balik)**\n",
        "Backpropagation digunakan untuk menghitung **gradien** dan memperbarui bobot dengan cara menurunkan loss.\n",
        "\n",
        "## **a) Menghitung Gradien dari Loss**\n",
        "Menggunakan aturan rantai:\n",
        "\\[\n",
        "\\frac{\\partial L}{\\partial W^{(l)}} = \\frac{\\partial L}{\\partial a^{(l)}} \\cdot \\frac{\\partial a^{(l)}}{\\partial z^{(l)}} \\cdot \\frac{\\partial z^{(l)}}{\\partial W^{(l)}}\n",
        "\\]\n",
        "\n",
        "**Variabelnya:**\n",
        "- \\( L \\) = fungsi loss\n",
        "- \\( W^{(l)} \\) = bobot pada lapisan ke-\\(l\\)\n",
        "- \\( a^{(l)} \\) = output dari lapisan ke-\\(l\\)\n",
        "- \\( z^{(l)} \\) = input sebelum aktivasi di lapisan ke-\\(l\\)\n",
        "\n",
        "---\n",
        "\n",
        "# **4️⃣ Fungsi Loss**\n",
        "Fungsi loss mengukur seberapa baik model melakukan prediksi.\n",
        "\n",
        "Pada model regresi ini, fungsi loss yang digunakan adalah Mean Squared Error (MSE)\n",
        "\n",
        "---\n",
        "\n",
        "# **5️⃣ Optimisasi Bobot dengan Gradient Descent**\n",
        "Bobot diperbarui dengan **Gradient Descent**.\n",
        "\n",
        "\\[\n",
        "W' = W - \\alpha \\frac{\\partial L}{\\partial W}\n",
        "\\]\n",
        "\n",
        "📌 **Di sini, bobot diperbarui dengan mengurangi gradien loss terhadap bobot.**\n",
        "\n",
        "### **a) Adam Optimizer**\n",
        "Adam adalah pengembangan dari gradient descent yang menggunakan **momentum** dan **adaptive learning rate**.\n",
        "\n",
        "\\[\n",
        "m_t = \\beta_1 m_{t-1} + (1 - \\beta_1) \\frac{\\partial L}{\\partial W}\n",
        "\\]\n",
        "\n",
        "\\[\n",
        "v_t = \\beta_2 v_{t-1} + (1 - \\beta_2) \\left( \\frac{\\partial L}{\\partial W} \\right)^2\n",
        "\\]\n",
        "\n",
        "\\[\n",
        "W' = W - \\frac{\\alpha}{\\sqrt{v_t} + \\epsilon} m_t\n",
        "\\]\n",
        "\n",
        "📌 Adam lebih stabil dan lebih cepat dibandingkan gradient descent biasa.\n"
      ]
    },
    {
      "cell_type": "markdown",
      "metadata": {
        "id": "GAWYHZmiOj_7"
      },
      "source": [
        "## Penjelasan Persamaan Matematika untuk Evaluasi\n",
        "\n",
        "### Mean Squared Error (MSE)\n",
        "Mean Squared Error (MSE) adalah rata-rata dari kuadrat selisih antara nilai aktual dan nilai prediksi. MSE digunakan untuk mengukur seberapa baik model memprediksi nilai target. Rumusnya adalah:\n",
        "\n",
        "$$ \\text{MSE} = \\frac{1}{n} \\sum_{i=1}^{n} (y_i - \\hat{y}_i)^2 $$\n",
        "\n",
        "di mana:\n",
        "- $ n $ adalah jumlah data\n",
        "- $ y_i $ adalah nilai aktual\n",
        "- $ \\hat{y}_i $ adalah nilai prediksi\n",
        "\n",
        "### Root Mean Squared Error (RMSE)\n",
        "Root Mean Squared Error (RMSE) adalah akar kuadrat dari MSE. RMSE memberikan ukuran kesalahan prediksi dalam satuan yang sama dengan nilai target. Rumusnya adalah:\n",
        "\n",
        "$$ \\text{RMSE} = \\sqrt{\\text{MSE}} $$\n",
        "\n",
        "### R-squared (R²)\n",
        "R-squared (R²) adalah proporsi variansi dalam variabel dependen yang dapat dijelaskan oleh variabel independen dalam model. R² memberikan indikasi seberapa baik model cocok dengan data. Rumusnya adalah:\n",
        "\n",
        "$$ R^2 = 1 - \\frac{\\sum_{i=1}^{n} (y_i - \\hat{y}_i)^2}{\\sum_{i=1}^{n} (y_i - \\bar{y})^2} $$\n",
        "\n",
        "di mana:\n",
        "- $ y_i $ adalah nilai aktual\n",
        "- $ \\hat{y}_i $ adalah nilai prediksi\n",
        "- $ \\bar{y} $ adalah rata-rata nilai aktual\n",
        "\n",
        "### Sum of Squared Residuals (SSR)\n",
        "Sum of Squared Residuals (SSR) adalah jumlah dari kuadrat selisih antara nilai aktual dan nilai prediksi. SSR digunakan dalam perhitungan R². Rumusnya adalah:\n",
        "\n",
        "$$ \\text{SSR} = \\sum_{i=1}^{n} (y_i - \\hat{y}_i)^2 $$\n",
        "\n",
        "### Total Sum of Squares (SST)\n",
        "Total Sum of Squares (SST) adalah jumlah dari kuadrat selisih antara nilai aktual dan rata-rata nilai aktual. SST digunakan dalam perhitungan R². Rumusnya adalah:\n",
        "\n",
        "$$ \\text{SST} = \\sum_{i=1}^{n} (y_i - \\bar{y})^2 $$"
      ]
    }
  ],
  "metadata": {
    "colab": {
      "collapsed_sections": [
        "sEcuhK7kxBfZ"
      ],
      "provenance": []
    },
    "kernelspec": {
      "display_name": "Python 3",
      "name": "python3"
    },
    "language_info": {
      "codemirror_mode": {
        "name": "ipython",
        "version": 3
      },
      "file_extension": ".py",
      "mimetype": "text/x-python",
      "name": "python",
      "nbconvert_exporter": "python",
      "pygments_lexer": "ipython3",
      "version": "3.11.4"
    }
  },
  "nbformat": 4,
  "nbformat_minor": 0
}
