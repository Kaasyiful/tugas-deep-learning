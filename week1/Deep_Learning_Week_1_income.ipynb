{
  "cells": [
    {
      "cell_type": "markdown",
      "metadata": {
        "colab_type": "text",
        "id": "view-in-github"
      },
      "source": [
        "<a href=\"https://colab.research.google.com/github/khalishekahmad/teachingMLDL/blob/deep-learning/Deep_Learning_Week_1.ipynb\" target=\"_parent\"><img src=\"https://colab.research.google.com/assets/colab-badge.svg\" alt=\"Open In Colab\"/></a>"
      ]
    },
    {
      "cell_type": "markdown",
      "metadata": {
        "id": "yIDeUs_Qv5Wh"
      },
      "source": [
        "# Template Pengerjaan Deep Learning menggunakan PyTorch and TensorFlow (Week 1)"
      ]
    },
    {
      "cell_type": "markdown",
      "metadata": {},
      "source": [
        "# Persiapan: Pemuatan dan Preprocessing Data"
      ]
    },
    {
      "cell_type": "markdown",
      "metadata": {
        "id": "X_vW29SiwBCG"
      },
      "source": [
        "## 1. Menginstal atau Memastikan Instalasi PyTorch, Tensorflow dan Modul Pendukung Seperti NumPy dan Pandas"
      ]
    },
    {
      "cell_type": "code",
      "execution_count": 163,
      "metadata": {
        "colab": {
          "base_uri": "https://localhost:8080/"
        },
        "id": "UI-RHib4pRBV",
        "outputId": "9ce6321f-e445-4572-f8aa-32ba16c862be"
      },
      "outputs": [
        {
          "name": "stdout",
          "output_type": "stream",
          "text": [
            "Requirement already satisfied: pandas in c:\\users\\user\\appdata\\local\\programs\\python\\python311\\lib\\site-packages (2.1.4)\n",
            "Requirement already satisfied: numpy in c:\\users\\user\\appdata\\local\\programs\\python\\python311\\lib\\site-packages (1.26.2)\n",
            "Requirement already satisfied: matplotlib in c:\\users\\user\\appdata\\local\\programs\\python\\python311\\lib\\site-packages (3.8.3)\n",
            "Requirement already satisfied: scikit-learn in c:\\users\\user\\appdata\\local\\programs\\python\\python311\\lib\\site-packages (1.5.1)\n",
            "Requirement already satisfied: torch in c:\\users\\user\\appdata\\local\\programs\\python\\python311\\lib\\site-packages (2.3.0)\n",
            "Requirement already satisfied: tensorflow in c:\\users\\user\\appdata\\local\\programs\\python\\python311\\lib\\site-packages (2.17.0)\n",
            "Requirement already satisfied: python-dateutil>=2.8.2 in c:\\users\\user\\appdata\\local\\programs\\python\\python311\\lib\\site-packages (from pandas) (2.8.2)\n",
            "Requirement already satisfied: pytz>=2020.1 in c:\\users\\user\\appdata\\local\\programs\\python\\python311\\lib\\site-packages (from pandas) (2023.3.post1)\n",
            "Requirement already satisfied: tzdata>=2022.1 in c:\\users\\user\\appdata\\local\\programs\\python\\python311\\lib\\site-packages (from pandas) (2023.4)\n",
            "Requirement already satisfied: contourpy>=1.0.1 in c:\\users\\user\\appdata\\local\\programs\\python\\python311\\lib\\site-packages (from matplotlib) (1.2.0)\n",
            "Requirement already satisfied: cycler>=0.10 in c:\\users\\user\\appdata\\local\\programs\\python\\python311\\lib\\site-packages (from matplotlib) (0.12.1)\n",
            "Requirement already satisfied: fonttools>=4.22.0 in c:\\users\\user\\appdata\\local\\programs\\python\\python311\\lib\\site-packages (from matplotlib) (4.49.0)\n",
            "Requirement already satisfied: kiwisolver>=1.3.1 in c:\\users\\user\\appdata\\local\\programs\\python\\python311\\lib\\site-packages (from matplotlib) (1.4.5)\n",
            "Requirement already satisfied: packaging>=20.0 in c:\\users\\user\\appdata\\local\\programs\\python\\python311\\lib\\site-packages (from matplotlib) (23.1)\n",
            "Requirement already satisfied: pillow>=8 in c:\\users\\user\\appdata\\local\\programs\\python\\python311\\lib\\site-packages (from matplotlib) (10.1.0)\n",
            "Requirement already satisfied: pyparsing>=2.3.1 in c:\\users\\user\\appdata\\local\\programs\\python\\python311\\lib\\site-packages (from matplotlib) (3.1.1)\n",
            "Requirement already satisfied: scipy>=1.6.0 in c:\\users\\user\\appdata\\local\\programs\\python\\python311\\lib\\site-packages (from scikit-learn) (1.13.1)\n",
            "Requirement already satisfied: joblib>=1.2.0 in c:\\users\\user\\appdata\\local\\programs\\python\\python311\\lib\\site-packages (from scikit-learn) (1.4.0)\n",
            "Requirement already satisfied: threadpoolctl>=3.1.0 in c:\\users\\user\\appdata\\local\\programs\\python\\python311\\lib\\site-packages (from scikit-learn) (3.5.0)\n",
            "Requirement already satisfied: filelock in c:\\users\\user\\appdata\\local\\programs\\python\\python311\\lib\\site-packages (from torch) (3.14.0)\n",
            "Requirement already satisfied: typing-extensions>=4.8.0 in c:\\users\\user\\appdata\\local\\programs\\python\\python311\\lib\\site-packages (from torch) (4.12.2)\n",
            "Requirement already satisfied: sympy in c:\\users\\user\\appdata\\local\\programs\\python\\python311\\lib\\site-packages (from torch) (1.12)\n",
            "Requirement already satisfied: networkx in c:\\users\\user\\appdata\\local\\programs\\python\\python311\\lib\\site-packages (from torch) (3.3)\n",
            "Requirement already satisfied: jinja2 in c:\\users\\user\\appdata\\local\\programs\\python\\python311\\lib\\site-packages (from torch) (3.1.2)\n",
            "Requirement already satisfied: fsspec in c:\\users\\user\\appdata\\local\\programs\\python\\python311\\lib\\site-packages (from torch) (2024.5.0)\n",
            "Requirement already satisfied: mkl<=2021.4.0,>=2021.1.1 in c:\\users\\user\\appdata\\local\\programs\\python\\python311\\lib\\site-packages (from torch) (2021.4.0)\n",
            "Requirement already satisfied: tensorflow-intel==2.17.0 in c:\\users\\user\\appdata\\local\\programs\\python\\python311\\lib\\site-packages (from tensorflow) (2.17.0)\n",
            "Requirement already satisfied: absl-py>=1.0.0 in c:\\users\\user\\appdata\\local\\programs\\python\\python311\\lib\\site-packages (from tensorflow-intel==2.17.0->tensorflow) (2.1.0)\n",
            "Requirement already satisfied: astunparse>=1.6.0 in c:\\users\\user\\appdata\\local\\programs\\python\\python311\\lib\\site-packages (from tensorflow-intel==2.17.0->tensorflow) (1.6.3)\n",
            "Requirement already satisfied: flatbuffers>=24.3.25 in c:\\users\\user\\appdata\\local\\programs\\python\\python311\\lib\\site-packages (from tensorflow-intel==2.17.0->tensorflow) (24.3.25)\n",
            "Requirement already satisfied: gast!=0.5.0,!=0.5.1,!=0.5.2,>=0.2.1 in c:\\users\\user\\appdata\\local\\programs\\python\\python311\\lib\\site-packages (from tensorflow-intel==2.17.0->tensorflow) (0.6.0)\n",
            "Requirement already satisfied: google-pasta>=0.1.1 in c:\\users\\user\\appdata\\local\\programs\\python\\python311\\lib\\site-packages (from tensorflow-intel==2.17.0->tensorflow) (0.2.0)\n",
            "Requirement already satisfied: h5py>=3.10.0 in c:\\users\\user\\appdata\\local\\programs\\python\\python311\\lib\\site-packages (from tensorflow-intel==2.17.0->tensorflow) (3.11.0)\n",
            "Requirement already satisfied: libclang>=13.0.0 in c:\\users\\user\\appdata\\local\\programs\\python\\python311\\lib\\site-packages (from tensorflow-intel==2.17.0->tensorflow) (18.1.1)\n",
            "Requirement already satisfied: ml-dtypes<0.5.0,>=0.3.1 in c:\\users\\user\\appdata\\local\\programs\\python\\python311\\lib\\site-packages (from tensorflow-intel==2.17.0->tensorflow) (0.4.0)\n",
            "Requirement already satisfied: opt-einsum>=2.3.2 in c:\\users\\user\\appdata\\local\\programs\\python\\python311\\lib\\site-packages (from tensorflow-intel==2.17.0->tensorflow) (3.3.0)\n",
            "Requirement already satisfied: protobuf!=4.21.0,!=4.21.1,!=4.21.2,!=4.21.3,!=4.21.4,!=4.21.5,<5.0.0dev,>=3.20.3 in c:\\users\\user\\appdata\\local\\programs\\python\\python311\\lib\\site-packages (from tensorflow-intel==2.17.0->tensorflow) (4.25.4)\n",
            "Requirement already satisfied: requests<3,>=2.21.0 in c:\\users\\user\\appdata\\local\\programs\\python\\python311\\lib\\site-packages (from tensorflow-intel==2.17.0->tensorflow) (2.31.0)\n",
            "Requirement already satisfied: setuptools in c:\\users\\user\\appdata\\local\\programs\\python\\python311\\lib\\site-packages (from tensorflow-intel==2.17.0->tensorflow) (65.5.0)\n",
            "Requirement already satisfied: six>=1.12.0 in c:\\users\\user\\appdata\\local\\programs\\python\\python311\\lib\\site-packages (from tensorflow-intel==2.17.0->tensorflow) (1.16.0)\n",
            "Requirement already satisfied: termcolor>=1.1.0 in c:\\users\\user\\appdata\\local\\programs\\python\\python311\\lib\\site-packages (from tensorflow-intel==2.17.0->tensorflow) (2.4.0)\n",
            "Requirement already satisfied: wrapt>=1.11.0 in c:\\users\\user\\appdata\\local\\programs\\python\\python311\\lib\\site-packages (from tensorflow-intel==2.17.0->tensorflow) (1.16.0)\n",
            "Requirement already satisfied: grpcio<2.0,>=1.24.3 in c:\\users\\user\\appdata\\local\\programs\\python\\python311\\lib\\site-packages (from tensorflow-intel==2.17.0->tensorflow) (1.65.5)\n",
            "Requirement already satisfied: tensorboard<2.18,>=2.17 in c:\\users\\user\\appdata\\local\\programs\\python\\python311\\lib\\site-packages (from tensorflow-intel==2.17.0->tensorflow) (2.17.1)\n",
            "Requirement already satisfied: keras>=3.2.0 in c:\\users\\user\\appdata\\local\\programs\\python\\python311\\lib\\site-packages (from tensorflow-intel==2.17.0->tensorflow) (3.3.3)\n",
            "Requirement already satisfied: tensorflow-io-gcs-filesystem>=0.23.1 in c:\\users\\user\\appdata\\local\\programs\\python\\python311\\lib\\site-packages (from tensorflow-intel==2.17.0->tensorflow) (0.31.0)\n",
            "Requirement already satisfied: intel-openmp==2021.* in c:\\users\\user\\appdata\\local\\programs\\python\\python311\\lib\\site-packages (from mkl<=2021.4.0,>=2021.1.1->torch) (2021.4.0)\n",
            "Requirement already satisfied: tbb==2021.* in c:\\users\\user\\appdata\\local\\programs\\python\\python311\\lib\\site-packages (from mkl<=2021.4.0,>=2021.1.1->torch) (2021.12.0)\n",
            "Requirement already satisfied: MarkupSafe>=2.0 in c:\\users\\user\\appdata\\local\\programs\\python\\python311\\lib\\site-packages (from jinja2->torch) (2.1.3)\n",
            "Requirement already satisfied: mpmath>=0.19 in c:\\users\\user\\appdata\\local\\programs\\python\\python311\\lib\\site-packages (from sympy->torch) (1.3.0)\n",
            "Requirement already satisfied: wheel<1.0,>=0.23.0 in c:\\users\\user\\appdata\\local\\programs\\python\\python311\\lib\\site-packages (from astunparse>=1.6.0->tensorflow-intel==2.17.0->tensorflow) (0.44.0)\n",
            "Requirement already satisfied: rich in c:\\users\\user\\appdata\\local\\programs\\python\\python311\\lib\\site-packages (from keras>=3.2.0->tensorflow-intel==2.17.0->tensorflow) (13.7.1)\n",
            "Requirement already satisfied: namex in c:\\users\\user\\appdata\\local\\programs\\python\\python311\\lib\\site-packages (from keras>=3.2.0->tensorflow-intel==2.17.0->tensorflow) (0.0.8)\n",
            "Requirement already satisfied: optree in c:\\users\\user\\appdata\\local\\programs\\python\\python311\\lib\\site-packages (from keras>=3.2.0->tensorflow-intel==2.17.0->tensorflow) (0.11.0)\n",
            "Requirement already satisfied: charset-normalizer<4,>=2 in c:\\users\\user\\appdata\\local\\programs\\python\\python311\\lib\\site-packages (from requests<3,>=2.21.0->tensorflow-intel==2.17.0->tensorflow) (3.3.2)\n",
            "Requirement already satisfied: idna<4,>=2.5 in c:\\users\\user\\appdata\\local\\programs\\python\\python311\\lib\\site-packages (from requests<3,>=2.21.0->tensorflow-intel==2.17.0->tensorflow) (3.6)\n",
            "Requirement already satisfied: urllib3<3,>=1.21.1 in c:\\users\\user\\appdata\\local\\programs\\python\\python311\\lib\\site-packages (from requests<3,>=2.21.0->tensorflow-intel==2.17.0->tensorflow) (2.1.0)\n",
            "Requirement already satisfied: certifi>=2017.4.17 in c:\\users\\user\\appdata\\local\\programs\\python\\python311\\lib\\site-packages (from requests<3,>=2.21.0->tensorflow-intel==2.17.0->tensorflow) (2023.11.17)\n",
            "Requirement already satisfied: markdown>=2.6.8 in c:\\users\\user\\appdata\\local\\programs\\python\\python311\\lib\\site-packages (from tensorboard<2.18,>=2.17->tensorflow-intel==2.17.0->tensorflow) (3.5.1)\n",
            "Requirement already satisfied: tensorboard-data-server<0.8.0,>=0.7.0 in c:\\users\\user\\appdata\\local\\programs\\python\\python311\\lib\\site-packages (from tensorboard<2.18,>=2.17->tensorflow-intel==2.17.0->tensorflow) (0.7.2)\n",
            "Requirement already satisfied: werkzeug>=1.0.1 in c:\\users\\user\\appdata\\local\\programs\\python\\python311\\lib\\site-packages (from tensorboard<2.18,>=2.17->tensorflow-intel==2.17.0->tensorflow) (2.3.8)\n",
            "Requirement already satisfied: markdown-it-py>=2.2.0 in c:\\users\\user\\appdata\\local\\programs\\python\\python311\\lib\\site-packages (from rich->keras>=3.2.0->tensorflow-intel==2.17.0->tensorflow) (3.0.0)\n",
            "Requirement already satisfied: pygments<3.0.0,>=2.13.0 in c:\\users\\user\\appdata\\local\\programs\\python\\python311\\lib\\site-packages (from rich->keras>=3.2.0->tensorflow-intel==2.17.0->tensorflow) (2.17.2)\n",
            "Requirement already satisfied: mdurl~=0.1 in c:\\users\\user\\appdata\\local\\programs\\python\\python311\\lib\\site-packages (from markdown-it-py>=2.2.0->rich->keras>=3.2.0->tensorflow-intel==2.17.0->tensorflow) (0.1.2)\n",
            "Note: you may need to restart the kernel to use updated packages.\n"
          ]
        }
      ],
      "source": [
        "%pip install pandas numpy matplotlib scikit-learn torch tensorflow"
      ]
    },
    {
      "cell_type": "markdown",
      "metadata": {
        "id": "XhooEfX-wPGP"
      },
      "source": [
        "## 2. Mengimpor Library yang Dibutuhkan"
      ]
    },
    {
      "cell_type": "code",
      "execution_count": 164,
      "metadata": {},
      "outputs": [],
      "source": [
        "import pandas as pd # untuk membaca data dari file csv\n",
        "import numpy as np # untuk operasi matematika\n",
        "from sklearn.model_selection import train_test_split # untuk membagi data menjadi data latih dan data uji\n",
        "from sklearn.preprocessing import LabelEncoder, StandardScaler # untuk mengubah label kelas menjadi angka dan standarisasi data\n",
        "from sklearn.metrics import accuracy_score, precision_score, recall_score, f1_score, roc_auc_score, roc_curve, auc, confusion_matrix # untuk menghitung metrik evaluasi\n",
        "import matplotlib.pyplot as plt # untuk membuat plot"
      ]
    },
    {
      "cell_type": "markdown",
      "metadata": {},
      "source": [
        "## 3. Memuat Dataset ke Dalam Program"
      ]
    },
    {
      "cell_type": "code",
      "execution_count": 165,
      "metadata": {},
      "outputs": [
        {
          "data": {
            "text/html": [
              "<div>\n",
              "<style scoped>\n",
              "    .dataframe tbody tr th:only-of-type {\n",
              "        vertical-align: middle;\n",
              "    }\n",
              "\n",
              "    .dataframe tbody tr th {\n",
              "        vertical-align: top;\n",
              "    }\n",
              "\n",
              "    .dataframe thead th {\n",
              "        text-align: right;\n",
              "    }\n",
              "</style>\n",
              "<table border=\"1\" class=\"dataframe\">\n",
              "  <thead>\n",
              "    <tr style=\"text-align: right;\">\n",
              "      <th></th>\n",
              "      <th>age</th>\n",
              "      <th>workclass</th>\n",
              "      <th>fnlwgt</th>\n",
              "      <th>education</th>\n",
              "      <th>education-num</th>\n",
              "      <th>marital-status</th>\n",
              "      <th>occupation</th>\n",
              "      <th>relationship</th>\n",
              "      <th>race</th>\n",
              "      <th>sex</th>\n",
              "      <th>capital-gain</th>\n",
              "      <th>capital-loss</th>\n",
              "      <th>hours-per-week</th>\n",
              "      <th>native-country</th>\n",
              "      <th>income</th>\n",
              "    </tr>\n",
              "  </thead>\n",
              "  <tbody>\n",
              "    <tr>\n",
              "      <th>25316</th>\n",
              "      <td>40</td>\n",
              "      <td>Private</td>\n",
              "      <td>321856</td>\n",
              "      <td>HS-grad</td>\n",
              "      <td>9</td>\n",
              "      <td>Divorced</td>\n",
              "      <td>Transport-moving</td>\n",
              "      <td>Not-in-family</td>\n",
              "      <td>White</td>\n",
              "      <td>Male</td>\n",
              "      <td>0</td>\n",
              "      <td>0</td>\n",
              "      <td>60</td>\n",
              "      <td>United-States</td>\n",
              "      <td>&gt;50K</td>\n",
              "    </tr>\n",
              "    <tr>\n",
              "      <th>48575</th>\n",
              "      <td>28</td>\n",
              "      <td>Self-emp-not-inc</td>\n",
              "      <td>141702</td>\n",
              "      <td>HS-grad</td>\n",
              "      <td>9</td>\n",
              "      <td>Never-married</td>\n",
              "      <td>Sales</td>\n",
              "      <td>Not-in-family</td>\n",
              "      <td>White</td>\n",
              "      <td>Male</td>\n",
              "      <td>0</td>\n",
              "      <td>0</td>\n",
              "      <td>60</td>\n",
              "      <td>United-States</td>\n",
              "      <td>&lt;=50K.</td>\n",
              "    </tr>\n",
              "    <tr>\n",
              "      <th>6576</th>\n",
              "      <td>39</td>\n",
              "      <td>Private</td>\n",
              "      <td>211440</td>\n",
              "      <td>Bachelors</td>\n",
              "      <td>13</td>\n",
              "      <td>Married-civ-spouse</td>\n",
              "      <td>Sales</td>\n",
              "      <td>Husband</td>\n",
              "      <td>White</td>\n",
              "      <td>Male</td>\n",
              "      <td>0</td>\n",
              "      <td>0</td>\n",
              "      <td>50</td>\n",
              "      <td>United-States</td>\n",
              "      <td>&gt;50K</td>\n",
              "    </tr>\n",
              "    <tr>\n",
              "      <th>31453</th>\n",
              "      <td>33</td>\n",
              "      <td>Private</td>\n",
              "      <td>207201</td>\n",
              "      <td>HS-grad</td>\n",
              "      <td>9</td>\n",
              "      <td>Married-civ-spouse</td>\n",
              "      <td>Machine-op-inspct</td>\n",
              "      <td>Husband</td>\n",
              "      <td>White</td>\n",
              "      <td>Male</td>\n",
              "      <td>0</td>\n",
              "      <td>0</td>\n",
              "      <td>55</td>\n",
              "      <td>United-States</td>\n",
              "      <td>&gt;50K</td>\n",
              "    </tr>\n",
              "    <tr>\n",
              "      <th>44345</th>\n",
              "      <td>25</td>\n",
              "      <td>Private</td>\n",
              "      <td>267594</td>\n",
              "      <td>Some-college</td>\n",
              "      <td>10</td>\n",
              "      <td>Married-civ-spouse</td>\n",
              "      <td>Adm-clerical</td>\n",
              "      <td>Wife</td>\n",
              "      <td>White</td>\n",
              "      <td>Female</td>\n",
              "      <td>0</td>\n",
              "      <td>0</td>\n",
              "      <td>40</td>\n",
              "      <td>United-States</td>\n",
              "      <td>&lt;=50K.</td>\n",
              "    </tr>\n",
              "    <tr>\n",
              "      <th>9194</th>\n",
              "      <td>39</td>\n",
              "      <td>State-gov</td>\n",
              "      <td>99156</td>\n",
              "      <td>Doctorate</td>\n",
              "      <td>16</td>\n",
              "      <td>Married-civ-spouse</td>\n",
              "      <td>Prof-specialty</td>\n",
              "      <td>Husband</td>\n",
              "      <td>White</td>\n",
              "      <td>Male</td>\n",
              "      <td>0</td>\n",
              "      <td>0</td>\n",
              "      <td>50</td>\n",
              "      <td>United-States</td>\n",
              "      <td>&gt;50K</td>\n",
              "    </tr>\n",
              "    <tr>\n",
              "      <th>18764</th>\n",
              "      <td>52</td>\n",
              "      <td>Self-emp-inc</td>\n",
              "      <td>561489</td>\n",
              "      <td>Masters</td>\n",
              "      <td>14</td>\n",
              "      <td>Divorced</td>\n",
              "      <td>Exec-managerial</td>\n",
              "      <td>Not-in-family</td>\n",
              "      <td>Black</td>\n",
              "      <td>Female</td>\n",
              "      <td>0</td>\n",
              "      <td>0</td>\n",
              "      <td>50</td>\n",
              "      <td>United-States</td>\n",
              "      <td>&lt;=50K</td>\n",
              "    </tr>\n",
              "    <tr>\n",
              "      <th>22497</th>\n",
              "      <td>28</td>\n",
              "      <td>Private</td>\n",
              "      <td>272913</td>\n",
              "      <td>10th</td>\n",
              "      <td>6</td>\n",
              "      <td>Married-civ-spouse</td>\n",
              "      <td>Handlers-cleaners</td>\n",
              "      <td>Husband</td>\n",
              "      <td>White</td>\n",
              "      <td>Male</td>\n",
              "      <td>0</td>\n",
              "      <td>0</td>\n",
              "      <td>30</td>\n",
              "      <td>Mexico</td>\n",
              "      <td>&lt;=50K</td>\n",
              "    </tr>\n",
              "    <tr>\n",
              "      <th>6269</th>\n",
              "      <td>24</td>\n",
              "      <td>Private</td>\n",
              "      <td>86745</td>\n",
              "      <td>Bachelors</td>\n",
              "      <td>13</td>\n",
              "      <td>Married-civ-spouse</td>\n",
              "      <td>Prof-specialty</td>\n",
              "      <td>Other-relative</td>\n",
              "      <td>Asian-Pac-Islander</td>\n",
              "      <td>Female</td>\n",
              "      <td>0</td>\n",
              "      <td>0</td>\n",
              "      <td>40</td>\n",
              "      <td>Philippines</td>\n",
              "      <td>&lt;=50K</td>\n",
              "    </tr>\n",
              "    <tr>\n",
              "      <th>4983</th>\n",
              "      <td>34</td>\n",
              "      <td>Private</td>\n",
              "      <td>117963</td>\n",
              "      <td>Prof-school</td>\n",
              "      <td>15</td>\n",
              "      <td>Married-civ-spouse</td>\n",
              "      <td>Prof-specialty</td>\n",
              "      <td>Husband</td>\n",
              "      <td>White</td>\n",
              "      <td>Male</td>\n",
              "      <td>0</td>\n",
              "      <td>0</td>\n",
              "      <td>50</td>\n",
              "      <td>United-States</td>\n",
              "      <td>&gt;50K</td>\n",
              "    </tr>\n",
              "    <tr>\n",
              "      <th>37076</th>\n",
              "      <td>26</td>\n",
              "      <td>Private</td>\n",
              "      <td>181838</td>\n",
              "      <td>HS-grad</td>\n",
              "      <td>9</td>\n",
              "      <td>Married-civ-spouse</td>\n",
              "      <td>Machine-op-inspct</td>\n",
              "      <td>Husband</td>\n",
              "      <td>White</td>\n",
              "      <td>Male</td>\n",
              "      <td>0</td>\n",
              "      <td>0</td>\n",
              "      <td>50</td>\n",
              "      <td>United-States</td>\n",
              "      <td>&lt;=50K.</td>\n",
              "    </tr>\n",
              "    <tr>\n",
              "      <th>44336</th>\n",
              "      <td>46</td>\n",
              "      <td>Self-emp-inc</td>\n",
              "      <td>222829</td>\n",
              "      <td>Masters</td>\n",
              "      <td>14</td>\n",
              "      <td>Married-civ-spouse</td>\n",
              "      <td>Exec-managerial</td>\n",
              "      <td>Husband</td>\n",
              "      <td>White</td>\n",
              "      <td>Male</td>\n",
              "      <td>0</td>\n",
              "      <td>0</td>\n",
              "      <td>60</td>\n",
              "      <td>United-States</td>\n",
              "      <td>&gt;50K.</td>\n",
              "    </tr>\n",
              "    <tr>\n",
              "      <th>2149</th>\n",
              "      <td>29</td>\n",
              "      <td>Private</td>\n",
              "      <td>75648</td>\n",
              "      <td>Some-college</td>\n",
              "      <td>10</td>\n",
              "      <td>Married-civ-spouse</td>\n",
              "      <td>Craft-repair</td>\n",
              "      <td>Husband</td>\n",
              "      <td>White</td>\n",
              "      <td>Male</td>\n",
              "      <td>0</td>\n",
              "      <td>0</td>\n",
              "      <td>55</td>\n",
              "      <td>United-States</td>\n",
              "      <td>&lt;=50K</td>\n",
              "    </tr>\n",
              "    <tr>\n",
              "      <th>45489</th>\n",
              "      <td>24</td>\n",
              "      <td>Private</td>\n",
              "      <td>188569</td>\n",
              "      <td>Masters</td>\n",
              "      <td>14</td>\n",
              "      <td>Never-married</td>\n",
              "      <td>Exec-managerial</td>\n",
              "      <td>Own-child</td>\n",
              "      <td>White</td>\n",
              "      <td>Female</td>\n",
              "      <td>4787</td>\n",
              "      <td>0</td>\n",
              "      <td>60</td>\n",
              "      <td>United-States</td>\n",
              "      <td>&gt;50K.</td>\n",
              "    </tr>\n",
              "    <tr>\n",
              "      <th>18960</th>\n",
              "      <td>45</td>\n",
              "      <td>Self-emp-not-inc</td>\n",
              "      <td>319122</td>\n",
              "      <td>Bachelors</td>\n",
              "      <td>13</td>\n",
              "      <td>Never-married</td>\n",
              "      <td>Sales</td>\n",
              "      <td>Not-in-family</td>\n",
              "      <td>White</td>\n",
              "      <td>Male</td>\n",
              "      <td>14084</td>\n",
              "      <td>0</td>\n",
              "      <td>45</td>\n",
              "      <td>United-States</td>\n",
              "      <td>&gt;50K</td>\n",
              "    </tr>\n",
              "    <tr>\n",
              "      <th>4517</th>\n",
              "      <td>47</td>\n",
              "      <td>Private</td>\n",
              "      <td>197836</td>\n",
              "      <td>HS-grad</td>\n",
              "      <td>9</td>\n",
              "      <td>Married-civ-spouse</td>\n",
              "      <td>Sales</td>\n",
              "      <td>Husband</td>\n",
              "      <td>White</td>\n",
              "      <td>Male</td>\n",
              "      <td>0</td>\n",
              "      <td>0</td>\n",
              "      <td>45</td>\n",
              "      <td>United-States</td>\n",
              "      <td>&lt;=50K</td>\n",
              "    </tr>\n",
              "    <tr>\n",
              "      <th>11057</th>\n",
              "      <td>33</td>\n",
              "      <td>Private</td>\n",
              "      <td>150154</td>\n",
              "      <td>Some-college</td>\n",
              "      <td>10</td>\n",
              "      <td>Married-civ-spouse</td>\n",
              "      <td>Craft-repair</td>\n",
              "      <td>Husband</td>\n",
              "      <td>White</td>\n",
              "      <td>Male</td>\n",
              "      <td>0</td>\n",
              "      <td>0</td>\n",
              "      <td>40</td>\n",
              "      <td>United-States</td>\n",
              "      <td>&lt;=50K</td>\n",
              "    </tr>\n",
              "    <tr>\n",
              "      <th>38861</th>\n",
              "      <td>50</td>\n",
              "      <td>Private</td>\n",
              "      <td>143804</td>\n",
              "      <td>HS-grad</td>\n",
              "      <td>9</td>\n",
              "      <td>Never-married</td>\n",
              "      <td>Craft-repair</td>\n",
              "      <td>Own-child</td>\n",
              "      <td>White</td>\n",
              "      <td>Male</td>\n",
              "      <td>0</td>\n",
              "      <td>0</td>\n",
              "      <td>55</td>\n",
              "      <td>United-States</td>\n",
              "      <td>&lt;=50K.</td>\n",
              "    </tr>\n",
              "    <tr>\n",
              "      <th>10930</th>\n",
              "      <td>59</td>\n",
              "      <td>Private</td>\n",
              "      <td>186385</td>\n",
              "      <td>10th</td>\n",
              "      <td>6</td>\n",
              "      <td>Married-civ-spouse</td>\n",
              "      <td>Machine-op-inspct</td>\n",
              "      <td>Husband</td>\n",
              "      <td>White</td>\n",
              "      <td>Male</td>\n",
              "      <td>0</td>\n",
              "      <td>0</td>\n",
              "      <td>40</td>\n",
              "      <td>United-States</td>\n",
              "      <td>&lt;=50K</td>\n",
              "    </tr>\n",
              "    <tr>\n",
              "      <th>35023</th>\n",
              "      <td>58</td>\n",
              "      <td>Private</td>\n",
              "      <td>265579</td>\n",
              "      <td>HS-grad</td>\n",
              "      <td>9</td>\n",
              "      <td>Divorced</td>\n",
              "      <td>Adm-clerical</td>\n",
              "      <td>Not-in-family</td>\n",
              "      <td>White</td>\n",
              "      <td>Female</td>\n",
              "      <td>0</td>\n",
              "      <td>0</td>\n",
              "      <td>40</td>\n",
              "      <td>United-States</td>\n",
              "      <td>&lt;=50K.</td>\n",
              "    </tr>\n",
              "  </tbody>\n",
              "</table>\n",
              "</div>"
            ],
            "text/plain": [
              "       age         workclass  fnlwgt     education  education-num  \\\n",
              "25316   40           Private  321856       HS-grad              9   \n",
              "48575   28  Self-emp-not-inc  141702       HS-grad              9   \n",
              "6576    39           Private  211440     Bachelors             13   \n",
              "31453   33           Private  207201       HS-grad              9   \n",
              "44345   25           Private  267594  Some-college             10   \n",
              "9194    39         State-gov   99156     Doctorate             16   \n",
              "18764   52      Self-emp-inc  561489       Masters             14   \n",
              "22497   28           Private  272913          10th              6   \n",
              "6269    24           Private   86745     Bachelors             13   \n",
              "4983    34           Private  117963   Prof-school             15   \n",
              "37076   26           Private  181838       HS-grad              9   \n",
              "44336   46      Self-emp-inc  222829       Masters             14   \n",
              "2149    29           Private   75648  Some-college             10   \n",
              "45489   24           Private  188569       Masters             14   \n",
              "18960   45  Self-emp-not-inc  319122     Bachelors             13   \n",
              "4517    47           Private  197836       HS-grad              9   \n",
              "11057   33           Private  150154  Some-college             10   \n",
              "38861   50           Private  143804       HS-grad              9   \n",
              "10930   59           Private  186385          10th              6   \n",
              "35023   58           Private  265579       HS-grad              9   \n",
              "\n",
              "           marital-status         occupation    relationship  \\\n",
              "25316            Divorced   Transport-moving   Not-in-family   \n",
              "48575       Never-married              Sales   Not-in-family   \n",
              "6576   Married-civ-spouse              Sales         Husband   \n",
              "31453  Married-civ-spouse  Machine-op-inspct         Husband   \n",
              "44345  Married-civ-spouse       Adm-clerical            Wife   \n",
              "9194   Married-civ-spouse     Prof-specialty         Husband   \n",
              "18764            Divorced    Exec-managerial   Not-in-family   \n",
              "22497  Married-civ-spouse  Handlers-cleaners         Husband   \n",
              "6269   Married-civ-spouse     Prof-specialty  Other-relative   \n",
              "4983   Married-civ-spouse     Prof-specialty         Husband   \n",
              "37076  Married-civ-spouse  Machine-op-inspct         Husband   \n",
              "44336  Married-civ-spouse    Exec-managerial         Husband   \n",
              "2149   Married-civ-spouse       Craft-repair         Husband   \n",
              "45489       Never-married    Exec-managerial       Own-child   \n",
              "18960       Never-married              Sales   Not-in-family   \n",
              "4517   Married-civ-spouse              Sales         Husband   \n",
              "11057  Married-civ-spouse       Craft-repair         Husband   \n",
              "38861       Never-married       Craft-repair       Own-child   \n",
              "10930  Married-civ-spouse  Machine-op-inspct         Husband   \n",
              "35023            Divorced       Adm-clerical   Not-in-family   \n",
              "\n",
              "                     race     sex  capital-gain  capital-loss  hours-per-week  \\\n",
              "25316               White    Male             0             0              60   \n",
              "48575               White    Male             0             0              60   \n",
              "6576                White    Male             0             0              50   \n",
              "31453               White    Male             0             0              55   \n",
              "44345               White  Female             0             0              40   \n",
              "9194                White    Male             0             0              50   \n",
              "18764               Black  Female             0             0              50   \n",
              "22497               White    Male             0             0              30   \n",
              "6269   Asian-Pac-Islander  Female             0             0              40   \n",
              "4983                White    Male             0             0              50   \n",
              "37076               White    Male             0             0              50   \n",
              "44336               White    Male             0             0              60   \n",
              "2149                White    Male             0             0              55   \n",
              "45489               White  Female          4787             0              60   \n",
              "18960               White    Male         14084             0              45   \n",
              "4517                White    Male             0             0              45   \n",
              "11057               White    Male             0             0              40   \n",
              "38861               White    Male             0             0              55   \n",
              "10930               White    Male             0             0              40   \n",
              "35023               White  Female             0             0              40   \n",
              "\n",
              "      native-country  income  \n",
              "25316  United-States    >50K  \n",
              "48575  United-States  <=50K.  \n",
              "6576   United-States    >50K  \n",
              "31453  United-States    >50K  \n",
              "44345  United-States  <=50K.  \n",
              "9194   United-States    >50K  \n",
              "18764  United-States   <=50K  \n",
              "22497         Mexico   <=50K  \n",
              "6269     Philippines   <=50K  \n",
              "4983   United-States    >50K  \n",
              "37076  United-States  <=50K.  \n",
              "44336  United-States   >50K.  \n",
              "2149   United-States   <=50K  \n",
              "45489  United-States   >50K.  \n",
              "18960  United-States    >50K  \n",
              "4517   United-States   <=50K  \n",
              "11057  United-States   <=50K  \n",
              "38861  United-States  <=50K.  \n",
              "10930  United-States   <=50K  \n",
              "35023  United-States  <=50K.  "
            ]
          },
          "execution_count": 165,
          "metadata": {},
          "output_type": "execute_result"
        }
      ],
      "source": [
        "data = pd.read_csv('./income.csv').dropna() # membaca data dari file csv\n",
        "data.sample(20) # menampilkan 10 baris data secara acak"
      ]
    },
    {
      "cell_type": "code",
      "execution_count": 166,
      "metadata": {},
      "outputs": [
        {
          "data": {
            "text/html": [
              "<div>\n",
              "<style scoped>\n",
              "    .dataframe tbody tr th:only-of-type {\n",
              "        vertical-align: middle;\n",
              "    }\n",
              "\n",
              "    .dataframe tbody tr th {\n",
              "        vertical-align: top;\n",
              "    }\n",
              "\n",
              "    .dataframe thead th {\n",
              "        text-align: right;\n",
              "    }\n",
              "</style>\n",
              "<table border=\"1\" class=\"dataframe\">\n",
              "  <thead>\n",
              "    <tr style=\"text-align: right;\">\n",
              "      <th></th>\n",
              "      <th>age</th>\n",
              "      <th>fnlwgt</th>\n",
              "      <th>education-num</th>\n",
              "      <th>capital-gain</th>\n",
              "      <th>capital-loss</th>\n",
              "      <th>hours-per-week</th>\n",
              "    </tr>\n",
              "  </thead>\n",
              "  <tbody>\n",
              "    <tr>\n",
              "      <th>count</th>\n",
              "      <td>47621.000000</td>\n",
              "      <td>4.762100e+04</td>\n",
              "      <td>47621.000000</td>\n",
              "      <td>47621.000000</td>\n",
              "      <td>47621.000000</td>\n",
              "      <td>47621.000000</td>\n",
              "    </tr>\n",
              "    <tr>\n",
              "      <th>mean</th>\n",
              "      <td>38.640684</td>\n",
              "      <td>1.897271e+05</td>\n",
              "      <td>10.090821</td>\n",
              "      <td>1091.137649</td>\n",
              "      <td>87.853489</td>\n",
              "      <td>40.600050</td>\n",
              "    </tr>\n",
              "    <tr>\n",
              "      <th>std</th>\n",
              "      <td>13.558961</td>\n",
              "      <td>1.055695e+05</td>\n",
              "      <td>2.568320</td>\n",
              "      <td>7487.228336</td>\n",
              "      <td>404.010612</td>\n",
              "      <td>12.260345</td>\n",
              "    </tr>\n",
              "    <tr>\n",
              "      <th>min</th>\n",
              "      <td>17.000000</td>\n",
              "      <td>1.228500e+04</td>\n",
              "      <td>1.000000</td>\n",
              "      <td>0.000000</td>\n",
              "      <td>0.000000</td>\n",
              "      <td>1.000000</td>\n",
              "    </tr>\n",
              "    <tr>\n",
              "      <th>25%</th>\n",
              "      <td>28.000000</td>\n",
              "      <td>1.175840e+05</td>\n",
              "      <td>9.000000</td>\n",
              "      <td>0.000000</td>\n",
              "      <td>0.000000</td>\n",
              "      <td>40.000000</td>\n",
              "    </tr>\n",
              "    <tr>\n",
              "      <th>50%</th>\n",
              "      <td>37.000000</td>\n",
              "      <td>1.782820e+05</td>\n",
              "      <td>10.000000</td>\n",
              "      <td>0.000000</td>\n",
              "      <td>0.000000</td>\n",
              "      <td>40.000000</td>\n",
              "    </tr>\n",
              "    <tr>\n",
              "      <th>75%</th>\n",
              "      <td>48.000000</td>\n",
              "      <td>2.377200e+05</td>\n",
              "      <td>12.000000</td>\n",
              "      <td>0.000000</td>\n",
              "      <td>0.000000</td>\n",
              "      <td>45.000000</td>\n",
              "    </tr>\n",
              "    <tr>\n",
              "      <th>max</th>\n",
              "      <td>90.000000</td>\n",
              "      <td>1.490400e+06</td>\n",
              "      <td>16.000000</td>\n",
              "      <td>99999.000000</td>\n",
              "      <td>4356.000000</td>\n",
              "      <td>99.000000</td>\n",
              "    </tr>\n",
              "  </tbody>\n",
              "</table>\n",
              "</div>"
            ],
            "text/plain": [
              "                age        fnlwgt  education-num  capital-gain  capital-loss  \\\n",
              "count  47621.000000  4.762100e+04   47621.000000  47621.000000  47621.000000   \n",
              "mean      38.640684  1.897271e+05      10.090821   1091.137649     87.853489   \n",
              "std       13.558961  1.055695e+05       2.568320   7487.228336    404.010612   \n",
              "min       17.000000  1.228500e+04       1.000000      0.000000      0.000000   \n",
              "25%       28.000000  1.175840e+05       9.000000      0.000000      0.000000   \n",
              "50%       37.000000  1.782820e+05      10.000000      0.000000      0.000000   \n",
              "75%       48.000000  2.377200e+05      12.000000      0.000000      0.000000   \n",
              "max       90.000000  1.490400e+06      16.000000  99999.000000   4356.000000   \n",
              "\n",
              "       hours-per-week  \n",
              "count    47621.000000  \n",
              "mean        40.600050  \n",
              "std         12.260345  \n",
              "min          1.000000  \n",
              "25%         40.000000  \n",
              "50%         40.000000  \n",
              "75%         45.000000  \n",
              "max         99.000000  "
            ]
          },
          "execution_count": 166,
          "metadata": {},
          "output_type": "execute_result"
        }
      ],
      "source": [
        "data.describe() # menampilkan statistik data"
      ]
    },
    {
      "cell_type": "markdown",
      "metadata": {},
      "source": [
        "## 4. Mengonversi dan Menormalisasi Data"
      ]
    },
    {
      "cell_type": "code",
      "execution_count": 167,
      "metadata": {},
      "outputs": [
        {
          "name": "stdout",
          "output_type": "stream",
          "text": [
            "(47621, 100) (47621,)\n",
            "[[ 0.02650056 -1.06292396  1.13272862 ...  1.          0.\n",
            "   0.        ]\n",
            " [ 0.83778069 -1.00803062  1.13272862 ...  1.          0.\n",
            "   0.        ]\n",
            " [-0.04725218  0.24551736 -0.42472622 ...  1.          0.\n",
            "   0.        ]\n",
            " ...\n",
            " [-0.04725218  1.75484274  1.13272862 ...  1.          0.\n",
            "   0.        ]\n",
            " [ 0.39526426 -1.00253655  1.13272862 ...  1.          0.\n",
            "   0.        ]\n",
            " [-0.2685104  -0.07179363  1.13272862 ...  1.          0.\n",
            "   0.        ]] \n",
            " [0 0 0 ... 0 0 1]\n"
          ]
        }
      ],
      "source": [
        "# Menghapus spasi tambahan dari kolom kategori jika ada\n",
        "data = data.apply(lambda x: x.str.strip(' .') if x.dtype == \"object\" else x)\n",
        "\n",
        "# Mengubah target menjadi biner (0 = <=50K, 1 = >50K)\n",
        "data['income'] = LabelEncoder().fit_transform(data['income'])\n",
        "\n",
        "# Memisahkan fitur numerik dan kategorikal\n",
        "num_cols = data.drop(columns=['income']).select_dtypes(include=['int64', 'float64']).columns.tolist()\n",
        "cat_cols = data.select_dtypes(include=['object']).columns.tolist()\n",
        "\n",
        "# Mengonversi variabel kategori menggunakan One-Hot Encoding\n",
        "data = pd.get_dummies(data, columns=cat_cols, drop_first=True, dtype=int)\n",
        "\n",
        "# Normalisasi fitur numerik\n",
        "scaler = StandardScaler()\n",
        "data[num_cols] = scaler.fit_transform(data[num_cols])\n",
        "\n",
        "# Memisahkan fitur (X) dan target (y)\n",
        "X = data.drop(columns=['income']).values\n",
        "y = data['income'].values\n",
        "\n",
        "print(X.shape, y.shape)\n",
        "print(X, \"\\n\", y) # menampilkan data fitur dan label\n",
        "\n",
        "# Memisahkan data menjadi data latih dan data uji\n",
        "X_train, X_test, y_train, y_test = train_test_split(X, y, test_size=0.2, random_state=42)"
      ]
    },
    {
      "cell_type": "markdown",
      "metadata": {},
      "source": [
        "## 5. Mempersiapkan Rumus Evaluasi (Akurasi, Presisi, Recall, F1Squared, AUC, ROC)"
      ]
    },
    {
      "cell_type": "code",
      "execution_count": 168,
      "metadata": {},
      "outputs": [],
      "source": [
        "# Fungsinya untuk menghitung metrik evaluasi\n",
        "# Metrik evaluasi yang digunakan adalah akurasi, presisi, recall, F1-score, AUC, dan ROC\n",
        "\n",
        "def calculate_metrics(y_true, y_pred):\n",
        "    accuracy = accuracy_score(y_true, y_pred)\n",
        "    precision = precision_score(y_true, y_pred)\n",
        "    recall = recall_score(y_true, y_pred)\n",
        "    f1 = f1_score(y_true, y_pred)\n",
        "    fpr, tpr, _ = roc_curve(y_true, y_pred)\n",
        "    auc_score = auc(fpr, tpr)\n",
        "\n",
        "    return accuracy, precision, recall, f1, auc_score, fpr, tpr "
      ]
    },
    {
      "cell_type": "markdown",
      "metadata": {},
      "source": [
        "## 6. Membuat Fungsi Visualisasi"
      ]
    },
    {
      "cell_type": "code",
      "execution_count": 169,
      "metadata": {},
      "outputs": [],
      "source": [
        "# Fungsinya untuk menampilkan matrix kebingungan (confusion matrix) untuk mengevaluasi model\n",
        "# Matrix kebingungan ini menunjukkan persentase prediksi yang benar dan salah\n",
        "def visualize_results(y_true, y_pred):\n",
        "    cm = confusion_matrix(y_true, y_pred)\n",
        "    plt.matshow(cm, cmap='Blues')\n",
        "    plt.colorbar()\n",
        "\n",
        "    for i in range(cm.shape[0]):\n",
        "        for j in range(cm.shape[1]):\n",
        "            plt.text(j, i, f'{cm[i, j] / cm.sum() * 100:.2f}%', ha='center', va='bottom', color='lavender' if cm[i, j] > cm.max() / 2 else 'black')\n",
        "\n",
        "    plt.ylabel('True label')\n",
        "    plt.xlabel('Predicted label')\n",
        "    plt.show()\n",
        "\n",
        "# Fungsinya untuk menampilkan plot hasil training model \n",
        "def visualize_training(history):\n",
        "    if 'accuracy' in history:\n",
        "        plt.plot(history['val_accuracy'] if 'val_accuracy' in history else history['accuracy'])\n",
        "        plt.plot(history['accuracy'])\n",
        "        plt.title('Model accuracy')\n",
        "        plt.ylabel('Accuracy')\n",
        "        plt.xlabel('Epoch')\n",
        "        plt.legend(['Validation', 'Training'], loc='upper left')\n",
        "    plt.plot(history['val_loss'] if 'val_loss' in history else history['loss'])\n",
        "    plt.plot(history['loss'])\n",
        "    plt.yscale('log')\n",
        "    plt.title('Model loss')\n",
        "    plt.ylabel('Loss (log scale)')\n",
        "    plt.xlabel('Epoch')\n",
        "    if 'accuracy' in history:\n",
        "        plt.legend(['Validation accuracy', 'Training accuracy', 'Validation loss', 'Training loss'], loc='upper left')\n",
        "    elif 'val_loss' in history:\n",
        "        plt.legend(['Validation loss', 'Training loss'], loc='upper left')\n",
        "    else:\n",
        "        plt.legend(['Loss'], loc='upper left')\n",
        "    plt.show()"
      ]
    },
    {
      "cell_type": "markdown",
      "metadata": {
        "id": "jcWgoo2wv8Vi"
      },
      "source": [
        "# A. Deep Learning dengan PyTorch"
      ]
    },
    {
      "cell_type": "markdown",
      "metadata": {},
      "source": [
        "## 1. Mengimpor Library yang Dibutuhkan"
      ]
    },
    {
      "cell_type": "code",
      "execution_count": 170,
      "metadata": {
        "id": "Xt6VuniuwQGp"
      },
      "outputs": [],
      "source": [
        "import torch\n",
        "import torch.nn as nn # untuk membuat model neural network dengan pytorch\n",
        "import torch.optim as optim # untuk mengoptimalkan model neural network"
      ]
    },
    {
      "cell_type": "markdown",
      "metadata": {},
      "source": [
        "## 2. Mengonversi Dataset Menjadi Tipe Tensor PyTorch"
      ]
    },
    {
      "cell_type": "code",
      "execution_count": 171,
      "metadata": {},
      "outputs": [],
      "source": [
        "X_train_tensor = torch.tensor(X_train, dtype=torch.float32) # Mengubah data latih menjadi tensor\n",
        "y_train_tensor = torch.tensor(y_train, dtype=torch.float32) # Mengubah label data latih menjadi tensor\n",
        "X_test_tensor = torch.tensor(X_test, dtype=torch.float32) # Mengubah data uji menjadi tensor\n",
        "y_test_tensor = torch.tensor(y_test, dtype=torch.float32) # Mengubah label data uji menjadi tensor"
      ]
    },
    {
      "cell_type": "markdown",
      "metadata": {
        "id": "juIuOZz7wSxe"
      },
      "source": [
        "## 3. Menyusun Model Neural Network Sederhana\n"
      ]
    },
    {
      "cell_type": "code",
      "execution_count": 172,
      "metadata": {},
      "outputs": [],
      "source": [
        "# Mendefinisikan model sederhana (Multi-Layer Perceptron)\n",
        "class SimpleNN(torch.nn.Module):\n",
        "    def __init__(self, input_dim, hidden_dim, output_dim):\n",
        "        super(SimpleNN, self).__init__()\n",
        "        self.model = nn.Sequential(\n",
        "            nn.Linear(input_dim, hidden_dim),\n",
        "            nn.ReLU(),\n",
        "            nn.Linear(hidden_dim, output_dim)\n",
        "        )\n",
        "    \n",
        "    def forward(self, x):\n",
        "        return self.model(x)\n",
        "    \n",
        "input_dim = X_train.shape[1] # Jumlah fitur\n",
        "hidden_dim = 128 # Jumlah neuron pada hidden layer\n",
        "output_dim = 1 # Jumlah neuron pada output layer\n",
        "\n",
        "model = SimpleNN(input_dim, hidden_dim, output_dim) # Membuat model"
      ]
    },
    {
      "cell_type": "markdown",
      "metadata": {
        "id": "MnKWNddrwaWG"
      },
      "source": [
        "## 4. Menyiapkan Optimizer dan Loss Function"
      ]
    },
    {
      "cell_type": "code",
      "execution_count": 173,
      "metadata": {},
      "outputs": [],
      "source": [
        "criterion = nn.BCEWithLogitsLoss() # Menggunakan Binary Cross Entropy with Logits Loss \n",
        "optimizer = optim.Adam(model.parameters(), lr=0.005) # Menggunakan Adam optimizer"
      ]
    },
    {
      "cell_type": "markdown",
      "metadata": {
        "id": "Tjndrp73wgkY"
      },
      "source": [
        "## 5. Melatih Model"
      ]
    },
    {
      "cell_type": "code",
      "execution_count": 174,
      "metadata": {},
      "outputs": [
        {
          "name": "stdout",
          "output_type": "stream",
          "text": [
            "Epoch 0, loss=0.6741129755973816\n",
            "Epoch 10, loss=0.41131240129470825\n",
            "Epoch 20, loss=0.35066187381744385\n",
            "Epoch 30, loss=0.3295881152153015\n",
            "Epoch 40, loss=0.32092490792274475\n",
            "Epoch 50, loss=0.3148594796657562\n",
            "Epoch 60, loss=0.3107011914253235\n",
            "Epoch 70, loss=0.30739811062812805\n",
            "Epoch 80, loss=0.304895281791687\n",
            "Epoch 90, loss=0.3028811514377594\n"
          ]
        }
      ],
      "source": [
        "# Melatih model\n",
        "num_epochs = 100 # Jumlah iterasi pelatihan\n",
        "history = pd.DataFrame() # Menyimpan statistik pelatihan\n",
        "\n",
        "for epoch in range(num_epochs):\n",
        "    optimizer.zero_grad() # Mengatur gradien menjadi 0 sebelum melakukan backpropagation\n",
        "    y_pred = model(X_train_tensor) # Memprediksi data latih\n",
        "    loss = criterion(y_pred, y_train_tensor.unsqueeze(1)) # Menghitung loss\n",
        "    loss.backward() # Backpropagation\n",
        "    optimizer.step() # Update bobot\n",
        "    \n",
        "    if epoch % 10 == 0:\n",
        "        print(f'Epoch {epoch}, loss={loss.item()}')\n",
        "\n",
        "    # Menyimpan statistik pelatihan untuk menampilkan plot\n",
        "    history = pd.concat([history, pd.DataFrame({'epoch': [epoch], 'loss': [loss.item()]})], ignore_index=True)"
      ]
    },
    {
      "cell_type": "markdown",
      "metadata": {},
      "source": [
        "## 6. Mengevaluasi Model dengan Menghitung MSE, RMSE, dan RSquared"
      ]
    },
    {
      "cell_type": "code",
      "execution_count": 175,
      "metadata": {},
      "outputs": [
        {
          "name": "stdout",
          "output_type": "stream",
          "text": [
            "Accuracy: 0.8518635170603674\n",
            "Precision: 0.7489451476793249\n",
            "Recall: 0.6029723991507431\n",
            "F1-score: 0.6680780992707598\n",
            "AUC: 0.7682923362559851\n",
            "ROC: 0.06638772663877267, 0.6029723991507431\n"
          ]
        }
      ],
      "source": [
        "model.eval() # Mengubah model menjadi mode evaluasi\n",
        "y_pred = model(X_test_tensor) # Memprediksi data uji\n",
        "\n",
        "# Menghitung metrik evaluasi\n",
        "y_pred = (y_pred > 0).float()\n",
        "accuracy, precision, recall, f1, auc_score, fpr, tpr = calculate_metrics(y_test_tensor, y_pred)\n",
        "\n",
        "print(f'Accuracy: {accuracy}')\n",
        "print(f'Precision: {precision}')\n",
        "print(f'Recall: {recall}')\n",
        "print(f'F1-score: {f1}')\n",
        "print(f'AUC: {auc_score}')\n",
        "print(f'ROC: {fpr[1]}, {tpr[1]}')"
      ]
    },
    {
      "cell_type": "markdown",
      "metadata": {},
      "source": [
        "## 7. Memvisualisasikan Prediksi dari model yang telah dilatih"
      ]
    },
    {
      "cell_type": "code",
      "execution_count": 176,
      "metadata": {},
      "outputs": [
        {
          "data": {
            "image/png": "[encoded data removed]",
            "text/plain": [
              "<Figure size 480x480 with 2 Axes>"
            ]
          },
          "metadata": {},
          "output_type": "display_data"
        },
        {
          "data": {
            "image/png": "[encoded data removed]",
            "text/plain": [
              "<Figure size 640x480 with 1 Axes>"
            ]
          },
          "metadata": {},
          "output_type": "display_data"
        }
      ],
      "source": [
        "# Menampilkan plot hasil prediksi\n",
        "visualize_results(y_test, y_pred.detach().numpy())\n",
        "\n",
        "# Menampilkan plot hasil training\n",
        "visualize_training(history)\n",
        "\n",
        "# Menyimpan model\n",
        "torch.save(model.state_dict(), 'model_pytorch_income.pth')"
      ]
    },
    {
      "cell_type": "markdown",
      "metadata": {
        "id": "bDTeEKQnwoon"
      },
      "source": [
        "# B. Deep Learning dengan TensorFlow"
      ]
    },
    {
      "cell_type": "markdown",
      "metadata": {
        "id": "sEcuhK7kxBfZ"
      },
      "source": [
        "## 2. Import Library yang Dibutuhkan"
      ]
    },
    {
      "cell_type": "code",
      "execution_count": null,
      "metadata": {
        "id": "2BzJ_iBvxCqa"
      },
      "outputs": [],
      "source": [
        "import tensorflow as tf\n",
        "from tensorflow.keras.models import Sequential # untuk membuat model neural network\n",
        "from tensorflow.keras.layers import Dense, Input # untuk menambah layer pada model\n",
        "import matplotlib.pyplot as plt # untuk membuat plot"
      ]
    },
    {
      "cell_type": "markdown",
      "metadata": {
        "id": "ZgRBaf-exFzO"
      },
      "source": [
        "## 3. Penyusunan Model Neural Network\n"
      ]
    },
    {
      "cell_type": "code",
      "execution_count": 178,
      "metadata": {},
      "outputs": [],
      "source": [
        "# Menentukan hyperparameter model\n",
        "input_dim = X_train.shape[1] # Jumlah fitur\n",
        "hidden_dim = 64 # Jumlah neuron pada hidden layer\n",
        "output_dim = 1 # Jumlah neuron pada output layer\n",
        "\n",
        "model_tf = Sequential([\n",
        "    Input(shape=(input_dim,)),\n",
        "    Dense(hidden_dim, activation='relu'),\n",
        "    Dense(hidden_dim, activation='relu'),\n",
        "    Dense(1, activation='relu')\n",
        "])"
      ]
    },
    {
      "cell_type": "markdown",
      "metadata": {
        "id": "gNiS9Tt2xK9U"
      },
      "source": [
        "## 4. Kompilasi Model"
      ]
    },
    {
      "cell_type": "code",
      "execution_count": 179,
      "metadata": {},
      "outputs": [],
      "source": [
        "# Kompilasi model\n",
        "model_tf.compile(optimizer='adam', loss='binary_crossentropy', metrics=['accuracy'])"
      ]
    },
    {
      "cell_type": "markdown",
      "metadata": {
        "id": "pFkCD0eMxWZN"
      },
      "source": [
        "## 5. Pelatihan Model"
      ]
    },
    {
      "cell_type": "code",
      "execution_count": 180,
      "metadata": {},
      "outputs": [
        {
          "name": "stdout",
          "output_type": "stream",
          "text": [
            "Epoch 1/20\n",
            "\u001b[1m1191/1191\u001b[0m \u001b[32m━━━━━━━━━━━━━━━━━━━━\u001b[0m\u001b[37m\u001b[0m \u001b[1m4s\u001b[0m 2ms/step - accuracy: 0.8297 - loss: 0.4586 - val_accuracy: 0.8442 - val_loss: 0.3674\n",
            "Epoch 2/20\n",
            "\u001b[1m1191/1191\u001b[0m \u001b[32m━━━━━━━━━━━━━━━━━━━━\u001b[0m\u001b[37m\u001b[0m \u001b[1m2s\u001b[0m 2ms/step - accuracy: 0.8508 - loss: 0.3769 - val_accuracy: 0.8502 - val_loss: 0.3709\n",
            "Epoch 3/20\n",
            "\u001b[1m1191/1191\u001b[0m \u001b[32m━━━━━━━━━━━━━━━━━━━━\u001b[0m\u001b[37m\u001b[0m \u001b[1m2s\u001b[0m 2ms/step - accuracy: 0.8551 - loss: 0.3516 - val_accuracy: 0.8531 - val_loss: 0.3512\n",
            "Epoch 4/20\n",
            "\u001b[1m1191/1191\u001b[0m \u001b[32m━━━━━━━━━━━━━━━━━━━━\u001b[0m\u001b[37m\u001b[0m \u001b[1m2s\u001b[0m 2ms/step - accuracy: 0.8553 - loss: 0.3597 - val_accuracy: 0.8499 - val_loss: 0.3634\n",
            "Epoch 5/20\n",
            "\u001b[1m1191/1191\u001b[0m \u001b[32m━━━━━━━━━━━━━━━━━━━━\u001b[0m\u001b[37m\u001b[0m \u001b[1m2s\u001b[0m 1ms/step - accuracy: 0.8558 - loss: 0.3498 - val_accuracy: 0.8512 - val_loss: 0.3534\n",
            "Epoch 6/20\n",
            "\u001b[1m1191/1191\u001b[0m \u001b[32m━━━━━━━━━━━━━━━━━━━━\u001b[0m\u001b[37m\u001b[0m \u001b[1m2s\u001b[0m 1ms/step - accuracy: 0.8578 - loss: 0.3502 - val_accuracy: 0.8519 - val_loss: 0.3706\n",
            "Epoch 7/20\n",
            "\u001b[1m1191/1191\u001b[0m \u001b[32m━━━━━━━━━━━━━━━━━━━━\u001b[0m\u001b[37m\u001b[0m \u001b[1m2s\u001b[0m 1ms/step - accuracy: 0.8601 - loss: 0.3401 - val_accuracy: 0.8547 - val_loss: 0.3561\n",
            "Epoch 8/20\n",
            "\u001b[1m1191/1191\u001b[0m \u001b[32m━━━━━━━━━━━━━━━━━━━━\u001b[0m\u001b[37m\u001b[0m \u001b[1m2s\u001b[0m 1ms/step - accuracy: 0.8635 - loss: 0.3339 - val_accuracy: 0.8530 - val_loss: 0.3513\n",
            "Epoch 9/20\n",
            "\u001b[1m1191/1191\u001b[0m \u001b[32m━━━━━━━━━━━━━━━━━━━━\u001b[0m\u001b[37m\u001b[0m \u001b[1m2s\u001b[0m 1ms/step - accuracy: 0.8604 - loss: 0.3271 - val_accuracy: 0.8549 - val_loss: 0.3557\n",
            "Epoch 10/20\n",
            "\u001b[1m1191/1191\u001b[0m \u001b[32m━━━━━━━━━━━━━━━━━━━━\u001b[0m\u001b[37m\u001b[0m \u001b[1m2s\u001b[0m 1ms/step - accuracy: 0.8633 - loss: 0.3208 - val_accuracy: 0.8530 - val_loss: 0.3684\n",
            "Epoch 11/20\n",
            "\u001b[1m1191/1191\u001b[0m \u001b[32m━━━━━━━━━━━━━━━━━━━━\u001b[0m\u001b[37m\u001b[0m \u001b[1m2s\u001b[0m 1ms/step - accuracy: 0.8619 - loss: 0.3188 - val_accuracy: 0.8556 - val_loss: 0.3630\n",
            "Epoch 12/20\n",
            "\u001b[1m1191/1191\u001b[0m \u001b[32m━━━━━━━━━━━━━━━━━━━━\u001b[0m\u001b[37m\u001b[0m \u001b[1m2s\u001b[0m 2ms/step - accuracy: 0.8635 - loss: 0.3266 - val_accuracy: 0.8539 - val_loss: 0.3742\n",
            "Epoch 13/20\n",
            "\u001b[1m1191/1191\u001b[0m \u001b[32m━━━━━━━━━━━━━━━━━━━━\u001b[0m\u001b[37m\u001b[0m \u001b[1m2s\u001b[0m 1ms/step - accuracy: 0.8694 - loss: 0.3156 - val_accuracy: 0.8504 - val_loss: 0.3768\n",
            "Epoch 14/20\n",
            "\u001b[1m1191/1191\u001b[0m \u001b[32m━━━━━━━━━━━━━━━━━━━━\u001b[0m\u001b[37m\u001b[0m \u001b[1m2s\u001b[0m 2ms/step - accuracy: 0.8680 - loss: 0.3145 - val_accuracy: 0.8509 - val_loss: 0.3727\n",
            "Epoch 15/20\n",
            "\u001b[1m1191/1191\u001b[0m \u001b[32m━━━━━━━━━━━━━━━━━━━━\u001b[0m\u001b[37m\u001b[0m \u001b[1m3s\u001b[0m 2ms/step - accuracy: 0.8650 - loss: 0.3203 - val_accuracy: 0.8545 - val_loss: 0.3602\n",
            "Epoch 16/20\n",
            "\u001b[1m1191/1191\u001b[0m \u001b[32m━━━━━━━━━━━━━━━━━━━━\u001b[0m\u001b[37m\u001b[0m \u001b[1m2s\u001b[0m 2ms/step - accuracy: 0.8693 - loss: 0.3221 - val_accuracy: 0.8525 - val_loss: 0.4006\n",
            "Epoch 17/20\n",
            "\u001b[1m1191/1191\u001b[0m \u001b[32m━━━━━━━━━━━━━━━━━━━━\u001b[0m\u001b[37m\u001b[0m \u001b[1m2s\u001b[0m 2ms/step - accuracy: 0.8681 - loss: 0.3175 - val_accuracy: 0.8525 - val_loss: 0.3725\n",
            "Epoch 18/20\n",
            "\u001b[1m1191/1191\u001b[0m \u001b[32m━━━━━━━━━━━━━━━━━━━━\u001b[0m\u001b[37m\u001b[0m \u001b[1m2s\u001b[0m 2ms/step - accuracy: 0.8739 - loss: 0.3078 - val_accuracy: 0.8428 - val_loss: 0.4050\n",
            "Epoch 19/20\n",
            "\u001b[1m1191/1191\u001b[0m \u001b[32m━━━━━━━━━━━━━━━━━━━━\u001b[0m\u001b[37m\u001b[0m \u001b[1m2s\u001b[0m 2ms/step - accuracy: 0.8692 - loss: 0.3196 - val_accuracy: 0.8527 - val_loss: 0.3880\n",
            "Epoch 20/20\n",
            "\u001b[1m1191/1191\u001b[0m \u001b[32m━━━━━━━━━━━━━━━━━━━━\u001b[0m\u001b[37m\u001b[0m \u001b[1m2s\u001b[0m 2ms/step - accuracy: 0.8688 - loss: 0.3171 - val_accuracy: 0.8524 - val_loss: 0.3988\n"
          ]
        }
      ],
      "source": [
        "# Melatih model\n",
        "history = model_tf.fit(X_train, y_train, epochs=20, batch_size=32, validation_data=(X_test, y_test), verbose=1)"
      ]
    },
    {
      "cell_type": "markdown",
      "metadata": {},
      "source": [
        "## 6. Evaluasi model dengan menghitung MSE, RMSE, dan RSquared"
      ]
    },
    {
      "cell_type": "code",
      "execution_count": 181,
      "metadata": {},
      "outputs": [
        {
          "name": "stdout",
          "output_type": "stream",
          "text": [
            "\u001b[1m298/298\u001b[0m \u001b[32m━━━━━━━━━━━━━━━━━━━━\u001b[0m\u001b[37m\u001b[0m \u001b[1m1s\u001b[0m 2ms/step\n",
            "Accuracy: 0.8523884514435696\n",
            "Precision: 0.7597153804050356\n",
            "Recall: 0.589384288747346\n",
            "F1-score: 0.6637972262075562\n",
            "AUC: 0.7640784763123062\n",
            "ROC: 0.061227336122733615, 0.589384288747346\n"
          ]
        }
      ],
      "source": [
        "# Memprediksi data uji\n",
        "y_pred = (model_tf.predict(X_test) > 0.5).astype(int).flatten()\n",
        "\n",
        "# Menghitung metrik evaluasi\n",
        "y_pred = (y_pred > 0.2).astype(int)\n",
        "accuracy, precision, recall, f1, auc_score, fpr, tpr = calculate_metrics(y_test, y_pred)\n",
        "\n",
        "print(f'Accuracy: {accuracy}')\n",
        "print(f'Precision: {precision}')\n",
        "print(f'Recall: {recall}')\n",
        "print(f'F1-score: {f1}')\n",
        "print(f'AUC: {auc_score}')\n",
        "print(f'ROC: {fpr[1]}, {tpr[1]}')"
      ]
    },
    {
      "cell_type": "markdown",
      "metadata": {},
      "source": [
        "## 7. Memvisualisasikan Prediksi dari model yang telah dilatih"
      ]
    },
    {
      "cell_type": "code",
      "execution_count": 182,
      "metadata": {},
      "outputs": [
        {
          "data": {
            "image/png": "[encoded data removed]",
            "text/plain": [
              "<Figure size 480x480 with 2 Axes>"
            ]
          },
          "metadata": {},
          "output_type": "display_data"
        },
        {
          "data": {
            "image/png": "[encoded data removed]",
            "text/plain": [
              "<Figure size 640x480 with 1 Axes>"
            ]
          },
          "metadata": {},
          "output_type": "display_data"
        }
      ],
      "source": [
        "# Menampilkan plot hasil prediksi\n",
        "visualize_results(y_test, y_pred)\n",
        "\n",
        "# Menampilkan plot hasil training\n",
        "visualize_training(history.history)\n",
        "\n",
        "# Menyimpan model\n",
        "model_tf.save('model_tensorflow_income.keras')"
      ]
    }
  ],
  "metadata": {
    "colab": {
      "authorship_tag": "ABX9TyPkzN+0XcSgb//oXY25G2I+",
      "collapsed_sections": [
        "sEcuhK7kxBfZ"
      ],
      "include_colab_link": true,
      "provenance": []
    },
    "kernelspec": {
      "display_name": "Python 3",
      "name": "python3"
    },
    "language_info": {
      "codemirror_mode": {
        "name": "ipython",
        "version": 3
      },
      "file_extension": ".py",
      "mimetype": "text/x-python",
      "name": "python",
      "nbconvert_exporter": "python",
      "pygments_lexer": "ipython3",
      "version": "3.11.4"
    }
  },
  "nbformat": 4,
  "nbformat_minor": 0
}
